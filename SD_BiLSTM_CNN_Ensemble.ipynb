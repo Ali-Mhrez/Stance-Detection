{
  "nbformat": 4,
  "nbformat_minor": 0,
  "metadata": {
    "colab": {
      "provenance": [],
      "gpuType": "T4",
      "toc_visible": true
    },
    "kernelspec": {
      "name": "python3",
      "display_name": "Python 3"
    },
    "language_info": {
      "name": "python"
    },
    "accelerator": "GPU"
  },
  "cells": [
    {
      "cell_type": "markdown",
      "source": [
        "# Stance Detection Using Bidirectional Long Short-Term Memory Followed By Convolutional Neural Network\n",
        "\n",
        "`Convolutional Neural Networks` `Bidirectional Long Short-Term Memory`  `Ensemble Model`  \n",
        "`AraVec Word Vectors`  \n",
        "`AraStance Dataset`  \n",
        "`Stance Detection` `Arabic Language` `Transfer Learning`\n",
        "\n",
        "---\n",
        "\n",
        "In this notebook, we rely on an ensemble comprising a very simple bidirectional long short-term memory and a convolutional neural network to classify the stances of the articles in the AraStance dataset. The dataset was introduced in the paper:\n",
        "```\n",
        "AraStance: A Multi-Country and Multi-Domain Dataset of Arabic Stance Detection for Fact Checking.\n",
        "```\n",
        "The pretrained vectors (AraVec project) was introduced in the paper:\n",
        "```\n",
        "AraVec: A set of Arabic Word Embedding Models for use in Arabic NLP.\n",
        "```"
      ],
      "metadata": {
        "id": "5H1RrMEJPOXN"
      }
    },
    {
      "cell_type": "markdown",
      "source": [
        "## Packages"
      ],
      "metadata": {
        "id": "ze1WVX-tPTs0"
      }
    },
    {
      "cell_type": "code",
      "execution_count": null,
      "metadata": {
        "id": "uTVzv6NOPIow"
      },
      "outputs": [],
      "source": [
        "!pip install gensim\n",
        "!pip install pyarabic"
      ]
    },
    {
      "cell_type": "code",
      "source": [
        "import gensim\n",
        "import numpy as np\n",
        "import tensorflow as tf\n",
        "from matplotlib import pyplot as plt\n",
        "from sklearn.metrics import confusion_matrix, ConfusionMatrixDisplay\n",
        "from preprocessing import *\n",
        "from utils import AraStanceData, evaluate, stance_to_int"
      ],
      "metadata": {
        "id": "MXI8hIO7RXdp"
      },
      "execution_count": null,
      "outputs": []
    },
    {
      "cell_type": "markdown",
      "source": [
        "## Raw data"
      ],
      "metadata": {
        "id": "xgjr5SIkPbgP"
      }
    },
    {
      "cell_type": "markdown",
      "source": [
        "- Download the raw data:\n",
        "\n"
      ],
      "metadata": {
        "id": "veGgEXfZbS6D"
      }
    },
    {
      "cell_type": "code",
      "source": [
        "!wget https://github.com/Tariq60/arastance/archive/refs/heads/main.zip\n",
        "!unzip /content/main.zip"
      ],
      "metadata": {
        "id": "BZL5h8rmPiPX"
      },
      "execution_count": null,
      "outputs": []
    },
    {
      "cell_type": "markdown",
      "source": [
        "- Let's start by reading the raw data:"
      ],
      "metadata": {
        "id": "RPMF6e2qbWt8"
      }
    },
    {
      "cell_type": "code",
      "source": [
        "raw_train = AraStanceData(\"/content/arastance-main/data/train.jsonl\")\n",
        "raw_val = AraStanceData(\"/content/arastance-main/data/dev.jsonl\")\n",
        "raw_test = AraStanceData(\"/content/arastance-main/data/test.jsonl\")\n",
        "\n",
        "print(f'# training instances: {len(raw_train.stances)}')\n",
        "print(f'# validation instances: {len(raw_val.stances)}')\n",
        "print(f'# testing instances: {len(raw_test.stances)}')"
      ],
      "metadata": {
        "colab": {
          "base_uri": "https://localhost:8080/"
        },
        "id": "UHvBzBq3Pv7O",
        "outputId": "0169f269-7ffa-40c2-d598-c9cf0c023ed0"
      },
      "execution_count": null,
      "outputs": [
        {
          "output_type": "stream",
          "name": "stdout",
          "text": [
            "# training instances: 2848\n",
            "# validation instances: 569\n",
            "# testing instances: 646\n"
          ]
        }
      ]
    },
    {
      "cell_type": "markdown",
      "source": [
        "- Let's see an instance from the data:"
      ],
      "metadata": {
        "id": "6-RhBKLObZcc"
      }
    },
    {
      "cell_type": "code",
      "source": [
        "instance_no = 100\n",
        "print(f\"Claim text: {raw_train.claims[raw_train.article_claim[instance_no]]}\")\n",
        "print(f\"Article text: {raw_train.articles[instance_no]}\")\n",
        "print(f\"Stance: {raw_train.stances[instance_no]}\")"
      ],
      "metadata": {
        "colab": {
          "base_uri": "https://localhost:8080/"
        },
        "id": "1-cQ_grOTW2L",
        "outputId": "138fc4f9-03ce-44cd-a8c1-df0af38ce7d4"
      },
      "execution_count": null,
      "outputs": [
        {
          "output_type": "stream",
          "name": "stdout",
          "text": [
            "Claim text: حل سحري لحرق الدهون في الجسم\n",
            "Article text: رجيم العسل و الليمون لخسارة الوزن و حرق الدهون بطريقة أمنة و صحية و في وقت سريع هو الحل المثالي للتمتع بالرشاقة و الجسم المشدود الذي تحلمين به. يتميز رجيم العسل و الليمون بمذاق خليط العسل و الليمون اللذيذ و بفوائده الكثيرة للتخلص من السمنة و الكيلوغرامات الزائدة، وقد أكدت الكثير من الدراسات حقيقة و فعالية رجيم العسل و الليمون لحرق الدهون و تنقية الجسم من السموم و زيادة كمية البول. و من فوائد رجيم العسل و الليمون علاوة على خسارة الوزن و حرق الدهون، أنه يسدّ حاجة الجسم الى السكريات و يعمل على كبح الرغبة لتناول الطعام، و إمداد الجسم بالطاقة اللازمة طوال اليوم. كيفية تناول رجيم العسل و الليمون إذابة ملعقة صغيرة من العسل في ماء ساخن مع عصير ليمونة كاملة و شربه كل صباح على معدة خاوية و قبل تناول أي طعام. واظبي على تناول هذا المشروب لمدة شهر على الأقل بصفة يومية، مع الإلتزام باتباع نظام غذائي صحي يمنع فيه تناول الأطعمة الدسمة و الدهون إلى جانب ممارسة بعض التمرينات الرياضية و شرب الماء بكثرة، الأمر الذي سيساعد أيضاً على خسارة الوزن و الحصول على نتيجة مذهلة ستلاحظينها بنفسك بعد فترة قصيرة. كما ننصحك دائماً بمراجعة طبيبك قبل البدء بتطبيق أي رجيم لللتأكد من ملائمة الرجيم لك.\n",
            "Stance: Agree\n"
          ]
        }
      ]
    },
    {
      "cell_type": "markdown",
      "source": [
        "- Thus, the instances are triplets, Claim/Article/Stance.\n",
        "- Note that the original language of the data is Arabic."
      ],
      "metadata": {
        "id": "gI6qegIAbc40"
      }
    },
    {
      "cell_type": "markdown",
      "source": [
        "## Embedding layer"
      ],
      "metadata": {
        "id": "OSVmC4sOQZrQ"
      }
    },
    {
      "cell_type": "markdown",
      "source": [
        "- We will use AraVec pretrained word vectors to represent the input."
      ],
      "metadata": {
        "id": "CVidrwrpb018"
      }
    },
    {
      "cell_type": "markdown",
      "source": [
        "### Preprocessing"
      ],
      "metadata": {
        "id": "IUTsUjodPyoO"
      }
    },
    {
      "cell_type": "markdown",
      "source": [
        "- To increase the hit rate between the words in our raw data and the tokens (i.e. the keys in AraVec dictionary) in AraVec dictionary, we need to preprocess the data in a way similar to the preprocessing performed to produce those tokens."
      ],
      "metadata": {
        "id": "Db5XqX7HcBCk"
      }
    },
    {
      "cell_type": "markdown",
      "source": [
        "- Let's use the following function to preprocess the training, validation, and testing data:"
      ],
      "metadata": {
        "id": "T3ZshVO6dSbs"
      }
    },
    {
      "cell_type": "code",
      "source": [
        "# this function is resposible for the preprocessing routine\n",
        "def preprocess(instances):\n",
        "  instances = list(map(remove_puncuation, instances))\n",
        "  instances = list(map(remove_diacritics, instances))\n",
        "  instances = list(map(remove_longation, instances))\n",
        "  instances = list(map(remove_unicode_codes, instances))\n",
        "  instances = list(map(process_numerals, instances))\n",
        "  instances = list(map(normalize, instances))\n",
        "  instances = list(map(remove_extra_spaces, instances))\n",
        "  return instances"
      ],
      "metadata": {
        "id": "XnIRNj4uUJEw"
      },
      "execution_count": null,
      "outputs": []
    },
    {
      "cell_type": "markdown",
      "source": [
        "- Before preprocessing each claim article pair, we need to concatenate them."
      ],
      "metadata": {
        "id": "da_w2Ht6l-7r"
      }
    },
    {
      "cell_type": "code",
      "source": [
        "# preprocess training data\n",
        "train_instances = [raw_train.claims[raw_train.article_claim[idx]] + \" \" + article \\\n",
        "                  for idx, article in enumerate(raw_train.articles)]\n",
        "preprocessed_train_instances = preprocess(train_instances)\n",
        "\n",
        "# preprocess validation data\n",
        "val_instances = [raw_val.claims[raw_val.article_claim[idx]] + \" \" + article \\\n",
        "                  for idx, article in enumerate(raw_val.articles)]\n",
        "preprocessed_val_instances = preprocess(val_instances)\n",
        "\n",
        "# preprocess testing data\n",
        "test_instances = [raw_test.claims[raw_test.article_claim[idx]] + \" \" + article \\\n",
        "                  for idx, article in enumerate(raw_test.articles)]\n",
        "preprocessed_test_instances = preprocess(test_instances)"
      ],
      "metadata": {
        "id": "GMzoQNPHQp-F"
      },
      "execution_count": null,
      "outputs": []
    },
    {
      "cell_type": "markdown",
      "source": [
        "- Let's see a preprocessed instance:"
      ],
      "metadata": {
        "id": "dNMDVgALl2Mj"
      }
    },
    {
      "cell_type": "code",
      "source": [
        "instance_no = 100\n",
        "print(f\"Claim Article text: {preprocessed_train_instances[instance_no]}\")\n",
        "print(f\"Stance: {raw_train.stances[instance_no]}\")"
      ],
      "metadata": {
        "colab": {
          "base_uri": "https://localhost:8080/"
        },
        "id": "zSPVkWNSl74q",
        "outputId": "9cc48ee1-fc9a-4acc-aa61-968bb38a53db"
      },
      "execution_count": null,
      "outputs": [
        {
          "output_type": "stream",
          "name": "stdout",
          "text": [
            "Claim Article text: حل سحري لحرق الدهون في الجسم رجيم العسل و الليمون لخساره الوزن و حرق الدهون بطريقه امنه و صحيه و في وقت سريع هو الحل المثالي للتمتع بالرشاقه و الجسم المشدود الذي تحلمين به يتميز رجيم العسل و الليمون بمذاق خليط العسل و الليمون اللذيذ و بفوائده الكثيره للتخلص من السمنه و الكيلوغرامات الزائده وقد اكدت الكثير من الدراسات حقيقه و فعاليه رجيم العسل و الليمون لحرق الدهون و تنقيه الجسم من السموم و زياده كميه البول و من فوائد رجيم العسل و الليمون علاوه علي خساره الوزن و حرق الدهون انه يسد حاجه الجسم الي السكريات و يعمل علي كبح الرغبه لتناول الطعام و امداد الجسم بالطاقه اللازمه طوال اليوم كيفيه تناول رجيم العسل و الليمون اذابه ملعقه صغيره من العسل في ماء ساخن مع عصير ليمونه كامله و شربه كل صباح علي معده خاويه و قبل تناول اي طعام واظبي علي تناول هذا المشروب لمده شهر علي الاقل بصفه يوميه مع الالتزام باتباع نظام غذائي صحي يمنع فيه تناول الاطعمه الدسمه و الدهون الي جانب ممارسه بعض التمرينات الرياضيه و شرب الماء بكثره الامر الذي سيساعد ايضا علي خساره الوزن و الحصول علي نتيجه مذهله ستلاحظينها بنفسك بعد فتره قصيره كما ننصحك دائما بمراجعه طبيبك قبل البدء بتطبيق اي رجيم للتاكد من ملائمه الرجيم لك \n",
            "Stance: Agree\n"
          ]
        }
      ]
    },
    {
      "cell_type": "markdown",
      "source": [
        "### Initialization"
      ],
      "metadata": {
        "id": "CBUk122SeWEW"
      }
    },
    {
      "cell_type": "markdown",
      "source": [
        "- Download the pretrained vectors first:"
      ],
      "metadata": {
        "id": "jjBZW2LgeJc2"
      }
    },
    {
      "cell_type": "code",
      "source": [
        "!wget \"https://bakrianoo.ewr1.vultrobjects.com/aravec/full_uni_cbow_300_wiki.zip\"\n",
        "!unzip \"full_uni_cbow_300_wiki.zip\""
      ],
      "metadata": {
        "id": "xU0r6MLEPkln"
      },
      "execution_count": null,
      "outputs": []
    },
    {
      "cell_type": "markdown",
      "source": [
        "- Load the pretrained vectors:"
      ],
      "metadata": {
        "id": "0Eks7x5BepPb"
      }
    },
    {
      "cell_type": "code",
      "source": [
        "embedding_model = gensim.models.Word2Vec.load(\"full_uni_cbow_300_wiki.mdl\")\n",
        "print(\"AraVect project contains\",len(embedding_model.wv.index_to_key),\"tokens\")"
      ],
      "metadata": {
        "colab": {
          "base_uri": "https://localhost:8080/"
        },
        "id": "RUv2QkVfPxmH",
        "outputId": "8460b306-30c0-4c4e-f4e8-fa6d96c665df"
      },
      "execution_count": null,
      "outputs": [
        {
          "output_type": "stream",
          "name": "stdout",
          "text": [
            "AraVect project contains 320636 tokens\n"
          ]
        }
      ]
    },
    {
      "cell_type": "markdown",
      "source": [
        "- We need to decide on the words we are going to use in the final representation of each instance, so we will use a vectorization layer to learn a vocabulary from our training data. We allowed 30K tokens in our vocabulary.\n",
        "- We also going to need a word index, which maps words to indices like `{word1-->idx1, word2-->idx2, ...}`. The indices will be used to store the vector representation of each word in the embedding matrix."
      ],
      "metadata": {
        "id": "pRcSTqrQf0sc"
      }
    },
    {
      "cell_type": "code",
      "source": [
        "# Option 1 using TextVectorization layer\n",
        "# max_tokens represents the maximum size of the vocabulary\n",
        "vectorizer = tf.keras.layers.TextVectorization(max_tokens=30000, output_sequence_length=300, standardize=None)\n",
        "text_ds = tf.data.Dataset.from_tensor_slices(preprocessed_train_instances).batch(128)\n",
        "\n",
        "# learn the vocabulary based on the training data\n",
        "vectorizer.adapt(text_ds)\n",
        "\n",
        "voc = vectorizer.get_vocabulary()\n",
        "word_index = dict(zip(voc, range(len(voc))))\n",
        "\n",
        "# Option 2 using NLTK tokenizer\n",
        "# import nltk\n",
        "# from nltk import  word_tokenize\n",
        "# nltk.download('punkt')\n",
        "\n",
        "# def tokenization(text):\n",
        "#   return word_tokenize(text)\n",
        "\n",
        "# train_tokenized = list(map(tokenization, train_samples))\n",
        "# tokens = [token for sublist in train_tokenized for token in sublist]\n",
        "# tokens = set(tokens)\n",
        "# word_index = dict(zip(tokens, range(len(tokens))))\n",
        "# len(tokens)"
      ],
      "metadata": {
        "id": "iqA6lTkrQdu3"
      },
      "execution_count": null,
      "outputs": []
    },
    {
      "cell_type": "markdown",
      "source": [
        "- We are now ready to create an embedding matrix which maps token indices of our vocabulary to pretrained word vectors from AraVec project:"
      ],
      "metadata": {
        "id": "PPep_ER2h7xE"
      }
    },
    {
      "cell_type": "code",
      "source": [
        "num_tokens = len(voc) + 2\n",
        "embedding_dim = 300\n",
        "hits = 0\n",
        "misses = 0\n",
        "\n",
        "embedding_matrix = np.zeros((num_tokens, embedding_dim))\n",
        "for word, i in word_index.items():\n",
        "  if embedding_model.wv.__contains__(word):\n",
        "    embedding_matrix[i] = embedding_model.wv.get_vector(word)\n",
        "    hits += 1\n",
        "  else:\n",
        "    misses += 1\n",
        "print(\"Converted %d words (%d misses)\" % (hits, misses))"
      ],
      "metadata": {
        "colab": {
          "base_uri": "https://localhost:8080/"
        },
        "id": "Umm6q1LWQmae",
        "outputId": "b7548541-f70c-4f46-b71d-bd0cc9c34911"
      },
      "execution_count": null,
      "outputs": [
        {
          "output_type": "stream",
          "name": "stdout",
          "text": [
            "Converted 29578 words (422 misses)\n"
          ]
        }
      ]
    },
    {
      "cell_type": "markdown",
      "source": [
        "- Let's see the representation of a random token:"
      ],
      "metadata": {
        "id": "e9ACmLvGr2aO"
      }
    },
    {
      "cell_type": "code",
      "source": [
        "print(f\"The word 'الدهون' is at index {word_index['الدهون']}\")\n",
        "print(f\"The vector representation of 'الدهون' is {embedding_matrix[word_index['الدهون']]}\")"
      ],
      "metadata": {
        "colab": {
          "base_uri": "https://localhost:8080/"
        },
        "id": "uIMGs7g4r9Mw",
        "outputId": "f9642580-5b80-4d58-b40a-e94933c7f530"
      },
      "execution_count": null,
      "outputs": [
        {
          "output_type": "stream",
          "name": "stdout",
          "text": [
            "The word 'الدهون' is at index 3343\n",
            "The vector representation of 'الدهون' is [-4.30883217  1.56213009  1.8602798  -0.62370169 -2.35083222  2.39131665\n",
            "  3.77460217 -1.85717797 -0.66889107  2.38038826  0.89662308 -2.58325481\n",
            "  3.73695707 -0.36463404  3.16101193 -1.1231699  -1.37733424  2.83819652\n",
            " -2.2359736  -1.09134352  0.16668355  1.25111842 -0.63004589  0.97106349\n",
            "  0.78251129 -0.30544958 -1.88110328 -0.18281475 -2.12635398  0.90880096\n",
            " -0.36081177 -3.69800615 -1.2177031  -0.7795617   0.18667516  2.08246636\n",
            " -2.61052251  0.27115086 -0.49193525  3.81226754  1.93155444  3.08217645\n",
            "  1.65794206  0.27892774  3.40922952 -2.44117665  1.50639844 -1.45165777\n",
            " -0.59680653 -0.73478156  3.83109546  1.76000941 -0.65592682 -0.90347373\n",
            " -0.10801595  1.25446546 -0.57598352 -2.49452424  4.39183664  0.75693899\n",
            " -0.28275144 -1.35278165  1.25647521 -2.13251615  2.84499598 -4.5638032\n",
            " -1.21749437 -0.94446528 -1.64144588 -2.86300302  0.37953916  1.38427985\n",
            " -1.6805346   1.53442991 -3.00886559 -0.90665972  1.68954659 -1.14507842\n",
            "  1.42600036  2.62225699 -3.31185913  1.29292083 -2.04077196  0.90284824\n",
            "  1.7589035  -3.47517538  0.47683355 -1.59941387  0.09305107  0.24073057\n",
            "  0.81573337  1.88716233  0.1268115  -0.53068691  1.66735113 -0.89873922\n",
            " -4.03440952 -0.08579236 -1.30994964 -1.9382422  -1.53625917  1.84735668\n",
            "  0.87693    -0.88603902 -1.73038983 -0.71078748 -3.46073818  0.6078102\n",
            "  1.43936968  1.8088963   0.44377396  2.96954513  0.88114512  0.59670663\n",
            " -3.63731623 -0.45764056  0.46646342  0.3084504  -2.50179291  0.86532587\n",
            "  0.04380525  1.29518175 -0.34991953 -2.43980002 -2.69975257 -2.78106093\n",
            " -0.68463749  0.72746742 -0.51251578 -0.06988958 -0.89801961  0.12634452\n",
            "  2.13583541 -0.13552615  0.24554975 -0.01090595 -1.36802638 -0.97011143\n",
            "  1.83516037  1.55455172  3.36221528  0.14887282 -0.99205303  0.01849425\n",
            " -1.86960065 -3.82437348  3.47603345 -1.1158309  -0.06491921 -1.9964633\n",
            "  0.84542811  3.36385417  0.84224659 -3.08184528  0.55540311  2.24426436\n",
            "  1.18127501  0.40533417  0.74730307 -2.7187953   1.67888939 -1.13671446\n",
            "  0.87343127  0.80474865 -2.62550545 -2.06145525 -3.17199755 -0.88392222\n",
            " -0.17408338 -0.34874353 -0.416886    1.00807559  0.19915897 -1.44475639\n",
            "  0.57334203  3.50988126  2.11811924 -2.66244459  1.52491069  0.55773926\n",
            "  2.63707852  0.26819348  0.22310606 -2.13582349  1.90851653  1.13877845\n",
            " -2.15405464 -2.4744966  -0.44439927 -0.73870468  1.45491612  3.44722223\n",
            " -0.98150921 -2.10206556 -1.26799953 -1.842507    0.88409698  1.00030112\n",
            " -0.94287431 -2.36035085 -0.29437864  2.25866365  1.68527079  5.11186934\n",
            " -0.32352036  0.39366633 -0.23384714 -0.3933045  -3.03577781  2.05991125\n",
            " -0.19014259  3.83956242  0.64359468 -1.77258921 -0.7638365  -0.64686489\n",
            "  1.9029659   0.80695051 -0.0789325   2.26306701  1.59491634 -1.16584992\n",
            " -0.54211551 -2.05839443  1.66200769 -0.51159745 -0.34481531  0.82735097\n",
            " -1.84014559 -3.98311257  1.76207328 -3.1235106   1.4266398   2.08266068\n",
            "  1.25180209 -2.91636467 -2.4794755   0.65877825  0.76588333 -2.21361351\n",
            "  3.10482121 -0.53768998 -1.66987634  3.10786462 -0.76325125 -0.55622065\n",
            " -2.08883071 -1.36772192 -2.19993329  0.50293112 -0.69986808  1.6748209\n",
            "  1.79711449 -1.88298953  2.27623868  2.58512878 -2.10536337  1.54212332\n",
            " -1.56352389 -0.40592676 -0.77943361  0.62346512  3.6954596  -2.52885437\n",
            "  0.3706778  -1.63640845  0.41808549 -1.04561114  0.26408896  0.6010502\n",
            "  0.55164605 -0.82937658 -1.97521245  1.06609094 -0.05786491 -1.46948695\n",
            "  0.3753866   0.79489815  3.78537273  2.53257656  1.55448842  1.64498389\n",
            " -0.10886998  0.38942766  0.77783722  1.21774375 -0.11699988 -2.01629066\n",
            " -0.87261969  2.50768542 -0.67908329  1.38273215  0.29751244  0.18298155\n",
            "  0.71098572 -1.27977526 -0.81887686  0.34182027 -0.55321181 -0.76861036]\n"
          ]
        }
      ]
    },
    {
      "cell_type": "markdown",
      "source": [
        "- Let's initialize our embedding layer with the embedding matrix:"
      ],
      "metadata": {
        "id": "EOUrwkWEiKdN"
      }
    },
    {
      "cell_type": "code",
      "source": [
        "embedding_layer = tf.keras.layers.Embedding(\n",
        "    num_tokens,\n",
        "    embedding_dim,\n",
        "    embeddings_initializer=tf.keras.initializers.Constant(embedding_matrix),\n",
        "    trainable=False,\n",
        ")"
      ],
      "metadata": {
        "id": "Yrox_SSDiJyl"
      },
      "execution_count": null,
      "outputs": []
    },
    {
      "cell_type": "markdown",
      "source": [
        "## Datasets"
      ],
      "metadata": {
        "id": "rMoc7pwxQnv9"
      }
    },
    {
      "cell_type": "code",
      "source": [
        "batch_size = 128"
      ],
      "metadata": {
        "id": "TSO0rSyQQovs"
      },
      "execution_count": null,
      "outputs": []
    },
    {
      "cell_type": "markdown",
      "source": [
        "- Before creating the dataset, we need to vectorize the training, validation, and testing data using the adapted vectorizer. This means replace every word in an instance by its index in the word index:"
      ],
      "metadata": {
        "id": "2i4i2uS3g6zz"
      }
    },
    {
      "cell_type": "code",
      "source": [
        "x_train = vectorizer(np.array([[s] for s in preprocessed_train_instances])).numpy()\n",
        "x_val = vectorizer(np.array([[s] for s in preprocessed_val_instances])).numpy()\n",
        "x_test = vectorizer(np.array([[s] for s in preprocessed_test_instances])).numpy()"
      ],
      "metadata": {
        "id": "qvtv1-IfeKXM"
      },
      "execution_count": null,
      "outputs": []
    },
    {
      "cell_type": "markdown",
      "source": [
        "- Let's see a vectorized instance:"
      ],
      "metadata": {
        "id": "yNzH7VjZoaY3"
      }
    },
    {
      "cell_type": "code",
      "source": [
        "instance_no = 100\n",
        "print(f\"Original preprocessed instance: {preprocessed_train_instances[instance_no]}\")\n",
        "print(f\"Vectorized instance: {x_train[instance_no]}\")"
      ],
      "metadata": {
        "colab": {
          "base_uri": "https://localhost:8080/"
        },
        "id": "uK9Xg60socwR",
        "outputId": "ed9b3a6e-e541-486f-faad-3e28c8456b95"
      },
      "execution_count": null,
      "outputs": [
        {
          "output_type": "stream",
          "name": "stdout",
          "text": [
            "Original preprocessed instance: حل سحري لحرق الدهون في الجسم رجيم العسل و الليمون لخساره الوزن و حرق الدهون بطريقه امنه و صحيه و في وقت سريع هو الحل المثالي للتمتع بالرشاقه و الجسم المشدود الذي تحلمين به يتميز رجيم العسل و الليمون بمذاق خليط العسل و الليمون اللذيذ و بفوائده الكثيره للتخلص من السمنه و الكيلوغرامات الزائده وقد اكدت الكثير من الدراسات حقيقه و فعاليه رجيم العسل و الليمون لحرق الدهون و تنقيه الجسم من السموم و زياده كميه البول و من فوائد رجيم العسل و الليمون علاوه علي خساره الوزن و حرق الدهون انه يسد حاجه الجسم الي السكريات و يعمل علي كبح الرغبه لتناول الطعام و امداد الجسم بالطاقه اللازمه طوال اليوم كيفيه تناول رجيم العسل و الليمون اذابه ملعقه صغيره من العسل في ماء ساخن مع عصير ليمونه كامله و شربه كل صباح علي معده خاويه و قبل تناول اي طعام واظبي علي تناول هذا المشروب لمده شهر علي الاقل بصفه يوميه مع الالتزام باتباع نظام غذائي صحي يمنع فيه تناول الاطعمه الدسمه و الدهون الي جانب ممارسه بعض التمرينات الرياضيه و شرب الماء بكثره الامر الذي سيساعد ايضا علي خساره الوزن و الحصول علي نتيجه مذهله ستلاحظينها بنفسك بعد فتره قصيره كما ننصحك دائما بمراجعه طبيبك قبل البدء بتطبيق اي رجيم للتاكد من ملائمه الرجيم لك \n",
            "Vectorized instance: [  644 27578 17082  3343     2   792  8264  4242     4  9348 20196  3012\n",
            "     4  6291  3343  1249  3841     4  2343     4     2   247  3905    45\n",
            "  1556 23902 29982     1     4   792     1    13     1   131  6568  8264\n",
            "  4242     4  9348     1  8455  4242     4  9348     1     4     1 12360\n",
            "  6360     3 10516     4     1  9365    83  1039   312     3  1460  1185\n",
            "     4  6364  8264  4242     4  9348 17082  3343     4 13681   792     3\n",
            "  9364     4   306  1446 11563     4     3  4430  8264  4242     4  9348\n",
            "  3006     5  2657  3012     4  6291  3343    33     1  1672   792     7\n",
            "     1     4   836     5 20243  3919  9493  1323     4 11882   792 19383\n",
            "  1286  1639    63  2027   794  8264  4242     4  9348 28837  4309  1192\n",
            "     3  4242     2  1947     1    10 12190 23086  2017     4 13636    39\n",
            "   930     5 13534 27704     4    42   794    46  7400     1     5   794\n",
            "    18 18361   433   301     5   543  2323  7494    10  2537 11115   261\n",
            "  8069  6373  2480   146   794  3238     1     4  3343     7   315  1915\n",
            "    66 28625  1602     4  2654   587  7429   138    13 27549    85     5\n",
            "  2657  3012     4   734     5   345     1     1 13710    20   321  3434\n",
            "    36 29610   926 14280 19131    42  3598  6195    46  8264  3731     3\n",
            " 15380 22269  1750     0     0     0     0     0     0     0     0     0\n",
            "     0     0     0     0     0     0     0     0     0     0     0     0\n",
            "     0     0     0     0     0     0     0     0     0     0     0     0\n",
            "     0     0     0     0     0     0     0     0     0     0     0     0\n",
            "     0     0     0     0     0     0     0     0     0     0     0     0\n",
            "     0     0     0     0     0     0     0     0     0     0     0     0\n",
            "     0     0     0     0     0     0     0     0     0     0     0     0\n",
            "     0     0     0     0     0     0     0     0     0     0     0     0]\n"
          ]
        }
      ]
    },
    {
      "cell_type": "markdown",
      "source": [
        "- Let's initialize the datasets we are going to use for the training and testing:"
      ],
      "metadata": {
        "id": "I0JLlGnYpKdn"
      }
    },
    {
      "cell_type": "code",
      "source": [
        "AUTOTUNE = tf.data.experimental.AUTOTUNE\n",
        "\n",
        "train_size = len(raw_train.stances)\n",
        "\n",
        "train_labels = [stance_to_int[s] for s in raw_train.stances]\n",
        "train_dataset = tf.data.Dataset.from_tensor_slices((x_train, train_labels))\n",
        "train_dataset = train_dataset.shuffle(train_size)\n",
        "train_dataset = train_dataset.batch(batch_size)\n",
        "train_dataset = train_dataset.cache().prefetch(buffer_size=AUTOTUNE)\n",
        "\n",
        "val_labels = [stance_to_int[s] for s in raw_val.stances]\n",
        "val_dataset = tf.data.Dataset.from_tensor_slices((x_val, val_labels))\n",
        "val_dataset = val_dataset.batch(batch_size)\n",
        "val_dataset = val_dataset.cache().prefetch(buffer_size=AUTOTUNE)\n",
        "\n",
        "test_labels = [stance_to_int[s] for s in raw_test.stances]\n",
        "test_dataset = tf.data.Dataset.from_tensor_slices((x_test, test_labels))\n",
        "test_dataset = test_dataset.batch(batch_size).cache().prefetch(buffer_size=AUTOTUNE)"
      ],
      "metadata": {
        "id": "6b1vQn7CQsy4"
      },
      "execution_count": null,
      "outputs": []
    },
    {
      "cell_type": "markdown",
      "source": [
        "## Model"
      ],
      "metadata": {
        "id": "YaVXv2oMQtpB"
      }
    },
    {
      "cell_type": "markdown",
      "source": [
        "- Now the datasets are ready, we can work on the model:"
      ],
      "metadata": {
        "id": "1tYFaJXwpSO9"
      }
    },
    {
      "cell_type": "code",
      "source": [
        "lr = 9e-4\n",
        "epochs = 100\n",
        "drop_rate = 0.3"
      ],
      "metadata": {
        "id": "soMbSvlrQu0h"
      },
      "execution_count": null,
      "outputs": []
    },
    {
      "cell_type": "code",
      "source": [
        "class divide_layer(tf.keras.layers.Layer):\n",
        "  def __init__(self, input_shape=(1,1)):\n",
        "    super(divide_layer, self).__init__()\n",
        "\n",
        "  def call(self, input1):\n",
        "    return tf.divide(input1, 2.)"
      ],
      "metadata": {
        "id": "TsofePciaDri"
      },
      "execution_count": null,
      "outputs": []
    },
    {
      "cell_type": "code",
      "source": [
        "int_sequences_input = tf.keras.Input(shape=(None,), dtype=\"int64\")\n",
        "embedded_sequences = embedding_layer(int_sequences_input)\n",
        "\n",
        "conv1 = tf.keras.layers.Conv1D(100, 2, activation=\"relu\", use_bias=True)(embedded_sequences)\n",
        "conv2 = tf.keras.layers.Conv1D(100, 3, activation=\"relu\", use_bias=True)(embedded_sequences)\n",
        "conv3 = tf.keras.layers.Conv1D(100, 4, activation=\"relu\", use_bias=True)(embedded_sequences)\n",
        "\n",
        "pool1 = tf.keras.layers.GlobalMaxPooling1D()(conv1)\n",
        "pool2 = tf.keras.layers.GlobalMaxPooling1D()(conv2)\n",
        "pool3 = tf.keras.layers.GlobalMaxPooling1D()(conv3)\n",
        "\n",
        "concatenated = tf.keras.layers.Concatenate(axis=1)([pool1, pool2, pool3])\n",
        "\n",
        "dropped1 = tf.keras.layers.Dropout(drop_rate)(concatenated)\n",
        "\n",
        "logits1 = tf.keras.layers.Dense(4)(dropped1)\n",
        "\n",
        "lstm_output_1 = tf.keras.layers.Bidirectional(tf.keras.layers.LSTM(32, return_sequences=True))(embedded_sequences)\n",
        "lstm_output_2 = tf.keras.layers.Bidirectional(tf.keras.layers.LSTM(32))(lstm_output_1)\n",
        "\n",
        "dropped2 = tf.keras.layers.Dropout(drop_rate)(lstm_output_2)\n",
        "\n",
        "logits2 = tf.keras.layers.Dense(4)(dropped2)\n",
        "\n",
        "sum = tf.keras.layers.Add()([logits1, logits2])\n",
        "\n",
        "logits = divide_layer()(sum)\n",
        "\n",
        "model = tf.keras.models.Model(inputs=int_sequences_input, outputs=logits)\n",
        "\n",
        "tf.keras.utils.plot_model(model, show_shapes=True, dpi=60)"
      ],
      "metadata": {
        "colab": {
          "base_uri": "https://localhost:8080/",
          "height": 723
        },
        "id": "fB_mHTiPQwei",
        "outputId": "9a476f92-bae5-4cf5-c3e4-e45de25149ea"
      },
      "execution_count": null,
      "outputs": [
        {
          "output_type": "execute_result",
          "data": {
            "image/png": "[encoded data removed]",
            "text/plain": [
              "<IPython.core.display.Image object>"
            ]
          },
          "metadata": {},
          "execution_count": 24
        }
      ]
    },
    {
      "cell_type": "code",
      "source": [
        "model.summary()"
      ],
      "metadata": {
        "colab": {
          "base_uri": "https://localhost:8080/",
          "height": 884
        },
        "id": "tf_6NShDphMS",
        "outputId": "cef0cefb-0f2a-442b-92bb-7f5ae24f355b"
      },
      "execution_count": null,
      "outputs": [
        {
          "output_type": "display_data",
          "data": {
            "text/plain": [
              "\u001b[1mModel: \"functional\"\u001b[0m\n"
            ],
            "text/html": [
              "<pre style=\"white-space:pre;overflow-x:auto;line-height:normal;font-family:Menlo,'DejaVu Sans Mono',consolas,'Courier New',monospace\"><span style=\"font-weight: bold\">Model: \"functional\"</span>\n",
              "</pre>\n"
            ]
          },
          "metadata": {}
        },
        {
          "output_type": "display_data",
          "data": {
            "text/plain": [
              "┏━━━━━━━━━━━━━━━━━━━━━━━━━━━┳━━━━━━━━━━━━━━━━━━━━━━━━┳━━━━━━━━━━━━━━━━┳━━━━━━━━━━━━━━━━━━━━━━━━┓\n",
              "┃\u001b[1m \u001b[0m\u001b[1mLayer (type)             \u001b[0m\u001b[1m \u001b[0m┃\u001b[1m \u001b[0m\u001b[1mOutput Shape          \u001b[0m\u001b[1m \u001b[0m┃\u001b[1m \u001b[0m\u001b[1m       Param #\u001b[0m\u001b[1m \u001b[0m┃\u001b[1m \u001b[0m\u001b[1mConnected to          \u001b[0m\u001b[1m \u001b[0m┃\n",
              "┡━━━━━━━━━━━━━━━━━━━━━━━━━━━╇━━━━━━━━━━━━━━━━━━━━━━━━╇━━━━━━━━━━━━━━━━╇━━━━━━━━━━━━━━━━━━━━━━━━┩\n",
              "│ input_layer_1             │ (\u001b[38;5;45mNone\u001b[0m, \u001b[38;5;45mNone\u001b[0m)           │              \u001b[38;5;34m0\u001b[0m │ -                      │\n",
              "│ (\u001b[38;5;33mInputLayer\u001b[0m)              │                        │                │                        │\n",
              "├───────────────────────────┼────────────────────────┼────────────────┼────────────────────────┤\n",
              "│ embedding (\u001b[38;5;33mEmbedding\u001b[0m)     │ (\u001b[38;5;45mNone\u001b[0m, \u001b[38;5;45mNone\u001b[0m, \u001b[38;5;34m300\u001b[0m)      │      \u001b[38;5;34m9,000,600\u001b[0m │ input_layer_1[\u001b[38;5;34m0\u001b[0m][\u001b[38;5;34m0\u001b[0m]    │\n",
              "├───────────────────────────┼────────────────────────┼────────────────┼────────────────────────┤\n",
              "│ conv1d_3 (\u001b[38;5;33mConv1D\u001b[0m)         │ (\u001b[38;5;45mNone\u001b[0m, \u001b[38;5;45mNone\u001b[0m, \u001b[38;5;34m100\u001b[0m)      │         \u001b[38;5;34m60,100\u001b[0m │ embedding[\u001b[38;5;34m1\u001b[0m][\u001b[38;5;34m0\u001b[0m]        │\n",
              "├───────────────────────────┼────────────────────────┼────────────────┼────────────────────────┤\n",
              "│ conv1d_4 (\u001b[38;5;33mConv1D\u001b[0m)         │ (\u001b[38;5;45mNone\u001b[0m, \u001b[38;5;45mNone\u001b[0m, \u001b[38;5;34m100\u001b[0m)      │         \u001b[38;5;34m90,100\u001b[0m │ embedding[\u001b[38;5;34m1\u001b[0m][\u001b[38;5;34m0\u001b[0m]        │\n",
              "├───────────────────────────┼────────────────────────┼────────────────┼────────────────────────┤\n",
              "│ conv1d_5 (\u001b[38;5;33mConv1D\u001b[0m)         │ (\u001b[38;5;45mNone\u001b[0m, \u001b[38;5;45mNone\u001b[0m, \u001b[38;5;34m100\u001b[0m)      │        \u001b[38;5;34m120,100\u001b[0m │ embedding[\u001b[38;5;34m1\u001b[0m][\u001b[38;5;34m0\u001b[0m]        │\n",
              "├───────────────────────────┼────────────────────────┼────────────────┼────────────────────────┤\n",
              "│ global_max_pooling1d_3    │ (\u001b[38;5;45mNone\u001b[0m, \u001b[38;5;34m100\u001b[0m)            │              \u001b[38;5;34m0\u001b[0m │ conv1d_3[\u001b[38;5;34m0\u001b[0m][\u001b[38;5;34m0\u001b[0m]         │\n",
              "│ (\u001b[38;5;33mGlobalMaxPooling1D\u001b[0m)      │                        │                │                        │\n",
              "├───────────────────────────┼────────────────────────┼────────────────┼────────────────────────┤\n",
              "│ global_max_pooling1d_4    │ (\u001b[38;5;45mNone\u001b[0m, \u001b[38;5;34m100\u001b[0m)            │              \u001b[38;5;34m0\u001b[0m │ conv1d_4[\u001b[38;5;34m0\u001b[0m][\u001b[38;5;34m0\u001b[0m]         │\n",
              "│ (\u001b[38;5;33mGlobalMaxPooling1D\u001b[0m)      │                        │                │                        │\n",
              "├───────────────────────────┼────────────────────────┼────────────────┼────────────────────────┤\n",
              "│ global_max_pooling1d_5    │ (\u001b[38;5;45mNone\u001b[0m, \u001b[38;5;34m100\u001b[0m)            │              \u001b[38;5;34m0\u001b[0m │ conv1d_5[\u001b[38;5;34m0\u001b[0m][\u001b[38;5;34m0\u001b[0m]         │\n",
              "│ (\u001b[38;5;33mGlobalMaxPooling1D\u001b[0m)      │                        │                │                        │\n",
              "├───────────────────────────┼────────────────────────┼────────────────┼────────────────────────┤\n",
              "│ bidirectional_2           │ (\u001b[38;5;45mNone\u001b[0m, \u001b[38;5;45mNone\u001b[0m, \u001b[38;5;34m64\u001b[0m)       │         \u001b[38;5;34m85,248\u001b[0m │ embedding[\u001b[38;5;34m1\u001b[0m][\u001b[38;5;34m0\u001b[0m]        │\n",
              "│ (\u001b[38;5;33mBidirectional\u001b[0m)           │                        │                │                        │\n",
              "├───────────────────────────┼────────────────────────┼────────────────┼────────────────────────┤\n",
              "│ concatenate_1             │ (\u001b[38;5;45mNone\u001b[0m, \u001b[38;5;34m300\u001b[0m)            │              \u001b[38;5;34m0\u001b[0m │ global_max_pooling1d_… │\n",
              "│ (\u001b[38;5;33mConcatenate\u001b[0m)             │                        │                │ global_max_pooling1d_… │\n",
              "│                           │                        │                │ global_max_pooling1d_… │\n",
              "├───────────────────────────┼────────────────────────┼────────────────┼────────────────────────┤\n",
              "│ bidirectional_3           │ (\u001b[38;5;45mNone\u001b[0m, \u001b[38;5;34m64\u001b[0m)             │         \u001b[38;5;34m24,832\u001b[0m │ bidirectional_2[\u001b[38;5;34m0\u001b[0m][\u001b[38;5;34m0\u001b[0m]  │\n",
              "│ (\u001b[38;5;33mBidirectional\u001b[0m)           │                        │                │                        │\n",
              "├───────────────────────────┼────────────────────────┼────────────────┼────────────────────────┤\n",
              "│ dropout_2 (\u001b[38;5;33mDropout\u001b[0m)       │ (\u001b[38;5;45mNone\u001b[0m, \u001b[38;5;34m300\u001b[0m)            │              \u001b[38;5;34m0\u001b[0m │ concatenate_1[\u001b[38;5;34m0\u001b[0m][\u001b[38;5;34m0\u001b[0m]    │\n",
              "├───────────────────────────┼────────────────────────┼────────────────┼────────────────────────┤\n",
              "│ dropout_3 (\u001b[38;5;33mDropout\u001b[0m)       │ (\u001b[38;5;45mNone\u001b[0m, \u001b[38;5;34m64\u001b[0m)             │              \u001b[38;5;34m0\u001b[0m │ bidirectional_3[\u001b[38;5;34m0\u001b[0m][\u001b[38;5;34m0\u001b[0m]  │\n",
              "├───────────────────────────┼────────────────────────┼────────────────┼────────────────────────┤\n",
              "│ dense_2 (\u001b[38;5;33mDense\u001b[0m)           │ (\u001b[38;5;45mNone\u001b[0m, \u001b[38;5;34m4\u001b[0m)              │          \u001b[38;5;34m1,204\u001b[0m │ dropout_2[\u001b[38;5;34m0\u001b[0m][\u001b[38;5;34m0\u001b[0m]        │\n",
              "├───────────────────────────┼────────────────────────┼────────────────┼────────────────────────┤\n",
              "│ dense_3 (\u001b[38;5;33mDense\u001b[0m)           │ (\u001b[38;5;45mNone\u001b[0m, \u001b[38;5;34m4\u001b[0m)              │            \u001b[38;5;34m260\u001b[0m │ dropout_3[\u001b[38;5;34m0\u001b[0m][\u001b[38;5;34m0\u001b[0m]        │\n",
              "├───────────────────────────┼────────────────────────┼────────────────┼────────────────────────┤\n",
              "│ add_1 (\u001b[38;5;33mAdd\u001b[0m)               │ (\u001b[38;5;45mNone\u001b[0m, \u001b[38;5;34m4\u001b[0m)              │              \u001b[38;5;34m0\u001b[0m │ dense_2[\u001b[38;5;34m0\u001b[0m][\u001b[38;5;34m0\u001b[0m],         │\n",
              "│                           │                        │                │ dense_3[\u001b[38;5;34m0\u001b[0m][\u001b[38;5;34m0\u001b[0m]          │\n",
              "├───────────────────────────┼────────────────────────┼────────────────┼────────────────────────┤\n",
              "│ divide_layer              │ (\u001b[38;5;45mNone\u001b[0m, \u001b[38;5;34m4\u001b[0m)              │              \u001b[38;5;34m0\u001b[0m │ add_1[\u001b[38;5;34m0\u001b[0m][\u001b[38;5;34m0\u001b[0m]            │\n",
              "│ (\u001b[38;5;33mdivide_layer\u001b[0m)            │                        │                │                        │\n",
              "└───────────────────────────┴────────────────────────┴────────────────┴────────────────────────┘\n"
            ],
            "text/html": [
              "<pre style=\"white-space:pre;overflow-x:auto;line-height:normal;font-family:Menlo,'DejaVu Sans Mono',consolas,'Courier New',monospace\">┏━━━━━━━━━━━━━━━━━━━━━━━━━━━┳━━━━━━━━━━━━━━━━━━━━━━━━┳━━━━━━━━━━━━━━━━┳━━━━━━━━━━━━━━━━━━━━━━━━┓\n",
              "┃<span style=\"font-weight: bold\"> Layer (type)              </span>┃<span style=\"font-weight: bold\"> Output Shape           </span>┃<span style=\"font-weight: bold\">        Param # </span>┃<span style=\"font-weight: bold\"> Connected to           </span>┃\n",
              "┡━━━━━━━━━━━━━━━━━━━━━━━━━━━╇━━━━━━━━━━━━━━━━━━━━━━━━╇━━━━━━━━━━━━━━━━╇━━━━━━━━━━━━━━━━━━━━━━━━┩\n",
              "│ input_layer_1             │ (<span style=\"color: #00d7ff; text-decoration-color: #00d7ff\">None</span>, <span style=\"color: #00d7ff; text-decoration-color: #00d7ff\">None</span>)           │              <span style=\"color: #00af00; text-decoration-color: #00af00\">0</span> │ -                      │\n",
              "│ (<span style=\"color: #0087ff; text-decoration-color: #0087ff\">InputLayer</span>)              │                        │                │                        │\n",
              "├───────────────────────────┼────────────────────────┼────────────────┼────────────────────────┤\n",
              "│ embedding (<span style=\"color: #0087ff; text-decoration-color: #0087ff\">Embedding</span>)     │ (<span style=\"color: #00d7ff; text-decoration-color: #00d7ff\">None</span>, <span style=\"color: #00d7ff; text-decoration-color: #00d7ff\">None</span>, <span style=\"color: #00af00; text-decoration-color: #00af00\">300</span>)      │      <span style=\"color: #00af00; text-decoration-color: #00af00\">9,000,600</span> │ input_layer_1[<span style=\"color: #00af00; text-decoration-color: #00af00\">0</span>][<span style=\"color: #00af00; text-decoration-color: #00af00\">0</span>]    │\n",
              "├───────────────────────────┼────────────────────────┼────────────────┼────────────────────────┤\n",
              "│ conv1d_3 (<span style=\"color: #0087ff; text-decoration-color: #0087ff\">Conv1D</span>)         │ (<span style=\"color: #00d7ff; text-decoration-color: #00d7ff\">None</span>, <span style=\"color: #00d7ff; text-decoration-color: #00d7ff\">None</span>, <span style=\"color: #00af00; text-decoration-color: #00af00\">100</span>)      │         <span style=\"color: #00af00; text-decoration-color: #00af00\">60,100</span> │ embedding[<span style=\"color: #00af00; text-decoration-color: #00af00\">1</span>][<span style=\"color: #00af00; text-decoration-color: #00af00\">0</span>]        │\n",
              "├───────────────────────────┼────────────────────────┼────────────────┼────────────────────────┤\n",
              "│ conv1d_4 (<span style=\"color: #0087ff; text-decoration-color: #0087ff\">Conv1D</span>)         │ (<span style=\"color: #00d7ff; text-decoration-color: #00d7ff\">None</span>, <span style=\"color: #00d7ff; text-decoration-color: #00d7ff\">None</span>, <span style=\"color: #00af00; text-decoration-color: #00af00\">100</span>)      │         <span style=\"color: #00af00; text-decoration-color: #00af00\">90,100</span> │ embedding[<span style=\"color: #00af00; text-decoration-color: #00af00\">1</span>][<span style=\"color: #00af00; text-decoration-color: #00af00\">0</span>]        │\n",
              "├───────────────────────────┼────────────────────────┼────────────────┼────────────────────────┤\n",
              "│ conv1d_5 (<span style=\"color: #0087ff; text-decoration-color: #0087ff\">Conv1D</span>)         │ (<span style=\"color: #00d7ff; text-decoration-color: #00d7ff\">None</span>, <span style=\"color: #00d7ff; text-decoration-color: #00d7ff\">None</span>, <span style=\"color: #00af00; text-decoration-color: #00af00\">100</span>)      │        <span style=\"color: #00af00; text-decoration-color: #00af00\">120,100</span> │ embedding[<span style=\"color: #00af00; text-decoration-color: #00af00\">1</span>][<span style=\"color: #00af00; text-decoration-color: #00af00\">0</span>]        │\n",
              "├───────────────────────────┼────────────────────────┼────────────────┼────────────────────────┤\n",
              "│ global_max_pooling1d_3    │ (<span style=\"color: #00d7ff; text-decoration-color: #00d7ff\">None</span>, <span style=\"color: #00af00; text-decoration-color: #00af00\">100</span>)            │              <span style=\"color: #00af00; text-decoration-color: #00af00\">0</span> │ conv1d_3[<span style=\"color: #00af00; text-decoration-color: #00af00\">0</span>][<span style=\"color: #00af00; text-decoration-color: #00af00\">0</span>]         │\n",
              "│ (<span style=\"color: #0087ff; text-decoration-color: #0087ff\">GlobalMaxPooling1D</span>)      │                        │                │                        │\n",
              "├───────────────────────────┼────────────────────────┼────────────────┼────────────────────────┤\n",
              "│ global_max_pooling1d_4    │ (<span style=\"color: #00d7ff; text-decoration-color: #00d7ff\">None</span>, <span style=\"color: #00af00; text-decoration-color: #00af00\">100</span>)            │              <span style=\"color: #00af00; text-decoration-color: #00af00\">0</span> │ conv1d_4[<span style=\"color: #00af00; text-decoration-color: #00af00\">0</span>][<span style=\"color: #00af00; text-decoration-color: #00af00\">0</span>]         │\n",
              "│ (<span style=\"color: #0087ff; text-decoration-color: #0087ff\">GlobalMaxPooling1D</span>)      │                        │                │                        │\n",
              "├───────────────────────────┼────────────────────────┼────────────────┼────────────────────────┤\n",
              "│ global_max_pooling1d_5    │ (<span style=\"color: #00d7ff; text-decoration-color: #00d7ff\">None</span>, <span style=\"color: #00af00; text-decoration-color: #00af00\">100</span>)            │              <span style=\"color: #00af00; text-decoration-color: #00af00\">0</span> │ conv1d_5[<span style=\"color: #00af00; text-decoration-color: #00af00\">0</span>][<span style=\"color: #00af00; text-decoration-color: #00af00\">0</span>]         │\n",
              "│ (<span style=\"color: #0087ff; text-decoration-color: #0087ff\">GlobalMaxPooling1D</span>)      │                        │                │                        │\n",
              "├───────────────────────────┼────────────────────────┼────────────────┼────────────────────────┤\n",
              "│ bidirectional_2           │ (<span style=\"color: #00d7ff; text-decoration-color: #00d7ff\">None</span>, <span style=\"color: #00d7ff; text-decoration-color: #00d7ff\">None</span>, <span style=\"color: #00af00; text-decoration-color: #00af00\">64</span>)       │         <span style=\"color: #00af00; text-decoration-color: #00af00\">85,248</span> │ embedding[<span style=\"color: #00af00; text-decoration-color: #00af00\">1</span>][<span style=\"color: #00af00; text-decoration-color: #00af00\">0</span>]        │\n",
              "│ (<span style=\"color: #0087ff; text-decoration-color: #0087ff\">Bidirectional</span>)           │                        │                │                        │\n",
              "├───────────────────────────┼────────────────────────┼────────────────┼────────────────────────┤\n",
              "│ concatenate_1             │ (<span style=\"color: #00d7ff; text-decoration-color: #00d7ff\">None</span>, <span style=\"color: #00af00; text-decoration-color: #00af00\">300</span>)            │              <span style=\"color: #00af00; text-decoration-color: #00af00\">0</span> │ global_max_pooling1d_… │\n",
              "│ (<span style=\"color: #0087ff; text-decoration-color: #0087ff\">Concatenate</span>)             │                        │                │ global_max_pooling1d_… │\n",
              "│                           │                        │                │ global_max_pooling1d_… │\n",
              "├───────────────────────────┼────────────────────────┼────────────────┼────────────────────────┤\n",
              "│ bidirectional_3           │ (<span style=\"color: #00d7ff; text-decoration-color: #00d7ff\">None</span>, <span style=\"color: #00af00; text-decoration-color: #00af00\">64</span>)             │         <span style=\"color: #00af00; text-decoration-color: #00af00\">24,832</span> │ bidirectional_2[<span style=\"color: #00af00; text-decoration-color: #00af00\">0</span>][<span style=\"color: #00af00; text-decoration-color: #00af00\">0</span>]  │\n",
              "│ (<span style=\"color: #0087ff; text-decoration-color: #0087ff\">Bidirectional</span>)           │                        │                │                        │\n",
              "├───────────────────────────┼────────────────────────┼────────────────┼────────────────────────┤\n",
              "│ dropout_2 (<span style=\"color: #0087ff; text-decoration-color: #0087ff\">Dropout</span>)       │ (<span style=\"color: #00d7ff; text-decoration-color: #00d7ff\">None</span>, <span style=\"color: #00af00; text-decoration-color: #00af00\">300</span>)            │              <span style=\"color: #00af00; text-decoration-color: #00af00\">0</span> │ concatenate_1[<span style=\"color: #00af00; text-decoration-color: #00af00\">0</span>][<span style=\"color: #00af00; text-decoration-color: #00af00\">0</span>]    │\n",
              "├───────────────────────────┼────────────────────────┼────────────────┼────────────────────────┤\n",
              "│ dropout_3 (<span style=\"color: #0087ff; text-decoration-color: #0087ff\">Dropout</span>)       │ (<span style=\"color: #00d7ff; text-decoration-color: #00d7ff\">None</span>, <span style=\"color: #00af00; text-decoration-color: #00af00\">64</span>)             │              <span style=\"color: #00af00; text-decoration-color: #00af00\">0</span> │ bidirectional_3[<span style=\"color: #00af00; text-decoration-color: #00af00\">0</span>][<span style=\"color: #00af00; text-decoration-color: #00af00\">0</span>]  │\n",
              "├───────────────────────────┼────────────────────────┼────────────────┼────────────────────────┤\n",
              "│ dense_2 (<span style=\"color: #0087ff; text-decoration-color: #0087ff\">Dense</span>)           │ (<span style=\"color: #00d7ff; text-decoration-color: #00d7ff\">None</span>, <span style=\"color: #00af00; text-decoration-color: #00af00\">4</span>)              │          <span style=\"color: #00af00; text-decoration-color: #00af00\">1,204</span> │ dropout_2[<span style=\"color: #00af00; text-decoration-color: #00af00\">0</span>][<span style=\"color: #00af00; text-decoration-color: #00af00\">0</span>]        │\n",
              "├───────────────────────────┼────────────────────────┼────────────────┼────────────────────────┤\n",
              "│ dense_3 (<span style=\"color: #0087ff; text-decoration-color: #0087ff\">Dense</span>)           │ (<span style=\"color: #00d7ff; text-decoration-color: #00d7ff\">None</span>, <span style=\"color: #00af00; text-decoration-color: #00af00\">4</span>)              │            <span style=\"color: #00af00; text-decoration-color: #00af00\">260</span> │ dropout_3[<span style=\"color: #00af00; text-decoration-color: #00af00\">0</span>][<span style=\"color: #00af00; text-decoration-color: #00af00\">0</span>]        │\n",
              "├───────────────────────────┼────────────────────────┼────────────────┼────────────────────────┤\n",
              "│ add_1 (<span style=\"color: #0087ff; text-decoration-color: #0087ff\">Add</span>)               │ (<span style=\"color: #00d7ff; text-decoration-color: #00d7ff\">None</span>, <span style=\"color: #00af00; text-decoration-color: #00af00\">4</span>)              │              <span style=\"color: #00af00; text-decoration-color: #00af00\">0</span> │ dense_2[<span style=\"color: #00af00; text-decoration-color: #00af00\">0</span>][<span style=\"color: #00af00; text-decoration-color: #00af00\">0</span>],         │\n",
              "│                           │                        │                │ dense_3[<span style=\"color: #00af00; text-decoration-color: #00af00\">0</span>][<span style=\"color: #00af00; text-decoration-color: #00af00\">0</span>]          │\n",
              "├───────────────────────────┼────────────────────────┼────────────────┼────────────────────────┤\n",
              "│ divide_layer              │ (<span style=\"color: #00d7ff; text-decoration-color: #00d7ff\">None</span>, <span style=\"color: #00af00; text-decoration-color: #00af00\">4</span>)              │              <span style=\"color: #00af00; text-decoration-color: #00af00\">0</span> │ add_1[<span style=\"color: #00af00; text-decoration-color: #00af00\">0</span>][<span style=\"color: #00af00; text-decoration-color: #00af00\">0</span>]            │\n",
              "│ (<span style=\"color: #0087ff; text-decoration-color: #0087ff\">divide_layer</span>)            │                        │                │                        │\n",
              "└───────────────────────────┴────────────────────────┴────────────────┴────────────────────────┘\n",
              "</pre>\n"
            ]
          },
          "metadata": {}
        },
        {
          "output_type": "display_data",
          "data": {
            "text/plain": [
              "\u001b[1m Total params: \u001b[0m\u001b[38;5;34m9,382,444\u001b[0m (35.79 MB)\n"
            ],
            "text/html": [
              "<pre style=\"white-space:pre;overflow-x:auto;line-height:normal;font-family:Menlo,'DejaVu Sans Mono',consolas,'Courier New',monospace\"><span style=\"font-weight: bold\"> Total params: </span><span style=\"color: #00af00; text-decoration-color: #00af00\">9,382,444</span> (35.79 MB)\n",
              "</pre>\n"
            ]
          },
          "metadata": {}
        },
        {
          "output_type": "display_data",
          "data": {
            "text/plain": [
              "\u001b[1m Trainable params: \u001b[0m\u001b[38;5;34m381,844\u001b[0m (1.46 MB)\n"
            ],
            "text/html": [
              "<pre style=\"white-space:pre;overflow-x:auto;line-height:normal;font-family:Menlo,'DejaVu Sans Mono',consolas,'Courier New',monospace\"><span style=\"font-weight: bold\"> Trainable params: </span><span style=\"color: #00af00; text-decoration-color: #00af00\">381,844</span> (1.46 MB)\n",
              "</pre>\n"
            ]
          },
          "metadata": {}
        },
        {
          "output_type": "display_data",
          "data": {
            "text/plain": [
              "\u001b[1m Non-trainable params: \u001b[0m\u001b[38;5;34m9,000,600\u001b[0m (34.33 MB)\n"
            ],
            "text/html": [
              "<pre style=\"white-space:pre;overflow-x:auto;line-height:normal;font-family:Menlo,'DejaVu Sans Mono',consolas,'Courier New',monospace\"><span style=\"font-weight: bold\"> Non-trainable params: </span><span style=\"color: #00af00; text-decoration-color: #00af00\">9,000,600</span> (34.33 MB)\n",
              "</pre>\n"
            ]
          },
          "metadata": {}
        }
      ]
    },
    {
      "cell_type": "markdown",
      "source": [
        "## Training"
      ],
      "metadata": {
        "id": "hEd2acyhRAbk"
      }
    },
    {
      "cell_type": "code",
      "source": [
        "loss = tf.keras.losses.SparseCategoricalCrossentropy(from_logits=True)\n",
        "metrics = tf.keras.metrics.SparseCategoricalAccuracy('accuracy', dtype=tf.float32)\n",
        "optimizer = tf.keras.optimizers.Adam(learning_rate=lr)\n",
        "\n",
        "model.compile(optimizer=optimizer, loss=loss, metrics=[metrics])"
      ],
      "metadata": {
        "id": "QeeS19dMQ3ph"
      },
      "execution_count": null,
      "outputs": []
    },
    {
      "cell_type": "code",
      "source": [
        "callbacks = [tf.keras.callbacks.EarlyStopping(patience=5)]\n",
        "history=model.fit(\n",
        "  x=train_dataset,\n",
        "  validation_data=val_dataset,\n",
        "  epochs=epochs,\n",
        "  callbacks=callbacks,\n",
        ")"
      ],
      "metadata": {
        "colab": {
          "base_uri": "https://localhost:8080/"
        },
        "id": "WS0OOWv9Q4vp",
        "outputId": "b7649068-190d-4416-de3f-04c787b39688"
      },
      "execution_count": null,
      "outputs": [
        {
          "output_type": "stream",
          "name": "stdout",
          "text": [
            "Epoch 1/100\n",
            "\u001b[1m23/23\u001b[0m \u001b[32m━━━━━━━━━━━━━━━━━━━━\u001b[0m\u001b[37m\u001b[0m \u001b[1m10s\u001b[0m 101ms/step - accuracy: 0.4062 - loss: 2.7110 - val_accuracy: 0.5800 - val_loss: 1.4268\n",
            "Epoch 2/100\n",
            "\u001b[1m23/23\u001b[0m \u001b[32m━━━━━━━━━━━━━━━━━━━━\u001b[0m\u001b[37m\u001b[0m \u001b[1m2s\u001b[0m 68ms/step - accuracy: 0.6128 - loss: 1.3046 - val_accuracy: 0.6098 - val_loss: 1.2268\n",
            "Epoch 3/100\n",
            "\u001b[1m23/23\u001b[0m \u001b[32m━━━━━━━━━━━━━━━━━━━━\u001b[0m\u001b[37m\u001b[0m \u001b[1m2s\u001b[0m 69ms/step - accuracy: 0.6998 - loss: 0.9360 - val_accuracy: 0.6538 - val_loss: 1.1512\n",
            "Epoch 4/100\n",
            "\u001b[1m23/23\u001b[0m \u001b[32m━━━━━━━━━━━━━━━━━━━━\u001b[0m\u001b[37m\u001b[0m \u001b[1m3s\u001b[0m 68ms/step - accuracy: 0.7589 - loss: 0.6909 - val_accuracy: 0.7276 - val_loss: 1.0024\n",
            "Epoch 5/100\n",
            "\u001b[1m23/23\u001b[0m \u001b[32m━━━━━━━━━━━━━━━━━━━━\u001b[0m\u001b[37m\u001b[0m \u001b[1m3s\u001b[0m 74ms/step - accuracy: 0.8168 - loss: 0.5530 - val_accuracy: 0.7206 - val_loss: 1.1203\n",
            "Epoch 6/100\n",
            "\u001b[1m23/23\u001b[0m \u001b[32m━━━━━━━━━━━━━━━━━━━━\u001b[0m\u001b[37m\u001b[0m \u001b[1m3s\u001b[0m 77ms/step - accuracy: 0.8591 - loss: 0.4039 - val_accuracy: 0.7434 - val_loss: 1.0099\n",
            "Epoch 7/100\n",
            "\u001b[1m23/23\u001b[0m \u001b[32m━━━━━━━━━━━━━━━━━━━━\u001b[0m\u001b[37m\u001b[0m \u001b[1m2s\u001b[0m 68ms/step - accuracy: 0.8800 - loss: 0.3426 - val_accuracy: 0.7364 - val_loss: 0.9810\n",
            "Epoch 8/100\n",
            "\u001b[1m23/23\u001b[0m \u001b[32m━━━━━━━━━━━━━━━━━━━━\u001b[0m\u001b[37m\u001b[0m \u001b[1m2s\u001b[0m 69ms/step - accuracy: 0.8924 - loss: 0.3125 - val_accuracy: 0.7540 - val_loss: 1.1882\n",
            "Epoch 9/100\n",
            "\u001b[1m23/23\u001b[0m \u001b[32m━━━━━━━━━━━━━━━━━━━━\u001b[0m\u001b[37m\u001b[0m \u001b[1m2s\u001b[0m 68ms/step - accuracy: 0.9183 - loss: 0.2438 - val_accuracy: 0.7627 - val_loss: 1.1249\n",
            "Epoch 10/100\n",
            "\u001b[1m23/23\u001b[0m \u001b[32m━━━━━━━━━━━━━━━━━━━━\u001b[0m\u001b[37m\u001b[0m \u001b[1m3s\u001b[0m 73ms/step - accuracy: 0.9280 - loss: 0.2045 - val_accuracy: 0.7329 - val_loss: 1.4195\n",
            "Epoch 11/100\n",
            "\u001b[1m23/23\u001b[0m \u001b[32m━━━━━━━━━━━━━━━━━━━━\u001b[0m\u001b[37m\u001b[0m \u001b[1m2s\u001b[0m 87ms/step - accuracy: 0.9321 - loss: 0.2068 - val_accuracy: 0.7557 - val_loss: 1.1041\n",
            "Epoch 12/100\n",
            "\u001b[1m23/23\u001b[0m \u001b[32m━━━━━━━━━━━━━━━━━━━━\u001b[0m\u001b[37m\u001b[0m \u001b[1m2s\u001b[0m 70ms/step - accuracy: 0.9401 - loss: 0.1783 - val_accuracy: 0.7540 - val_loss: 1.3260\n"
          ]
        }
      ]
    },
    {
      "cell_type": "markdown",
      "source": [
        "- Plot learning curves:"
      ],
      "metadata": {
        "id": "r4dO5K7FwIa_"
      }
    },
    {
      "cell_type": "code",
      "source": [
        "plt.plot(history.history['accuracy'])\n",
        "plt.plot(history.history['val_accuracy'])\n",
        "plt.title('model accuracy')\n",
        "plt.ylabel('accuracy')\n",
        "plt.xlabel('epoch')\n",
        "plt.legend(['train', 'val'], loc='upper left')\n",
        "plt.show()"
      ],
      "metadata": {
        "colab": {
          "base_uri": "https://localhost:8080/",
          "height": 472
        },
        "id": "Oxc-vb-EwGx5",
        "outputId": "80139310-7d57-420e-fa8e-6fd13e0b2605"
      },
      "execution_count": null,
      "outputs": [
        {
          "output_type": "display_data",
          "data": {
            "text/plain": [
              "<Figure size 640x480 with 1 Axes>"
            ],
            "image/png": "[encoded data removed]"
          },
          "metadata": {}
        }
      ]
    },
    {
      "cell_type": "code",
      "source": [
        "plt.plot(history.history['loss'])\n",
        "plt.plot(history.history['val_loss'])\n",
        "plt.title('model loss')\n",
        "plt.ylabel('loss')\n",
        "plt.xlabel('epoch')\n",
        "plt.legend(['train', 'val'], loc='upper left')\n",
        "plt.show()"
      ],
      "metadata": {
        "colab": {
          "base_uri": "https://localhost:8080/",
          "height": 472
        },
        "id": "M1hptMK3wRKp",
        "outputId": "0e9d58ed-6a40-42d7-8bc5-18a8d8e418df"
      },
      "execution_count": null,
      "outputs": [
        {
          "output_type": "display_data",
          "data": {
            "text/plain": [
              "<Figure size 640x480 with 1 Axes>"
            ],
            "image/png": "[encoded data removed]"
          },
          "metadata": {}
        }
      ]
    },
    {
      "cell_type": "markdown",
      "source": [
        "## Evaluation"
      ],
      "metadata": {
        "id": "QC_OfrPdREo1"
      }
    },
    {
      "cell_type": "code",
      "source": [
        "loss, accuracy, f1score, mf1score = evaluate(model, val_dataset, val_labels)\n",
        "print(\"Loss                       :\", loss)\n",
        "print(\"Accuracy                   :\", accuracy)\n",
        "print(\"F1 score                   :\", f1score)\n",
        "print(\"Macro F1 score             :\", mf1score)"
      ],
      "metadata": {
        "colab": {
          "base_uri": "https://localhost:8080/"
        },
        "id": "2JUotlvDRFSp",
        "outputId": "1977eed8-4860-4dbd-eef4-8d62f552d8ed"
      },
      "execution_count": null,
      "outputs": [
        {
          "output_type": "stream",
          "name": "stdout",
          "text": [
            "\u001b[1m5/5\u001b[0m \u001b[32m━━━━━━━━━━━━━━━━━━━━\u001b[0m\u001b[37m\u001b[0m \u001b[1m0s\u001b[0m 41ms/step - accuracy: 0.7637 - loss: 1.2886\n",
            "\u001b[1m5/5\u001b[0m \u001b[32m━━━━━━━━━━━━━━━━━━━━\u001b[0m\u001b[37m\u001b[0m \u001b[1m1s\u001b[0m 115ms/step\n",
            "Loss                       : 1.3259968757629395\n",
            "Accuracy                   : 0.7539543057996485\n",
            "F1 score                   : [0.69333333 0.69565217 0.48484848 0.82544379]\n",
            "Macro F1 score             : 0.6748194447692776\n"
          ]
        }
      ]
    },
    {
      "cell_type": "code",
      "source": [
        "loss, accuracy, f1score, mf1score = evaluate(model, test_dataset, test_labels)\n",
        "print(\"Loss                       :\", loss)\n",
        "print(\"Accuracy                   :\", accuracy)\n",
        "print(\"F1 score                   :\", f1score)\n",
        "print(\"Macro F1 score             :\", mf1score)"
      ],
      "metadata": {
        "colab": {
          "base_uri": "https://localhost:8080/"
        },
        "id": "G7On0LroRMzO",
        "outputId": "f8f04d94-fdf3-440d-f8ef-b2f4826943a4"
      },
      "execution_count": null,
      "outputs": [
        {
          "output_type": "stream",
          "name": "stdout",
          "text": [
            "\u001b[1m6/6\u001b[0m \u001b[32m━━━━━━━━━━━━━━━━━━━━\u001b[0m\u001b[37m\u001b[0m \u001b[1m0s\u001b[0m 44ms/step - accuracy: 0.8528 - loss: 0.7887\n",
            "\u001b[1m6/6\u001b[0m \u001b[32m━━━━━━━━━━━━━━━━━━━━\u001b[0m\u001b[37m\u001b[0m \u001b[1m0s\u001b[0m 22ms/step\n",
            "Loss                       : 0.9730675220489502\n",
            "Accuracy                   : 0.8235294117647058\n",
            "F1 score                   : [0.83392226 0.72413793 0.4        0.88471178]\n",
            "Macro F1 score             : 0.7106929929918008\n"
          ]
        }
      ]
    },
    {
      "cell_type": "markdown",
      "source": [
        "- Let's see the confusion matrix on the testing dataset:"
      ],
      "metadata": {
        "id": "95mDtG5TyziJ"
      }
    },
    {
      "cell_type": "code",
      "source": [
        "y_pred = model.predict(test_dataset)\n",
        "y_pred = np.argmax(y_pred, axis=1)\n",
        "cm = confusion_matrix(test_labels, y_pred)\n",
        "disp = ConfusionMatrixDisplay(cm)\n",
        "disp.plot()\n",
        "plt.show()"
      ],
      "metadata": {
        "colab": {
          "base_uri": "https://localhost:8080/",
          "height": 469
        },
        "id": "XtDVbR9gyAbX",
        "outputId": "2ec6442a-2e6e-46b3-a26d-6adb15b0829f"
      },
      "execution_count": null,
      "outputs": [
        {
          "output_type": "stream",
          "name": "stdout",
          "text": [
            "\u001b[1m6/6\u001b[0m \u001b[32m━━━━━━━━━━━━━━━━━━━━\u001b[0m\u001b[37m\u001b[0m \u001b[1m0s\u001b[0m 41ms/step\n"
          ]
        },
        {
          "output_type": "display_data",
          "data": {
            "text/plain": [
              "<Figure size 640x480 with 2 Axes>"
            ],
            "image/png": "[encoded data removed]"
          },
          "metadata": {}
        }
      ]
    },
    {
      "cell_type": "markdown",
      "source": [
        "- The model misclassifies too many instances from the 'agree', 'disagree', and 'discuss' classes.\n",
        "- The confusion matrix suggests that the majority 'unrelated' class is dominating the dataset or the learning process.\n",
        "- This calls for a measure to deal with this, like oversampling, undersampling, or two step classification."
      ],
      "metadata": {
        "id": "gWqcM1hxzjMq"
      }
    },
    {
      "cell_type": "markdown",
      "source": [
        "## A word on overfitting"
      ],
      "metadata": {
        "id": "u19eLInmM4Q1"
      }
    },
    {
      "cell_type": "markdown",
      "source": [
        "- Needs further investigation (next step).\n",
        "- In [A first thought on overfitting](https://github.com/Ali-Mhrez/Stance-Detection/blob/main/SD_MLP.ipynb), we argue that the performance on the validation set stopped improving due to limits in the dataset, thus it is not clear how much we should attribute the learning curves to overfitting versus model struggling to capture the underlying concepts of the 'disagree' and 'discuss' classes."
      ],
      "metadata": {
        "id": "a-nlbr4KM6Gd"
      }
    }
  ]
}