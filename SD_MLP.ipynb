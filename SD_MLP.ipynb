{
  "nbformat": 4,
  "nbformat_minor": 0,
  "metadata": {
    "colab": {
      "provenance": [],
      "toc_visible": true
    },
    "kernelspec": {
      "name": "python3",
      "display_name": "Python 3"
    },
    "language_info": {
      "name": "python"
    }
  },
  "cells": [
    {
      "cell_type": "markdown",
      "source": [
        "# Stance Detection Using Multi-Layer Perceptron\n",
        "\n",
        "\n",
        "`Multi-Layer Perceptron`  \n",
        "`AraStance Dataset`  \n",
        "`Stance Detection` `Arabic Language`\n",
        "\n",
        "---\n",
        "\n",
        "In this notebook, we rely on very simple multi-layer perceptron to classify the stances of the articles in the AraStance dataset. The dataset was introduced in the paper:  \n",
        "```\n",
        "AraStance: A Multi-Country and Multi-Domain Dataset of Arabic Stance Detection for Fact Checking.\n",
        "```\n",
        "The perceptron we experiment with is inspired by the paper:\n",
        "```\n",
        "A simple but tough-to-beat baseline for the Fake News Challenge stance detection task\n",
        "```"
      ],
      "metadata": {
        "id": "gnUIcjY2vnPC"
      }
    },
    {
      "cell_type": "markdown",
      "source": [
        "## Packages"
      ],
      "metadata": {
        "id": "0vG9MG_iIsXQ"
      }
    },
    {
      "cell_type": "code",
      "source": [
        "import numpy as np\n",
        "import tensorflow as tf\n",
        "from matplotlib import pyplot as plt\n",
        "from sklearn.feature_extraction.text import TfidfVectorizer\n",
        "from sklearn.metrics.pairwise import cosine_similarity\n",
        "from utils import AraStanceData, load_stop_words, stance_to_int, evaluate"
      ],
      "metadata": {
        "id": "gd-hHPDWIsAS"
      },
      "execution_count": null,
      "outputs": []
    },
    {
      "cell_type": "markdown",
      "source": [
        "## Raw data"
      ],
      "metadata": {
        "id": "rTozKiy7XCBG"
      }
    },
    {
      "cell_type": "markdown",
      "source": [
        "- Download the raw data:"
      ],
      "metadata": {
        "id": "m0AvWlXSXvhb"
      }
    },
    {
      "cell_type": "code",
      "execution_count": null,
      "metadata": {
        "id": "_LOdU9qxUXTL"
      },
      "outputs": [],
      "source": [
        "!wget https://github.com/Tariq60/arastance/archive/refs/heads/main.zip\n",
        "!unzip /content/main.zip"
      ]
    },
    {
      "cell_type": "markdown",
      "source": [
        "- Let's start by reading the raw data:"
      ],
      "metadata": {
        "id": "y7Gkmr6iXqqM"
      }
    },
    {
      "cell_type": "code",
      "source": [
        "raw_train = AraStanceData(\"/content/arastance-main/data/train.jsonl\")\n",
        "raw_dev = AraStanceData(\"/content/arastance-main/data/dev.jsonl\")\n",
        "raw_test = AraStanceData(\"/content/arastance-main/data/test.jsonl\")\n",
        "\n",
        "print(f'# training instances: {len(raw_train.stances)}')\n",
        "print(f'# validation instances: {len(raw_dev.stances)}')\n",
        "print(f'# testing instances: {len(raw_test.stances)}')"
      ],
      "metadata": {
        "colab": {
          "base_uri": "https://localhost:8080/"
        },
        "id": "XDuTS7IiXGKv",
        "outputId": "42c221be-4c84-4800-c0aa-8ec9d5d84421"
      },
      "execution_count": null,
      "outputs": [
        {
          "output_type": "stream",
          "name": "stdout",
          "text": [
            "# training instances: 2848\n",
            "# validation instances: 569\n",
            "# testing instances: 646\n"
          ]
        }
      ]
    },
    {
      "cell_type": "markdown",
      "source": [
        "- Let's see an instance from the data:"
      ],
      "metadata": {
        "id": "OlqFipRemE2W"
      }
    },
    {
      "cell_type": "code",
      "source": [
        "instance_no = 10\n",
        "print(f\"Claim text: {raw_train.claims[raw_train.article_claim[instance_no]]}\")\n",
        "print(f\"Article text: {raw_train.articles[instance_no]}\")\n",
        "print(f\"Stance: {raw_train.stances[instance_no]}\")"
      ],
      "metadata": {
        "colab": {
          "base_uri": "https://localhost:8080/"
        },
        "id": "Er2Pnn1kZkzo",
        "outputId": "a9392e58-b90b-4c54-f102-424984000586"
      },
      "execution_count": null,
      "outputs": [
        {
          "output_type": "stream",
          "name": "stdout",
          "text": [
            "Claim text: العثور على طلاسم سحرية على ستار الكعبة المشرفة\n",
            "Article text: نفت الرئاسة العامة لشؤون المسجد الحرام والمسجد النبوي، ما تردد عن وجود سحر وطلاسم في ثوب الكعبة، مؤكدة أن ما عثر عليه هو ورقة تركها أحد الزوار تضمنت أدعية ظنًا منه أنها ستجلب له الخير. وكان عدد من منسوبي الرئاسة العامة لشؤون المسجد الحرام والمسجد النبوي قد عثروا على ورقة صغيرة الحجم موضوعة بطريقة مريبة بين خيوط إطار ثوب الكعبة المشرفة السفلي، فيما رجح مغردون أنها تتضمن سحرًا أو طلاسم. وأكد مصدر بالرئاسة العامة لشؤون الحرمين في تصريحات صحافية أنه تم تلقي بلاغ من منسوبي صيانة الكسوة عن وجود ورقة في أحد إطارات الكعبة المشرفة مصاغة بطريقة مريبة بخيوط الكعبة، حيث بادرت إدارة الهيئة بالمسجد الحرام هذا البلاغ وتم أخذ هذه الورقة التي لم يتضح أن بها سحر . وكان مغردون قد تداولوا مقطع فيديو يظهر لحظة العثور على الورقة في ثوب الكعبة مرجحين أنها سحر، داعين إلى سرعة التحقيق في الأمر وكشف الحقائق للناس.\n",
            "Stance: Disagree\n"
          ]
        }
      ]
    },
    {
      "cell_type": "markdown",
      "source": [
        "- Thus, the instances are triplets, Claim/Article/Stance.\n",
        "- Note that the original language of the data is Arabic."
      ],
      "metadata": {
        "id": "5rUqAjGonKLH"
      }
    },
    {
      "cell_type": "markdown",
      "source": [
        "## Dataset"
      ],
      "metadata": {
        "id": "ht1i__sCiXzC"
      }
    },
    {
      "cell_type": "markdown",
      "source": [
        "- First, we need to vectorize the data. To do so, we'll use tf-idf vectors to represent the instances:"
      ],
      "metadata": {
        "id": "eyi87p2gnAgW"
      }
    },
    {
      "cell_type": "code",
      "source": [
        "# lim_unigram is the size of the vocabulary or\n",
        "# the top features ordered by term frequency across the corpus\n",
        "lim_unigram = 4000\n",
        "batch_size = 128"
      ],
      "metadata": {
        "id": "Qz_8Lc0tbyxD"
      },
      "execution_count": null,
      "outputs": []
    },
    {
      "cell_type": "code",
      "source": [
        "nltk_stop_words, custom_stop_words = load_stop_words()\n",
        "stop_words = nltk_stop_words + custom_stop_words\n",
        "\n",
        "# to fit the vectorizer, we will only use the training data.\n",
        "# Now, concatenate the pairs claims/articles\n",
        "train_instances = [raw_train.claims[raw_train.article_claim[idx]] + \" \" + article \\\n",
        "                  for idx, article in enumerate(raw_train.articles)]\n",
        "\n",
        "# fit the vectorizer\n",
        "tfidf_vectorizer = TfidfVectorizer(max_features=lim_unigram, stop_words=stop_words)\n",
        "tfidf_vectorizer = tfidf_vectorizer.fit(train_instances)"
      ],
      "metadata": {
        "colab": {
          "base_uri": "https://localhost:8080/"
        },
        "id": "TLNfshDGX_GK",
        "outputId": "3ddbd1f6-9b13-4f77-cc58-95b91a0737ee"
      },
      "execution_count": null,
      "outputs": [
        {
          "output_type": "stream",
          "name": "stderr",
          "text": [
            "[nltk_data] Downloading package stopwords to /root/nltk_data...\n",
            "[nltk_data]   Unzipping corpora/stopwords.zip.\n"
          ]
        }
      ]
    },
    {
      "cell_type": "markdown",
      "source": [
        "- Now the vectorizer is fitted, we can start vectorizing the data:"
      ],
      "metadata": {
        "id": "EBlV_jW-ohDn"
      }
    },
    {
      "cell_type": "code",
      "source": [
        "# we will use this function to vectorize the data using the fitted vectorizer\n",
        "def vectorize(data):\n",
        "  feature_vectors = []\n",
        "\n",
        "  for idx in range(len(data.articles)):\n",
        "    claim = data.claims[data.article_claim[idx]]\n",
        "    article = data.articles[idx]\n",
        "\n",
        "    # vectorize the pair into (lim_unigram,) sparse vectors each\n",
        "    claim_tfidf = tfidf_vectorizer.transform([claim]).toarray()\n",
        "    article_tfidf = tfidf_vectorizer.transform([article]).toarray()\n",
        "\n",
        "    # find the similarity between claim and article vectors\n",
        "    similarity = cosine_similarity(claim_tfidf, article_tfidf)\n",
        "\n",
        "    # append the vectors and the similarity to construct (2 * lim_unigram + 1) vector\n",
        "    feat_vec = np.squeeze(np.c_[claim_tfidf, article_tfidf, similarity])\n",
        "    feature_vectors.append(tf.constant(feat_vec))\n",
        "\n",
        "  return feature_vectors\n",
        "\n",
        "train_features = vectorize(raw_train)\n",
        "dev_features = vectorize(raw_dev)\n",
        "test_features = vectorize(raw_test)"
      ],
      "metadata": {
        "id": "1zuSm0MqYJnk"
      },
      "execution_count": null,
      "outputs": []
    },
    {
      "cell_type": "markdown",
      "source": [
        "- Let's see a vectorized instance from the training data:"
      ],
      "metadata": {
        "id": "n_2mV5G5pN5p"
      }
    },
    {
      "cell_type": "code",
      "source": [
        "instance_no = 10\n",
        "print(f'shape of each feature vector is: {train_features[instance_no].shape}')\n",
        "print(f'feature vectors are sparse: {train_features[instance_no]}')"
      ],
      "metadata": {
        "colab": {
          "base_uri": "https://localhost:8080/"
        },
        "id": "6GloXmNCacQM",
        "outputId": "ce0067bd-5481-4833-8783-7c204f79b0ff"
      },
      "execution_count": null,
      "outputs": [
        {
          "output_type": "stream",
          "name": "stdout",
          "text": [
            "shape of each feature vector is: (8001,)\n",
            "feature vectors are sparse: [0.         0.         0.         ... 0.         0.         0.50467087]\n"
          ]
        }
      ]
    },
    {
      "cell_type": "markdown",
      "source": [
        "- As you can see the representations are sparse and contain `2 * lim_unigram + 1` features."
      ],
      "metadata": {
        "id": "9lZotdd8pXZP"
      }
    },
    {
      "cell_type": "markdown",
      "source": [
        "- Now the features are ready, we can create the datasets we are going to use for the training and testing:"
      ],
      "metadata": {
        "id": "JJOSPAJHpl7x"
      }
    },
    {
      "cell_type": "code",
      "source": [
        "AUTOTUNE = tf.data.experimental.AUTOTUNE\n",
        "\n",
        "train_size = len(raw_train.stances)\n",
        "dev_size = len(raw_dev.stances)\n",
        "\n",
        "train_labels = [stance_to_int[s] for s in raw_train.stances]\n",
        "train_dataset = tf.data.Dataset.from_tensor_slices((train_features, train_labels))\n",
        "train_dataset = train_dataset.shuffle(train_size)\n",
        "train_dataset = train_dataset.batch(batch_size)\n",
        "train_dataset = train_dataset.cache().prefetch(buffer_size=AUTOTUNE)\n",
        "\n",
        "dev_labels = [stance_to_int[s] for s in raw_dev.stances]\n",
        "dev_dataset = tf.data.Dataset.from_tensor_slices((dev_features, dev_labels))\n",
        "dev_dataset = dev_dataset.batch(batch_size)\n",
        "dev_dataset = dev_dataset.cache().prefetch(buffer_size=AUTOTUNE)\n",
        "\n",
        "test_labels = [stance_to_int[s] for s in raw_test.stances]\n",
        "test_dataset = tf.data.Dataset.from_tensor_slices((test_features, test_labels))\n",
        "test_dataset = test_dataset.batch(batch_size).cache().prefetch(buffer_size=AUTOTUNE)"
      ],
      "metadata": {
        "id": "Zq4UVD95oJlu"
      },
      "execution_count": null,
      "outputs": []
    },
    {
      "cell_type": "markdown",
      "source": [
        "- Let's see a batch from the training dataset:"
      ],
      "metadata": {
        "id": "9PsPUdpNrNcB"
      }
    },
    {
      "cell_type": "code",
      "source": [
        "batch, labels = next(iter(train_dataset))\n",
        "print(f'shape of the batch is: {batch.shape}')\n",
        "print(f'batch instances: {batch.numpy()}')\n",
        "print(f'batch labels: {labels.numpy()}')"
      ],
      "metadata": {
        "colab": {
          "base_uri": "https://localhost:8080/"
        },
        "id": "B9GX_7GtTL9d",
        "outputId": "342fd628-86d3-458e-e054-06341253c0c2"
      },
      "execution_count": null,
      "outputs": [
        {
          "output_type": "stream",
          "name": "stdout",
          "text": [
            "shape of the batch is: (128, 8001)\n",
            "batch instances: [[0.         0.         0.         ... 0.         0.         0.07688795]\n",
            " [0.         0.         0.         ... 0.         0.         0.11334158]\n",
            " [0.         0.         0.         ... 0.         0.         0.03866361]\n",
            " ...\n",
            " [0.         0.         0.         ... 0.         0.         0.01295991]\n",
            " [0.         0.         0.         ... 0.         0.         0.096208  ]\n",
            " [0.         0.         0.         ... 0.         0.         0.43701551]]\n",
            "batch labels: [3 3 3 0 3 0 3 3 0 3 3 3 0 3 0 2 3 2 3 0 3 3 3 1 3 3 0 3 3 1 3 3 3 0 3 3 0\n",
            " 0 3 3 3 0 3 1 3 3 0 3 0 2 3 3 3 0 3 0 0 3 0 3 2 0 3 3 3 2 0 3 3 1 2 0 3 3\n",
            " 0 0 3 3 2 3 0 3 1 3 3 3 3 1 3 3 3 2 3 1 3 0 3 3 0 1 3 3 1 1 3 3 3 3 0 1 1\n",
            " 3 3 3 3 3 3 3 1 3 0 3 0 0 1 3 3 0]\n"
          ]
        }
      ]
    },
    {
      "cell_type": "markdown",
      "source": [
        "## Model"
      ],
      "metadata": {
        "id": "RruT-NIyo8OB"
      }
    },
    {
      "cell_type": "markdown",
      "source": [
        "- Now the datasets are ready, we can work on the model:"
      ],
      "metadata": {
        "id": "1fQMLeI1r8GG"
      }
    },
    {
      "cell_type": "code",
      "source": [
        "# several preliminary experiments suggested these hyperparameters\n",
        "lr = 6e-3\n",
        "epochs = 100\n",
        "patience = 3"
      ],
      "metadata": {
        "id": "YHaAyk5Xo72h"
      },
      "execution_count": null,
      "outputs": []
    },
    {
      "cell_type": "markdown",
      "source": [
        "- As simple as it is, the following model is going to overfit the training data. Stick around for a possible interpretation and suggestion for solutions:"
      ],
      "metadata": {
        "id": "VfB7cYLxjmdU"
      }
    },
    {
      "cell_type": "code",
      "source": [
        "inputs = tf.keras.Input(shape=(2*lim_unigram+1,), dtype=tf.float32)\n",
        "outputs = tf.keras.layers.Dense(4)(inputs)\n",
        "model = tf.keras.Model(inputs=inputs, outputs=outputs)\n",
        "\n",
        "tf.keras.utils.plot_model(model, show_shapes=True, show_dtype=True, dpi=70)"
      ],
      "metadata": {
        "colab": {
          "base_uri": "https://localhost:8080/",
          "height": 223
        },
        "id": "yKWFHQxzo_YH",
        "outputId": "6d6e436d-39da-497c-9058-79d60e769dfb"
      },
      "execution_count": null,
      "outputs": [
        {
          "output_type": "execute_result",
          "data": {
            "image/png": "[encoded data removed]",
            "text/plain": [
              "<IPython.core.display.Image object>"
            ]
          },
          "metadata": {},
          "execution_count": 14
        }
      ]
    },
    {
      "cell_type": "code",
      "source": [
        "model.summary()"
      ],
      "metadata": {
        "colab": {
          "base_uri": "https://localhost:8080/",
          "height": 204
        },
        "id": "CRAhicI63yIo",
        "outputId": "b9a662db-92c1-4b84-9e9b-809442cd7491"
      },
      "execution_count": null,
      "outputs": [
        {
          "output_type": "display_data",
          "data": {
            "text/plain": [
              "\u001b[1mModel: \"functional\"\u001b[0m\n"
            ],
            "text/html": [
              "<pre style=\"white-space:pre;overflow-x:auto;line-height:normal;font-family:Menlo,'DejaVu Sans Mono',consolas,'Courier New',monospace\"><span style=\"font-weight: bold\">Model: \"functional\"</span>\n",
              "</pre>\n"
            ]
          },
          "metadata": {}
        },
        {
          "output_type": "display_data",
          "data": {
            "text/plain": [
              "┏━━━━━━━━━━━━━━━━━━━━━━━━━━━━━━━━━━━━━━┳━━━━━━━━━━━━━━━━━━━━━━━━━━━━━┳━━━━━━━━━━━━━━━━━┓\n",
              "┃\u001b[1m \u001b[0m\u001b[1mLayer (type)                        \u001b[0m\u001b[1m \u001b[0m┃\u001b[1m \u001b[0m\u001b[1mOutput Shape               \u001b[0m\u001b[1m \u001b[0m┃\u001b[1m \u001b[0m\u001b[1m        Param #\u001b[0m\u001b[1m \u001b[0m┃\n",
              "┡━━━━━━━━━━━━━━━━━━━━━━━━━━━━━━━━━━━━━━╇━━━━━━━━━━━━━━━━━━━━━━━━━━━━━╇━━━━━━━━━━━━━━━━━┩\n",
              "│ input_layer (\u001b[38;5;33mInputLayer\u001b[0m)             │ (\u001b[38;5;45mNone\u001b[0m, \u001b[38;5;34m8001\u001b[0m)                │               \u001b[38;5;34m0\u001b[0m │\n",
              "├──────────────────────────────────────┼─────────────────────────────┼─────────────────┤\n",
              "│ dense (\u001b[38;5;33mDense\u001b[0m)                        │ (\u001b[38;5;45mNone\u001b[0m, \u001b[38;5;34m4\u001b[0m)                   │          \u001b[38;5;34m32,008\u001b[0m │\n",
              "└──────────────────────────────────────┴─────────────────────────────┴─────────────────┘\n"
            ],
            "text/html": [
              "<pre style=\"white-space:pre;overflow-x:auto;line-height:normal;font-family:Menlo,'DejaVu Sans Mono',consolas,'Courier New',monospace\">┏━━━━━━━━━━━━━━━━━━━━━━━━━━━━━━━━━━━━━━┳━━━━━━━━━━━━━━━━━━━━━━━━━━━━━┳━━━━━━━━━━━━━━━━━┓\n",
              "┃<span style=\"font-weight: bold\"> Layer (type)                         </span>┃<span style=\"font-weight: bold\"> Output Shape                </span>┃<span style=\"font-weight: bold\">         Param # </span>┃\n",
              "┡━━━━━━━━━━━━━━━━━━━━━━━━━━━━━━━━━━━━━━╇━━━━━━━━━━━━━━━━━━━━━━━━━━━━━╇━━━━━━━━━━━━━━━━━┩\n",
              "│ input_layer (<span style=\"color: #0087ff; text-decoration-color: #0087ff\">InputLayer</span>)             │ (<span style=\"color: #00d7ff; text-decoration-color: #00d7ff\">None</span>, <span style=\"color: #00af00; text-decoration-color: #00af00\">8001</span>)                │               <span style=\"color: #00af00; text-decoration-color: #00af00\">0</span> │\n",
              "├──────────────────────────────────────┼─────────────────────────────┼─────────────────┤\n",
              "│ dense (<span style=\"color: #0087ff; text-decoration-color: #0087ff\">Dense</span>)                        │ (<span style=\"color: #00d7ff; text-decoration-color: #00d7ff\">None</span>, <span style=\"color: #00af00; text-decoration-color: #00af00\">4</span>)                   │          <span style=\"color: #00af00; text-decoration-color: #00af00\">32,008</span> │\n",
              "└──────────────────────────────────────┴─────────────────────────────┴─────────────────┘\n",
              "</pre>\n"
            ]
          },
          "metadata": {}
        },
        {
          "output_type": "display_data",
          "data": {
            "text/plain": [
              "\u001b[1m Total params: \u001b[0m\u001b[38;5;34m32,008\u001b[0m (125.03 KB)\n"
            ],
            "text/html": [
              "<pre style=\"white-space:pre;overflow-x:auto;line-height:normal;font-family:Menlo,'DejaVu Sans Mono',consolas,'Courier New',monospace\"><span style=\"font-weight: bold\"> Total params: </span><span style=\"color: #00af00; text-decoration-color: #00af00\">32,008</span> (125.03 KB)\n",
              "</pre>\n"
            ]
          },
          "metadata": {}
        },
        {
          "output_type": "display_data",
          "data": {
            "text/plain": [
              "\u001b[1m Trainable params: \u001b[0m\u001b[38;5;34m32,008\u001b[0m (125.03 KB)\n"
            ],
            "text/html": [
              "<pre style=\"white-space:pre;overflow-x:auto;line-height:normal;font-family:Menlo,'DejaVu Sans Mono',consolas,'Courier New',monospace\"><span style=\"font-weight: bold\"> Trainable params: </span><span style=\"color: #00af00; text-decoration-color: #00af00\">32,008</span> (125.03 KB)\n",
              "</pre>\n"
            ]
          },
          "metadata": {}
        },
        {
          "output_type": "display_data",
          "data": {
            "text/plain": [
              "\u001b[1m Non-trainable params: \u001b[0m\u001b[38;5;34m0\u001b[0m (0.00 B)\n"
            ],
            "text/html": [
              "<pre style=\"white-space:pre;overflow-x:auto;line-height:normal;font-family:Menlo,'DejaVu Sans Mono',consolas,'Courier New',monospace\"><span style=\"font-weight: bold\"> Non-trainable params: </span><span style=\"color: #00af00; text-decoration-color: #00af00\">0</span> (0.00 B)\n",
              "</pre>\n"
            ]
          },
          "metadata": {}
        }
      ]
    },
    {
      "cell_type": "markdown",
      "source": [
        "## Training"
      ],
      "metadata": {
        "id": "iO4KIF4LpbXR"
      }
    },
    {
      "cell_type": "markdown",
      "source": [
        "- Compile the model:"
      ],
      "metadata": {
        "id": "TppdGDLosSAI"
      }
    },
    {
      "cell_type": "code",
      "source": [
        "model.compile(\n",
        "    optimizer=tf.keras.optimizers.Adam(learning_rate=lr),\n",
        "    loss=tf.keras.losses.SparseCategoricalCrossentropy(from_logits=True),\n",
        "    metrics=['accuracy']\n",
        ")"
      ],
      "metadata": {
        "id": "i2lbpbigpHqY"
      },
      "execution_count": null,
      "outputs": []
    },
    {
      "cell_type": "markdown",
      "source": [
        "- Watch the validation loss during training.\n",
        "- Stop the training when validation loss doesn't improve for `patience` consecutive  epochs.\n",
        "- Train the model:"
      ],
      "metadata": {
        "id": "XwQ0cI-ZsVJo"
      }
    },
    {
      "cell_type": "code",
      "source": [
        "callbacks = [tf.keras.callbacks.EarlyStopping(monitor='val_loss', patience=patience)]\n",
        "history = model.fit(\n",
        "    x=train_dataset,\n",
        "    epochs=epochs,\n",
        "    validation_data=dev_dataset,\n",
        "    callbacks=callbacks\n",
        ")"
      ],
      "metadata": {
        "colab": {
          "base_uri": "https://localhost:8080/"
        },
        "id": "sWDeWuMepLJz",
        "outputId": "e283ca31-5e41-4fda-a086-6efa3a9b2232"
      },
      "execution_count": null,
      "outputs": [
        {
          "output_type": "stream",
          "name": "stdout",
          "text": [
            "Epoch 1/100\n",
            "\u001b[1m23/23\u001b[0m \u001b[32m━━━━━━━━━━━━━━━━━━━━\u001b[0m\u001b[37m\u001b[0m \u001b[1m3s\u001b[0m 47ms/step - accuracy: 0.5146 - loss: 1.2439 - val_accuracy: 0.5413 - val_loss: 1.0917\n",
            "Epoch 2/100\n",
            "\u001b[1m23/23\u001b[0m \u001b[32m━━━━━━━━━━━━━━━━━━━━\u001b[0m\u001b[37m\u001b[0m \u001b[1m0s\u001b[0m 19ms/step - accuracy: 0.6326 - loss: 0.9125 - val_accuracy: 0.5764 - val_loss: 1.0226\n",
            "Epoch 3/100\n",
            "\u001b[1m23/23\u001b[0m \u001b[32m━━━━━━━━━━━━━━━━━━━━\u001b[0m\u001b[37m\u001b[0m \u001b[1m0s\u001b[0m 11ms/step - accuracy: 0.7243 - loss: 0.7746 - val_accuracy: 0.6239 - val_loss: 0.9562\n",
            "Epoch 4/100\n",
            "\u001b[1m23/23\u001b[0m \u001b[32m━━━━━━━━━━━━━━━━━━━━\u001b[0m\u001b[37m\u001b[0m \u001b[1m0s\u001b[0m 16ms/step - accuracy: 0.7722 - loss: 0.6724 - val_accuracy: 0.6485 - val_loss: 0.9074\n",
            "Epoch 5/100\n",
            "\u001b[1m23/23\u001b[0m \u001b[32m━━━━━━━━━━━━━━━━━━━━\u001b[0m\u001b[37m\u001b[0m \u001b[1m0s\u001b[0m 12ms/step - accuracy: 0.8117 - loss: 0.5958 - val_accuracy: 0.6696 - val_loss: 0.8715\n",
            "Epoch 6/100\n",
            "\u001b[1m23/23\u001b[0m \u001b[32m━━━━━━━━━━━━━━━━━━━━\u001b[0m\u001b[37m\u001b[0m \u001b[1m0s\u001b[0m 11ms/step - accuracy: 0.8403 - loss: 0.5358 - val_accuracy: 0.6924 - val_loss: 0.8435\n",
            "Epoch 7/100\n",
            "\u001b[1m23/23\u001b[0m \u001b[32m━━━━━━━━━━━━━━━━━━━━\u001b[0m\u001b[37m\u001b[0m \u001b[1m0s\u001b[0m 13ms/step - accuracy: 0.8637 - loss: 0.4869 - val_accuracy: 0.7170 - val_loss: 0.8209\n",
            "Epoch 8/100\n",
            "\u001b[1m23/23\u001b[0m \u001b[32m━━━━━━━━━━━━━━━━━━━━\u001b[0m\u001b[37m\u001b[0m \u001b[1m1s\u001b[0m 11ms/step - accuracy: 0.8826 - loss: 0.4461 - val_accuracy: 0.7329 - val_loss: 0.8024\n",
            "Epoch 9/100\n",
            "\u001b[1m23/23\u001b[0m \u001b[32m━━━━━━━━━━━━━━━━━━━━\u001b[0m\u001b[37m\u001b[0m \u001b[1m0s\u001b[0m 17ms/step - accuracy: 0.8940 - loss: 0.4112 - val_accuracy: 0.7381 - val_loss: 0.7872\n",
            "Epoch 10/100\n",
            "\u001b[1m23/23\u001b[0m \u001b[32m━━━━━━━━━━━━━━━━━━━━\u001b[0m\u001b[37m\u001b[0m \u001b[1m0s\u001b[0m 12ms/step - accuracy: 0.9055 - loss: 0.3811 - val_accuracy: 0.7452 - val_loss: 0.7744\n",
            "Epoch 11/100\n",
            "\u001b[1m23/23\u001b[0m \u001b[32m━━━━━━━━━━━━━━━━━━━━\u001b[0m\u001b[37m\u001b[0m \u001b[1m0s\u001b[0m 7ms/step - accuracy: 0.9152 - loss: 0.3548 - val_accuracy: 0.7540 - val_loss: 0.7637\n",
            "Epoch 12/100\n",
            "\u001b[1m23/23\u001b[0m \u001b[32m━━━━━━━━━━━━━━━━━━━━\u001b[0m\u001b[37m\u001b[0m \u001b[1m0s\u001b[0m 6ms/step - accuracy: 0.9271 - loss: 0.3315 - val_accuracy: 0.7610 - val_loss: 0.7547\n",
            "Epoch 13/100\n",
            "\u001b[1m23/23\u001b[0m \u001b[32m━━━━━━━━━━━━━━━━━━━━\u001b[0m\u001b[37m\u001b[0m \u001b[1m0s\u001b[0m 12ms/step - accuracy: 0.9353 - loss: 0.3108 - val_accuracy: 0.7663 - val_loss: 0.7470\n",
            "Epoch 14/100\n",
            "\u001b[1m23/23\u001b[0m \u001b[32m━━━━━━━━━━━━━━━━━━━━\u001b[0m\u001b[37m\u001b[0m \u001b[1m0s\u001b[0m 10ms/step - accuracy: 0.9390 - loss: 0.2922 - val_accuracy: 0.7733 - val_loss: 0.7406\n",
            "Epoch 15/100\n",
            "\u001b[1m23/23\u001b[0m \u001b[32m━━━━━━━━━━━━━━━━━━━━\u001b[0m\u001b[37m\u001b[0m \u001b[1m0s\u001b[0m 10ms/step - accuracy: 0.9413 - loss: 0.2754 - val_accuracy: 0.7715 - val_loss: 0.7351\n",
            "Epoch 16/100\n",
            "\u001b[1m23/23\u001b[0m \u001b[32m━━━━━━━━━━━━━━━━━━━━\u001b[0m\u001b[37m\u001b[0m \u001b[1m0s\u001b[0m 10ms/step - accuracy: 0.9438 - loss: 0.2603 - val_accuracy: 0.7768 - val_loss: 0.7305\n",
            "Epoch 17/100\n",
            "\u001b[1m23/23\u001b[0m \u001b[32m━━━━━━━━━━━━━━━━━━━━\u001b[0m\u001b[37m\u001b[0m \u001b[1m0s\u001b[0m 9ms/step - accuracy: 0.9470 - loss: 0.2465 - val_accuracy: 0.7750 - val_loss: 0.7267\n",
            "Epoch 18/100\n",
            "\u001b[1m23/23\u001b[0m \u001b[32m━━━━━━━━━━━━━━━━━━━━\u001b[0m\u001b[37m\u001b[0m \u001b[1m0s\u001b[0m 7ms/step - accuracy: 0.9488 - loss: 0.2339 - val_accuracy: 0.7768 - val_loss: 0.7235\n",
            "Epoch 19/100\n",
            "\u001b[1m23/23\u001b[0m \u001b[32m━━━━━━━━━━━━━━━━━━━━\u001b[0m\u001b[37m\u001b[0m \u001b[1m0s\u001b[0m 6ms/step - accuracy: 0.9496 - loss: 0.2224 - val_accuracy: 0.7768 - val_loss: 0.7209\n",
            "Epoch 20/100\n",
            "\u001b[1m23/23\u001b[0m \u001b[32m━━━━━━━━━━━━━━━━━━━━\u001b[0m\u001b[37m\u001b[0m \u001b[1m0s\u001b[0m 6ms/step - accuracy: 0.9567 - loss: 0.2118 - val_accuracy: 0.7821 - val_loss: 0.7189\n",
            "Epoch 21/100\n",
            "\u001b[1m23/23\u001b[0m \u001b[32m━━━━━━━━━━━━━━━━━━━━\u001b[0m\u001b[37m\u001b[0m \u001b[1m0s\u001b[0m 8ms/step - accuracy: 0.9586 - loss: 0.2020 - val_accuracy: 0.7786 - val_loss: 0.7172\n",
            "Epoch 22/100\n",
            "\u001b[1m23/23\u001b[0m \u001b[32m━━━━━━━━━━━━━━━━━━━━\u001b[0m\u001b[37m\u001b[0m \u001b[1m0s\u001b[0m 7ms/step - accuracy: 0.9632 - loss: 0.1930 - val_accuracy: 0.7803 - val_loss: 0.7161\n",
            "Epoch 23/100\n",
            "\u001b[1m23/23\u001b[0m \u001b[32m━━━━━━━━━━━━━━━━━━━━\u001b[0m\u001b[37m\u001b[0m \u001b[1m0s\u001b[0m 7ms/step - accuracy: 0.9652 - loss: 0.1847 - val_accuracy: 0.7803 - val_loss: 0.7152\n",
            "Epoch 24/100\n",
            "\u001b[1m23/23\u001b[0m \u001b[32m━━━━━━━━━━━━━━━━━━━━\u001b[0m\u001b[37m\u001b[0m \u001b[1m0s\u001b[0m 7ms/step - accuracy: 0.9661 - loss: 0.1770 - val_accuracy: 0.7803 - val_loss: 0.7147\n",
            "Epoch 25/100\n",
            "\u001b[1m23/23\u001b[0m \u001b[32m━━━━━━━━━━━━━━━━━━━━\u001b[0m\u001b[37m\u001b[0m \u001b[1m0s\u001b[0m 7ms/step - accuracy: 0.9670 - loss: 0.1698 - val_accuracy: 0.7856 - val_loss: 0.7145\n",
            "Epoch 26/100\n",
            "\u001b[1m23/23\u001b[0m \u001b[32m━━━━━━━━━━━━━━━━━━━━\u001b[0m\u001b[37m\u001b[0m \u001b[1m0s\u001b[0m 8ms/step - accuracy: 0.9691 - loss: 0.1631 - val_accuracy: 0.7873 - val_loss: 0.7146\n",
            "Epoch 27/100\n",
            "\u001b[1m23/23\u001b[0m \u001b[32m━━━━━━━━━━━━━━━━━━━━\u001b[0m\u001b[37m\u001b[0m \u001b[1m0s\u001b[0m 10ms/step - accuracy: 0.9695 - loss: 0.1569 - val_accuracy: 0.7873 - val_loss: 0.7149\n",
            "Epoch 28/100\n",
            "\u001b[1m23/23\u001b[0m \u001b[32m━━━━━━━━━━━━━━━━━━━━\u001b[0m\u001b[37m\u001b[0m \u001b[1m0s\u001b[0m 11ms/step - accuracy: 0.9710 - loss: 0.1511 - val_accuracy: 0.7891 - val_loss: 0.7154\n"
          ]
        }
      ]
    },
    {
      "cell_type": "markdown",
      "source": [
        "- Plot learning curves:"
      ],
      "metadata": {
        "id": "4uJvnqQIsc13"
      }
    },
    {
      "cell_type": "code",
      "source": [
        "plt.plot(history.history['accuracy'])\n",
        "plt.plot(history.history['val_accuracy'])\n",
        "plt.title('model accuracy')\n",
        "plt.ylabel('accuracy')\n",
        "plt.xlabel('epoch')\n",
        "plt.legend(['train', 'val'], loc='upper left')\n",
        "plt.show()"
      ],
      "metadata": {
        "colab": {
          "base_uri": "https://localhost:8080/",
          "height": 472
        },
        "id": "CSRG2X2Ra9e_",
        "outputId": "f5e5dd33-a3d3-4ce1-9fc9-b1b1719914e1"
      },
      "execution_count": null,
      "outputs": [
        {
          "output_type": "display_data",
          "data": {
            "text/plain": [
              "<Figure size 640x480 with 1 Axes>"
            ],
            "image/png": "[encoded data removed]"
          },
          "metadata": {}
        }
      ]
    },
    {
      "cell_type": "code",
      "source": [
        "plt.plot(history.history['loss'])\n",
        "plt.plot(history.history['val_loss'])\n",
        "plt.title('model loss')\n",
        "plt.ylabel('loss')\n",
        "plt.xlabel('epoch')\n",
        "plt.legend(['train', 'val'], loc='upper left')\n",
        "plt.show()"
      ],
      "metadata": {
        "colab": {
          "base_uri": "https://localhost:8080/",
          "height": 472
        },
        "id": "NNvXqpkHskK_",
        "outputId": "a6dc1069-3596-4840-a3e9-869dacdd1abc"
      },
      "execution_count": null,
      "outputs": [
        {
          "output_type": "display_data",
          "data": {
            "text/plain": [
              "<Figure size 640x480 with 1 Axes>"
            ],
            "image/png": "[encoded data removed]"
          },
          "metadata": {}
        }
      ]
    },
    {
      "cell_type": "markdown",
      "source": [
        "- It is clear that the model is overfitting the training data. Scroll down for a word about that."
      ],
      "metadata": {
        "id": "jStQh25fkhhC"
      }
    },
    {
      "cell_type": "markdown",
      "source": [
        "## Evaluation"
      ],
      "metadata": {
        "id": "svj2dx55pMch"
      }
    },
    {
      "cell_type": "code",
      "source": [
        "loss, accuracy, f1score, mf1score = evaluate(model, dev_dataset, dev_labels)\n",
        "print(\"Loss                       :\", loss)\n",
        "print(\"Accuracy                   :\", accuracy)\n",
        "print(\"F1 score                   :\", f1score)\n",
        "print(\"Macro F1 score             :\", mf1score)"
      ],
      "metadata": {
        "colab": {
          "base_uri": "https://localhost:8080/"
        },
        "id": "x8L3hegPpg0J",
        "outputId": "2024f0db-f92f-4715-baa7-8a0573352c09"
      },
      "execution_count": null,
      "outputs": [
        {
          "output_type": "stream",
          "name": "stdout",
          "text": [
            "\u001b[1m5/5\u001b[0m \u001b[32m━━━━━━━━━━━━━━━━━━━━\u001b[0m\u001b[37m\u001b[0m \u001b[1m0s\u001b[0m 6ms/step - accuracy: 0.7789 - loss: 0.7129 \n",
            "\u001b[1m5/5\u001b[0m \u001b[32m━━━━━━━━━━━━━━━━━━━━\u001b[0m\u001b[37m\u001b[0m \u001b[1m0s\u001b[0m 10ms/step\n",
            "Loss                       : 0.7154432535171509\n",
            "Accuracy                   : 0.789103690685413\n",
            "F1 score                   : [0.76923077 0.74285714 0.50909091 0.85321101]\n",
            "Macro F1 score             : 0.7185974575882832\n"
          ]
        }
      ]
    },
    {
      "cell_type": "code",
      "source": [
        "loss, accuracy, f1score, mf1score = evaluate(model, test_dataset, test_labels)\n",
        "print(\"Loss                       :\", loss)\n",
        "print(\"Accuracy                   :\", accuracy)\n",
        "print(\"F1 score                   :\", f1score)\n",
        "print(\"Macro F1 score             :\", mf1score)"
      ],
      "metadata": {
        "colab": {
          "base_uri": "https://localhost:8080/"
        },
        "id": "YXyHHd39pj3n",
        "outputId": "0a9eb0db-ef74-4160-e5c8-a2eabc3fe46e"
      },
      "execution_count": null,
      "outputs": [
        {
          "output_type": "stream",
          "name": "stdout",
          "text": [
            "\u001b[1m6/6\u001b[0m \u001b[32m━━━━━━━━━━━━━━━━━━━━\u001b[0m\u001b[37m\u001b[0m \u001b[1m0s\u001b[0m 11ms/step - accuracy: 0.8572 - loss: 0.5320\n",
            "\u001b[1m6/6\u001b[0m \u001b[32m━━━━━━━━━━━━━━━━━━━━\u001b[0m\u001b[37m\u001b[0m \u001b[1m0s\u001b[0m 5ms/step\n",
            "Loss                       : 0.6460802555084229\n",
            "Accuracy                   : 0.8204334365325078\n",
            "F1 score                   : [0.82711864 0.71666667 0.39583333 0.88604353]\n",
            "Macro F1 score             : 0.7064155444996636\n"
          ]
        }
      ]
    },
    {
      "cell_type": "markdown",
      "source": [
        "## A first thought on Overfitting"
      ],
      "metadata": {
        "id": "p5JCXcFOks4S"
      }
    },
    {
      "cell_type": "markdown",
      "source": [
        "In the following, I will propose (needs further investigation) the following propositions:\n",
        "- The model's failure to improve on the validation set, despite increasing training set performance, suggests that it's not simply learning spurious patterns. Instead, it's struggling to capture the underlying concepts of the 'disagree' and 'discuss' classes. These classes are inherently complex and underrepresented across the three sets. Consequently, early stopping or regularization, while potentially mitigating overfitting, could also hinder the model's capacity (ability) to learn valuable patterns from the 'unrelated' and 'agree' classes, leading to lower overall performance.\n",
        "\n",
        "- Our empirical findings corroborate this, as we observed substantial performance degradation on both validation and testing sets when these techniques were applied."
      ],
      "metadata": {
        "id": "-7HCp7PIwMTv"
      }
    },
    {
      "cell_type": "markdown",
      "source": [
        "![image not found](tab_arastance.png)"
      ],
      "metadata": {
        "id": "UUbijVtalAFK"
      }
    },
    {
      "cell_type": "markdown",
      "source": [
        "Let's take a look at the statistics of the dataset (the table is from AraStance paper):\n",
        "- The dataset exhibits a clear class imbalance, with the 'unrelated' class significantly outnumbering the others. Additionally, the 'disagree' and 'discuss' classes are underrepresented compared to 'agree' and 'unrelated'.\n",
        "- In fact, the inherent complexity of the 'disagree' and 'discuss' classes contributes to their classification difficulty:\n",
        "  - **Unrelated class:** Easily identifiable through simple similarity measures, as these instances contain articles that tackle different topics than their claims.\n",
        "  - **Agree class:** The same measures will be very good at classifying the 'agree' instances, because the language of confirmation overlaps very much with main premises.\n",
        "  - **Discuss class:** Those measures will not be as good at classifying the 'discuss' class despite the possibility of overlapping words. Discussing involves giving more details and different viewpoints on the same topics. It requires more complex comprehension skills.\n",
        "  - **Disagree class:** The same way, in order to classify the 'disagree' instances, you need to detect the disagreement signal which could use simple negation terms or more complex negations like changing dates, quantities, or introducing opposing concepts (e.g. Sky is Blue vs. Sky is Black).\n",
        "\n",
        "- The relative lower representations of the 'discuss' and 'disagree' classes across the three sets exacerbates the classification challenge.\n",
        "\n"
      ],
      "metadata": {
        "id": "EE8_bYYTmS1D"
      }
    }
  ]
}