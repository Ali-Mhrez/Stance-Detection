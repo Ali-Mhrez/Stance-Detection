{
  "nbformat": 4,
  "nbformat_minor": 0,
  "metadata": {
    "colab": {
      "provenance": []
    },
    "kernelspec": {
      "name": "python3",
      "display_name": "Python 3"
    },
    "language_info": {
      "name": "python"
    }
  },
  "cells": [
    {
      "cell_type": "markdown",
      "source": [
        "# Stance Detection Using Dummy Models\n",
        "\n",
        "`Dummy Models`  \n",
        "`AraStance Dataset`  \n",
        "`Stance Detection` `Arabic Language`\n",
        "\n",
        "---\n",
        "\n",
        "In this notebook, we test the performance of dummy models as baselines for the task of article stance detection in the AraStance dataset. The dataset was introduced in the paper:\n",
        "```\n",
        "AraStance: A Multi-Country and Multi-Domain Dataset of Arabic Stance Detection for Fact Checking.\n",
        "```"
      ],
      "metadata": {
        "id": "5H1RrMEJPOXN"
      }
    },
    {
      "cell_type": "markdown",
      "source": [
        "## Packages"
      ],
      "metadata": {
        "id": "ze1WVX-tPTs0"
      }
    },
    {
      "cell_type": "code",
      "source": [
        "import numpy as np\n",
        "from sklearn.metrics import f1_score\n",
        "from utils import AraStanceData, stance_to_int"
      ],
      "metadata": {
        "id": "NRmuJrPxenqg"
      },
      "execution_count": 1,
      "outputs": []
    },
    {
      "cell_type": "markdown",
      "source": [
        "## Raw data"
      ],
      "metadata": {
        "id": "tUQw32wWfBXM"
      }
    },
    {
      "cell_type": "markdown",
      "source": [
        "- Download the raw data:"
      ],
      "metadata": {
        "id": "3yJPBtSZfHXM"
      }
    },
    {
      "cell_type": "code",
      "source": [
        "!wget https://github.com/Tariq60/arastance/archive/refs/heads/main.zip\n",
        "!unzip /content/main.zip"
      ],
      "metadata": {
        "id": "gbOpJdW1fBnL"
      },
      "execution_count": null,
      "outputs": []
    },
    {
      "cell_type": "markdown",
      "source": [
        "- Let's start by reading the raw data:"
      ],
      "metadata": {
        "id": "T4-u0ol3fKcX"
      }
    },
    {
      "cell_type": "code",
      "source": [
        "raw_train = AraStanceData(\"/content/arastance-main/data/train.jsonl\")\n",
        "raw_val = AraStanceData(\"/content/arastance-main/data/dev.jsonl\")\n",
        "raw_test = AraStanceData(\"/content/arastance-main/data/test.jsonl\")\n",
        "\n",
        "print(f'# training instances: {len(raw_train.stances)}')\n",
        "print(f'# validation instances: {len(raw_val.stances)}')\n",
        "print(f'# testing instances: {len(raw_test.stances)}')"
      ],
      "metadata": {
        "colab": {
          "base_uri": "https://localhost:8080/"
        },
        "id": "XI2al79OfLXO",
        "outputId": "f810d95b-d505-4252-cf3d-0313a95bb0ba"
      },
      "execution_count": 2,
      "outputs": [
        {
          "output_type": "stream",
          "name": "stdout",
          "text": [
            "# training instances: 2848\n",
            "# validation instances: 569\n",
            "# testing instances: 646\n"
          ]
        }
      ]
    },
    {
      "cell_type": "markdown",
      "source": [
        "- Let's see an instance from the data:"
      ],
      "metadata": {
        "id": "V2gUdXyDfOXh"
      }
    },
    {
      "cell_type": "code",
      "source": [
        "instance_no = 110\n",
        "print(f\"Claim text: {raw_train.claims[raw_train.article_claim[instance_no]]}\")\n",
        "print(f\"Article text: {raw_train.articles[instance_no]}\")\n",
        "print(f\"Stance: {raw_train.stances[instance_no]}\")"
      ],
      "metadata": {
        "colab": {
          "base_uri": "https://localhost:8080/"
        },
        "id": "2gIZNN5KfPcm",
        "outputId": "b70bbbae-3b72-4df1-cb6b-5408764564bb"
      },
      "execution_count": 3,
      "outputs": [
        {
          "output_type": "stream",
          "name": "stdout",
          "text": [
            "Claim text: صدور بيان بقائمة أسماء ممنوعة ووجوب تغيير الاسم خلال ثلاثين يوم.\n",
            "Article text: ماحقيقة الاسماء الممنوعة في السعودية ، سؤال تداوله الجميع عبر مواقع التواصل الاجتماعي بعد أن تناقل الكثيرون قائمة بأسماء منعتها الأحوال المدنية في السعودية شملت الكثير من الأسماء التي قد لايخلو منزل منها ، وتساءل البعض عن أسباب المنع وكيف يمكن تغيير الاسماء التي تم تسميتها مسبقا ؟ الأحوال المدنية توضح حقيقة الاسماء الممنوعة في السعودية أوضحت الأحوال المدنية السعودية أن ما يتم تناقله عبر المواقع الاجتماعية عن أسماء ممنوعة في السعودية هي معلومات خالية من الصحة ، وقالت عبر حسابها الرسمي على تويتر ( ما يتم تداوله حول صدور بيان بقائمة أسماء ممنوعة ووجوب تغيير الاسم خلال ثلاثين يوماً غير صحيح، ونأمل أخذ المعلومات من المصادر الرسمية. كما وأوضح المتحدث الرسمي للأحوال المدنية محمد الجاسر أنه لا يتم تسجيل أسماء المواليد غير الجائزة شرعا والأسماء غير الملائمة اجتماعيا ونحوها، وأضاف أن اللائحة التنفيذية لنظام الأحوال المدنية وضحت أنه لا يجوز التسمية بالأسماء التي نصت الفتاوى الشرعية على عدم جوازها، إضافة الأسماء المكروهة شرعا. وأشار إلى ضرورة التقيد بقواعد اللغة العربية عند تسجيل الأسماء وأن يكون مجردًا من الألقاب فلا تسجل الكلمات التي ليست جزءًا من الاسم، مشيرًا إلى أنه لايتم تسجيل الأسماء المركبة. ولفت إلى أنه في الآونة الأخيرة تناقلت وسائل التواصل الاجتماعي بياناً يحتوي على (50) اسما وأن الأحوال المدنية عممته على المستشفيات لعدم التسجيل بتلك الأسماء، نافيًا بذلك صحة صدور هذا البيان من الأحوال المدنية ، ودعا الجاسر في ختام تصريحه الآباء إلى حسن اختيار الأسماء لأبنائهم متقيدين بالأنظمة والتعليمات المنظمة لذلك.\n",
            "Stance: Disagree\n"
          ]
        }
      ]
    },
    {
      "cell_type": "markdown",
      "source": [
        "## Random classifier"
      ],
      "metadata": {
        "id": "SQLOo3KZen6C"
      }
    },
    {
      "cell_type": "markdown",
      "source": [
        "- Let's start with the performance of a random classifier that gives random predictions:"
      ],
      "metadata": {
        "id": "fEndyIsh3sV3"
      }
    },
    {
      "cell_type": "code",
      "source": [
        "def random_classifier(labels, no_trials = 5):\n",
        "\n",
        "  accuracy, mf1score, f1score = 0, 0, 0\n",
        "  no_classes = len(np.unique(labels))\n",
        "\n",
        "  for _ in range(no_trials):\n",
        "    predictions = np.array([np.random.randint(0, no_classes) for _ in range(len(labels))])\n",
        "\n",
        "    accuracy = np.sum(predictions == np.array(labels)) / len(labels) * no_trials\n",
        "\n",
        "    f1score += f1_score(labels, predictions, average=None) / no_trials\n",
        "    mf1score += f1_score(labels, predictions, average='macro') / no_trials\n",
        "\n",
        "  return accuracy, f1score, mf1score"
      ],
      "metadata": {
        "id": "kqJ1TE3teW30"
      },
      "execution_count": 4,
      "outputs": []
    },
    {
      "cell_type": "code",
      "source": [
        "test_labels = [stance_to_int[stance] for stance in raw_test.stances]\n",
        "accuracy, f1score, mf1score= random_classifier(test_labels, 1)\n",
        "print(\"Accuracy                   :\", accuracy)\n",
        "print(\"F1 score                   :\", f1score)\n",
        "print(\"Macro F1 score             :\", mf1score)"
      ],
      "metadata": {
        "colab": {
          "base_uri": "https://localhost:8080/"
        },
        "id": "-yDhKoYOeaV_",
        "outputId": "dd0c1c77-974c-4d43-c4e5-475a13fa1a05"
      },
      "execution_count": 8,
      "outputs": [
        {
          "output_type": "stream",
          "name": "stdout",
          "text": [
            "Accuracy                   : 0.2693498452012384\n",
            "F1 score                   : [0.25705329 0.1888412  0.17167382 0.35897436]\n",
            "Macro F1 score             : 0.24413566799240916\n"
          ]
        }
      ]
    },
    {
      "cell_type": "markdown",
      "source": [
        "## Majority classifier"
      ],
      "metadata": {
        "id": "C6tYSBALgEKK"
      }
    },
    {
      "cell_type": "markdown",
      "source": [
        "- Now, let's check the performance of a majority classifier that predicts the majority class all the time:"
      ],
      "metadata": {
        "id": "1NSBnwEM32ZV"
      }
    },
    {
      "cell_type": "code",
      "source": [
        "def majority_classifier(labels, majority_class):\n",
        "\n",
        "  predictions = [stance_to_int[majority_class]] * len(labels)\n",
        "  accuracy = np.sum(np.array(predictions) == np.array(labels)) / len(labels)\n",
        "\n",
        "  f1score = f1_score(labels, predictions, average=None)\n",
        "  mf1score = f1_score(labels, predictions, average='macro')\n",
        "\n",
        "  return accuracy, f1score, mf1score"
      ],
      "metadata": {
        "id": "MXI8hIO7RXdp"
      },
      "execution_count": 6,
      "outputs": []
    },
    {
      "cell_type": "code",
      "source": [
        "test_labels = [stance_to_int[stance] for stance in raw_test.stances]\n",
        "accuracy, f1score, mf1score = majority_classifier(test_labels, 'unrelated')\n",
        "print(\"Accuracy                   :\", accuracy)\n",
        "print(\"F1 score                   :\", f1score)\n",
        "print(\"Macro F1 score             :\", mf1score)"
      ],
      "metadata": {
        "colab": {
          "base_uri": "https://localhost:8080/"
        },
        "id": "pgtSQ6yQgMoT",
        "outputId": "740e6784-27c3-46a3-842b-08d6e66cf5f6"
      },
      "execution_count": 7,
      "outputs": [
        {
          "output_type": "stream",
          "name": "stdout",
          "text": [
            "Accuracy                   : 0.5541795665634675\n",
            "F1 score                   : [0.         0.         0.         0.71314741]\n",
            "Macro F1 score             : 0.17828685258964144\n"
          ]
        }
      ]
    }
  ]
}