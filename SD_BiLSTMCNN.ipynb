{
  "nbformat": 4,
  "nbformat_minor": 0,
  "metadata": {
    "colab": {
      "provenance": [],
      "gpuType": "T4",
      "toc_visible": true
    },
    "kernelspec": {
      "name": "python3",
      "display_name": "Python 3"
    },
    "language_info": {
      "name": "python"
    },
    "accelerator": "GPU"
  },
  "cells": [
    {
      "cell_type": "markdown",
      "source": [
        "# Stance Detection Using Bidirectional Long Short-Term Memory Followed By Convolutional Neural Network\n",
        "\n",
        "`Convolutional Neural Networks` `Bidirectional Long Short-Term Memory`  \n",
        "`AraVec Word Vectors`  \n",
        "`AraStance Dataset`  \n",
        "`Stance Detection` `Arabic Language` `Transfer Learning`\n",
        "\n",
        "---\n",
        "\n",
        "In this notebook, we rely on a hybrid architecture comprising a very simple bidirectional long short-term memory followed by a convolutional neural network to classify the stances of the articles in the AraStance dataset. The dataset was introduced in the paper:\n",
        "```\n",
        "AraStance: A Multi-Country and Multi-Domain Dataset of Arabic Stance Detection for Fact Checking.\n",
        "```\n",
        "The pretrained vectors (AraVec project) was introduced in the paper:\n",
        "```\n",
        "AraVec: A set of Arabic Word Embedding Models for use in Arabic NLP.\n",
        "```"
      ],
      "metadata": {
        "id": "5H1RrMEJPOXN"
      }
    },
    {
      "cell_type": "markdown",
      "source": [
        "## Packages"
      ],
      "metadata": {
        "id": "ze1WVX-tPTs0"
      }
    },
    {
      "cell_type": "code",
      "execution_count": null,
      "metadata": {
        "id": "uTVzv6NOPIow",
        "colab": {
          "base_uri": "https://localhost:8080/"
        },
        "outputId": "1258ba04-70a9-4ca1-c2ed-5ef8d360b5f9"
      },
      "outputs": [
        {
          "output_type": "stream",
          "name": "stdout",
          "text": [
            "Requirement already satisfied: gensim in /usr/local/lib/python3.10/dist-packages (4.3.3)\n",
            "Requirement already satisfied: numpy<2.0,>=1.18.5 in /usr/local/lib/python3.10/dist-packages (from gensim) (1.26.4)\n",
            "Requirement already satisfied: scipy<1.14.0,>=1.7.0 in /usr/local/lib/python3.10/dist-packages (from gensim) (1.13.1)\n",
            "Requirement already satisfied: smart-open>=1.8.1 in /usr/local/lib/python3.10/dist-packages (from gensim) (7.0.5)\n",
            "Requirement already satisfied: wrapt in /usr/local/lib/python3.10/dist-packages (from smart-open>=1.8.1->gensim) (1.16.0)\n",
            "Collecting pyarabic\n",
            "  Downloading PyArabic-0.6.15-py3-none-any.whl.metadata (10 kB)\n",
            "Requirement already satisfied: six>=1.14.0 in /usr/local/lib/python3.10/dist-packages (from pyarabic) (1.16.0)\n",
            "Downloading PyArabic-0.6.15-py3-none-any.whl (126 kB)\n",
            "\u001b[2K   \u001b[90m━━━━━━━━━━━━━━━━━━━━━━━━━━━━━━━━━━━━━━━━\u001b[0m \u001b[32m126.4/126.4 kB\u001b[0m \u001b[31m4.1 MB/s\u001b[0m eta \u001b[36m0:00:00\u001b[0m\n",
            "\u001b[?25hInstalling collected packages: pyarabic\n",
            "Successfully installed pyarabic-0.6.15\n"
          ]
        }
      ],
      "source": [
        "!pip install gensim\n",
        "!pip install pyarabic"
      ]
    },
    {
      "cell_type": "code",
      "source": [
        "import gensim\n",
        "import numpy as np\n",
        "import tensorflow as tf\n",
        "from matplotlib import pyplot as plt\n",
        "from sklearn.metrics import confusion_matrix, ConfusionMatrixDisplay\n",
        "from preprocessing import *\n",
        "from utils import AraStanceData, evaluate, stance_to_int"
      ],
      "metadata": {
        "id": "MXI8hIO7RXdp"
      },
      "execution_count": null,
      "outputs": []
    },
    {
      "cell_type": "markdown",
      "source": [
        "## Raw data"
      ],
      "metadata": {
        "id": "xgjr5SIkPbgP"
      }
    },
    {
      "cell_type": "markdown",
      "source": [
        "- Download the raw data:\n",
        "\n"
      ],
      "metadata": {
        "id": "veGgEXfZbS6D"
      }
    },
    {
      "cell_type": "code",
      "source": [
        "!wget https://github.com/Tariq60/arastance/archive/refs/heads/main.zip\n",
        "!unzip /content/main.zip"
      ],
      "metadata": {
        "id": "BZL5h8rmPiPX",
        "colab": {
          "base_uri": "https://localhost:8080/"
        },
        "outputId": "a09ec49c-807b-428b-e274-a400c8b14367"
      },
      "execution_count": null,
      "outputs": [
        {
          "output_type": "stream",
          "name": "stdout",
          "text": [
            "--2024-11-13 07:05:19--  https://github.com/Tariq60/arastance/archive/refs/heads/main.zip\n",
            "Resolving github.com (github.com)... 20.205.243.166\n",
            "Connecting to github.com (github.com)|20.205.243.166|:443... connected.\n",
            "HTTP request sent, awaiting response... 302 Found\n",
            "Location: https://codeload.github.com/Tariq60/arastance/zip/refs/heads/main [following]\n",
            "--2024-11-13 07:05:19--  https://codeload.github.com/Tariq60/arastance/zip/refs/heads/main\n",
            "Resolving codeload.github.com (codeload.github.com)... 20.205.243.165\n",
            "Connecting to codeload.github.com (codeload.github.com)|20.205.243.165|:443... connected.\n",
            "HTTP request sent, awaiting response... 200 OK\n",
            "Length: unspecified [application/zip]\n",
            "Saving to: ‘main.zip’\n",
            "\n",
            "main.zip                [      <=>           ]  14.09M  3.19MB/s    in 4.4s    \n",
            "\n",
            "2024-11-13 07:05:25 (3.19 MB/s) - ‘main.zip’ saved [14776886]\n",
            "\n",
            "Archive:  /content/main.zip\n",
            "cfb85ecb3043b5def6bb619afca86547cc330738\n",
            "   creating: arastance-main/\n",
            "  inflating: arastance-main/README.md  \n",
            "   creating: arastance-main/data/\n",
            "  inflating: arastance-main/data/dev.jsonl  \n",
            "  inflating: arastance-main/data/test.jsonl  \n",
            "  inflating: arastance-main/data/train.jsonl  \n"
          ]
        }
      ]
    },
    {
      "cell_type": "markdown",
      "source": [
        "- Let's start by reading the raw data:"
      ],
      "metadata": {
        "id": "RPMF6e2qbWt8"
      }
    },
    {
      "cell_type": "code",
      "source": [
        "raw_train = AraStanceData(\"/content/arastance-main/data/train.jsonl\")\n",
        "raw_val = AraStanceData(\"/content/arastance-main/data/dev.jsonl\")\n",
        "raw_test = AraStanceData(\"/content/arastance-main/data/test.jsonl\")\n",
        "\n",
        "print(f'# training instances: {len(raw_train.stances)}')\n",
        "print(f'# validation instances: {len(raw_val.stances)}')\n",
        "print(f'# testing instances: {len(raw_test.stances)}')"
      ],
      "metadata": {
        "colab": {
          "base_uri": "https://localhost:8080/"
        },
        "id": "UHvBzBq3Pv7O",
        "outputId": "c01c768d-2561-4ed2-cd11-268fe6f9205d"
      },
      "execution_count": null,
      "outputs": [
        {
          "output_type": "stream",
          "name": "stdout",
          "text": [
            "# training instances: 2848\n",
            "# validation instances: 569\n",
            "# testing instances: 646\n"
          ]
        }
      ]
    },
    {
      "cell_type": "markdown",
      "source": [
        "- Let's see an instance from the data:"
      ],
      "metadata": {
        "id": "6-RhBKLObZcc"
      }
    },
    {
      "cell_type": "code",
      "source": [
        "instance_no = 90\n",
        "print(f\"Claim text: {raw_train.claims[raw_train.article_claim[instance_no]]}\")\n",
        "print(f\"Article text: {raw_train.articles[instance_no]}\")\n",
        "print(f\"Stance: {raw_train.stances[instance_no]}\")"
      ],
      "metadata": {
        "colab": {
          "base_uri": "https://localhost:8080/"
        },
        "id": "1-cQ_grOTW2L",
        "outputId": "85464e62-2172-45aa-9242-579d3e2456c9"
      },
      "execution_count": null,
      "outputs": [
        {
          "output_type": "stream",
          "name": "stdout",
          "text": [
            "Claim text: شخص بيلعب باليه في شارع التجمع الخامس\n",
            "Article text: \"هل يحبني\"؟ سؤال تطرحه المرأة على نفسها مع بداية ميلاد مشاعر إعجاب بشخص ما، وبوادر نشوء علاقة. لكن أحيانا يحتاج الرجل لوقت طويل ليظهر مشاعره الحقيقية بوضوح، فما هي العلامات التي تدلك على أنه لا يستحقك أو أنه يحبك بالفعل؟ تردد الرجل في إظهار مشاعره تجاه المرأة، مسألة محيرة جدا للمرأة. وقد يكون هذا التردد مؤشرا على التأني في المشاعر أو عدم وجود مشاعر حقيقية من الأساس، فكيف تحدد المرأة هذا الأمر. ثمة بعض العلامات التي تؤكد أن هذا الرجل لا يستحق أن تنتظريه، ومن بينها: دائم الانتقاد: الرجل الذي لا يكف عن انتقاد مظهرك وقوامك وملابسك، لا يحبك بالتأكيد. فالقاعدة الأساسية هي أن الرجل عندما يحبك فهو يحب حتى عيوبك. يهتم بنفسه فقط: الرجل الذي لا يبذل أي مجهود في محاولة مقابلتك، وعندما يقابلك بالصدفة يحدد بحسب وقته ورغباته، المكان الذي تتقابلان فيه وموضوعات الحوار، هو بالتأكيد لم يصل لمرحلة كافية من الاهتمام بك، وفقا للنقاط التي رصدها موقع \"غوفيمنين\" الألماني. لا يرغب في معرفة عائلتك وأصدقائك: عندما لا يهتم الرجل بالتعرف على عائلتك وأصدقائك المقربين، فهذا دليل على أن مشاعره تجاهك ربما لا تتجاوز مشاعر الإعجاب السطحي أو الزمالة، لكنها بالتأكيد ليست كافية لتصبح علاقة حب قوية. لا يتكلم مع أهله عنك: عندما يقع الرجل في حب امرأة، فهو يرغب في الحديث عنها مع كل من يعرفهم. لذا فالرجل الذي ينسى أي شيء يتعلق بك بعد مقابلتكما، ربما يبحث عن علاقة عابرة فقط أو يرتاح في الحديث معك، لكن ليس أكثر من ذلك. نظرة الحب: عبارة \"أحبك\" لا تأتي عادة في بداية التعارف، وأحيانا تتأخر كثيرا مع بعض الرجال، لكن هناك العديد من الطرق التي يلجأ إليها الرجل للتعبير عن اهتمامه بك ومن بينها نظرة الحب في عينه أو تعبيرات المجاملة الرقيقة أو السؤال الدائم عنك. فإذا غابت هذه الأشياء عن العلاقة، فربما عليك إعادة النظر في الأمر وعدم إضاعة المزيد من الوقت في انتظار أن يفصح عن مشاعره. على الجانب الآخر هناك علامات واضحة تدل على إعجاب الرجل بك وفقا لموقع \"وومان\" النمساوي، ومن بينها: يعرف اهتماماتك: هل يعرف فيلمك المفضل أو المطرب الذي تتمني حضور حفله ويفاجئك بتذكرة للحفل؟ الاهتمام من أكبر العلامات التي تؤكد أن مشاعره تجاهك تسير في اتجاه الحب. لا ينظر في المحمول: انشغال الرجل بهاتفه الذكي طوال الوقت، يعني أنه لم يحسم أمره بعد، لذا فإن الرجل الذي يتخلى عن هاتفه عندما يجلس معك، يؤكد أنك أهم من متابعة الأخبار أو الدردشة مع الأصدقاء على الفيسبوك أو الواتس آب. هدايا بسيطة: الرجل الذي يحرص على إهدائك وردة أو شوكولاتة دون مناسبة، يرغب في أن يوصل رسالة مفادها أنه يفكر فيك. القليل من الغيرة: عندما يهتم الرجل بالاطمئنان على عودتك للمنزل وسؤالك عن كيفية قضاء وقتك ومع من، فهذه من علامات الإعجاب المؤدية للحب. يحب شكلك بدون ماكياج: \"تبدين رائعة الجمال اليوم\" عندما تأتي هذه الجملة في يوم لا تضعين فيه أي مساحيق تجميل، فهذا دليل على أنه يحبك في جميع حالاتك. يتذكر كلماتك: تذكره لعباراتك وتفاصيل المناقشات التي تخوضيها معه، دليل على أنك تشغلين بالفعل الكثير من تفكيره. ا.ف/ع.ج.م  مختارات\n",
            "Stance: Unrelated\n"
          ]
        }
      ]
    },
    {
      "cell_type": "markdown",
      "source": [
        "- Thus, the instances are triplets, Claim/Article/Stance.\n",
        "- Note that the original language of the data is Arabic."
      ],
      "metadata": {
        "id": "gI6qegIAbc40"
      }
    },
    {
      "cell_type": "markdown",
      "source": [
        "## Embedding layer"
      ],
      "metadata": {
        "id": "OSVmC4sOQZrQ"
      }
    },
    {
      "cell_type": "markdown",
      "source": [
        "- We will use AraVec pretrained word vectors to represent the input."
      ],
      "metadata": {
        "id": "CVidrwrpb018"
      }
    },
    {
      "cell_type": "markdown",
      "source": [
        "### Preprocessing"
      ],
      "metadata": {
        "id": "IUTsUjodPyoO"
      }
    },
    {
      "cell_type": "markdown",
      "source": [
        "- To increase the hit rate between the words in our raw data and the tokens (i.e. the keys in AraVec dictionary) in AraVec dictionary, we need to preprocess the data in a way similar to the preprocessing performed to produce those tokens."
      ],
      "metadata": {
        "id": "Db5XqX7HcBCk"
      }
    },
    {
      "cell_type": "markdown",
      "source": [
        "- Let's use the following function to preprocess the training, validation, and testing data:"
      ],
      "metadata": {
        "id": "T3ZshVO6dSbs"
      }
    },
    {
      "cell_type": "code",
      "source": [
        "# this function is resposible for the preprocessing routine\n",
        "def preprocess(instances):\n",
        "  instances = list(map(remove_puncuation, instances))\n",
        "  instances = list(map(remove_diacritics, instances))\n",
        "  instances = list(map(remove_longation, instances))\n",
        "  instances = list(map(remove_unicode_codes, instances))\n",
        "  instances = list(map(process_numerals, instances))\n",
        "  instances = list(map(normalize, instances))\n",
        "  instances = list(map(remove_extra_spaces, instances))\n",
        "  return instances"
      ],
      "metadata": {
        "id": "XnIRNj4uUJEw"
      },
      "execution_count": null,
      "outputs": []
    },
    {
      "cell_type": "markdown",
      "source": [
        "- Before preprocessing each claim article pair, we need to concatenate them."
      ],
      "metadata": {
        "id": "da_w2Ht6l-7r"
      }
    },
    {
      "cell_type": "code",
      "source": [
        "# preprocess training data\n",
        "train_instances = [raw_train.claims[raw_train.article_claim[idx]] + \" \" + article \\\n",
        "                  for idx, article in enumerate(raw_train.articles)]\n",
        "preprocessed_train_instances = preprocess(train_instances)\n",
        "\n",
        "# preprocess validation data\n",
        "val_instances = [raw_val.claims[raw_val.article_claim[idx]] + \" \" + article \\\n",
        "                  for idx, article in enumerate(raw_val.articles)]\n",
        "preprocessed_val_instances = preprocess(val_instances)\n",
        "\n",
        "# preprocess testing data\n",
        "test_instances = [raw_test.claims[raw_test.article_claim[idx]] + \" \" + article \\\n",
        "                  for idx, article in enumerate(raw_test.articles)]\n",
        "preprocessed_test_instances = preprocess(test_instances)"
      ],
      "metadata": {
        "id": "GMzoQNPHQp-F"
      },
      "execution_count": null,
      "outputs": []
    },
    {
      "cell_type": "markdown",
      "source": [
        "- Let's see a preprocessed instance:"
      ],
      "metadata": {
        "id": "dNMDVgALl2Mj"
      }
    },
    {
      "cell_type": "code",
      "source": [
        "instance_no = 90\n",
        "print(f\"Claim Article text: {preprocessed_train_instances[instance_no]}\")\n",
        "print(f\"Stance: {raw_train.stances[instance_no]}\")"
      ],
      "metadata": {
        "colab": {
          "base_uri": "https://localhost:8080/"
        },
        "id": "zSPVkWNSl74q",
        "outputId": "2b43149e-812e-48ab-af69-5be316bb0c2a"
      },
      "execution_count": null,
      "outputs": [
        {
          "output_type": "stream",
          "name": "stdout",
          "text": [
            "Claim Article text: شخص بيلعب باليه في شارع التجمع الخامس هل يحبني ؟ سؤال تطرحه المراه علي نفسها مع بدايه ميلاد مشاعر اعجاب بشخص ما وبوادر نشوء علاقه لكن احيانا يحتاج الرجل لوقت طويل ليظهر مشاعره الحقيقيه بوضوح فما هي العلامات التي تدلك علي انه لا يستحقك او انه يحبك بالفعل ؟ تردد الرجل في اظهار مشاعره تجاه المراه مساله محيره جدا للمراه وقد يكون هذا التردد مؤشرا علي التاني في المشاعر او عدم وجود مشاعر حقيقيه من الاساس فكيف تحدد المراه هذا الامر ثمه بعض العلامات التي تؤكد ان هذا الرجل لا يستحق ان تنتظريه ومن بينها دائم الانتقاد الرجل الذي لا يكف عن انتقاد مظهرك وقوامك وملابسك لا يحبك بالتاكيد فالقاعده الاساسيه هي ان الرجل عندما يحبك فهو يحب حتي عيوبك يهتم بنفسه فقط الرجل الذي لا يبذل اي مجهود في محاوله مقابلتك وعندما يقابلك بالصدفه يحدد بحسب وقته ورغباته المكان الذي تتقابلان فيه وموضوعات الحوار هو بالتاكيد لم يصل لمرحله كافيه من الاهتمام بك وفقا للنقاط التي رصدها موقع غوفيمنين الالماني لا يرغب في معرفه عائلتك واصدقائك عندما لا يهتم الرجل بالتعرف علي عائلتك واصدقائك المقربين فهذا دليل علي ان مشاعره تجاهك ربما لا تتجاوز مشاعر الاعجاب السطحي او الزماله لكنها بالتاكيد ليست كافيه لتصبح علاقه حب قويه لا يتكلم مع اهله عنك عندما يقع الرجل في حب امراه فهو يرغب في الحديث عنها مع كل من يعرفهم لذا فالرجل الذي ينسي اي شيء يتعلق بك بعد مقابلتكما ربما يبحث عن علاقه عابره فقط او يرتاح في الحديث معك لكن ليس اكثر من ذلك نظره الحب عباره احبك لا تاتي عاده في بدايه التعارف واحيانا تتاخر كثيرا مع بعض الرجال لكن هناك العديد من الطرق التي يلجا اليها الرجل للتعبير عن اهتمامه بك ومن بينها نظره الحب في عينه او تعبيرات المجامله الرقيقه او السؤال الدائم عنك فاذا غابت هذه الاشياء عن العلاقه فربما عليك اعاده النظر في الامر وعدم اضاعه المزيد من الوقت في انتظار ان يفصح عن مشاعره علي الجانب الاخر هناك علامات واضحه تدل علي اعجاب الرجل بك وفقا لموقع وومان النمساوي ومن بينها يعرف اهتماماتك هل يعرف فيلمك المفضل او المطرب الذي تتمني حضور حفله ويفاجئك بتذكره للحفل ؟ الاهتمام من اكبر العلامات التي تؤكد ان مشاعره تجاهك تسير في اتجاه الحب لا ينظر في المحمول انشغال الرجل بهاتفه الذكي طوال الوقت يعني انه لم يحسم امره بعد لذا فان الرجل الذي يتخلي عن هاتفه عندما يجلس معك يؤكد انك اهم من متابعه الاخبار او الدردشه مع الاصدقاء علي الفيسبوك او الواتس اب هدايا بسيطه الرجل الذي يحرص علي اهدائك ورده او شوكولاته دون مناسبه يرغب في ان يوصل رساله مفادها انه يفكر فيك القليل من الغيره عندما يهتم الرجل بالاطمئنان علي عودتك للمنزل وسؤالك عن كيفيه قضاء وقتك ومع من فهذه من علامات الاعجاب المؤديه للحب يحب شكلك بدون ماكياج تبدين رائعه الجمال اليوم عندما تاتي هذه الجمله في يوم لا تضعين فيه اي مساحيق تجميل فهذا دليل علي انه يحبك في جميع حالاتك يتذكر كلماتك تذكره لعباراتك وتفاصيل المناقشات التي تخوضيها معه دليل علي انك تشغلين بالفعل الكثير من تفكيره ا ف ع ج م مختارات\n",
            "Stance: Unrelated\n"
          ]
        }
      ]
    },
    {
      "cell_type": "markdown",
      "source": [
        "### Initialization"
      ],
      "metadata": {
        "id": "CBUk122SeWEW"
      }
    },
    {
      "cell_type": "markdown",
      "source": [
        "- Download the pretrained vectors first:"
      ],
      "metadata": {
        "id": "jjBZW2LgeJc2"
      }
    },
    {
      "cell_type": "code",
      "source": [
        "!wget \"https://bakrianoo.ewr1.vultrobjects.com/aravec/full_uni_cbow_300_wiki.zip\"\n",
        "!unzip \"full_uni_cbow_300_wiki.zip\""
      ],
      "metadata": {
        "id": "xU0r6MLEPkln",
        "colab": {
          "base_uri": "https://localhost:8080/"
        },
        "outputId": "c5589fa4-f5bf-4e2c-9cb6-84b9c7ea8519"
      },
      "execution_count": null,
      "outputs": [
        {
          "output_type": "stream",
          "name": "stdout",
          "text": [
            "--2024-11-13 07:06:34--  https://bakrianoo.ewr1.vultrobjects.com/aravec/full_uni_cbow_300_wiki.zip\n",
            "Resolving bakrianoo.ewr1.vultrobjects.com (bakrianoo.ewr1.vultrobjects.com)... 108.61.0.122, 2001:19f0:0:22::100\n",
            "Connecting to bakrianoo.ewr1.vultrobjects.com (bakrianoo.ewr1.vultrobjects.com)|108.61.0.122|:443... connected.\n",
            "HTTP request sent, awaiting response... 200 OK\n",
            "Length: 720915733 (688M) [application/zip]\n",
            "Saving to: ‘full_uni_cbow_300_wiki.zip’\n",
            "\n",
            "full_uni_cbow_300_w 100%[===================>] 687.52M  12.7MB/s    in 50s     \n",
            "\n",
            "2024-11-13 07:07:26 (13.7 MB/s) - ‘full_uni_cbow_300_wiki.zip’ saved [720915733/720915733]\n",
            "\n",
            "Archive:  full_uni_cbow_300_wiki.zip\n",
            "  inflating: full_uni_cbow_300_wiki.mdl  \n",
            "  inflating: full_uni_cbow_300_wiki.mdl.trainables.syn1neg.npy  \n",
            "  inflating: full_uni_cbow_300_wiki.mdl.wv.vectors.npy  \n"
          ]
        }
      ]
    },
    {
      "cell_type": "markdown",
      "source": [
        "- Load the pretrained vectors:"
      ],
      "metadata": {
        "id": "0Eks7x5BepPb"
      }
    },
    {
      "cell_type": "code",
      "source": [
        "embedding_model = gensim.models.Word2Vec.load(\"full_uni_cbow_300_wiki.mdl\")\n",
        "print(\"AraVect project contains\",len(embedding_model.wv.index_to_key),\"tokens\")"
      ],
      "metadata": {
        "colab": {
          "base_uri": "https://localhost:8080/"
        },
        "id": "RUv2QkVfPxmH",
        "outputId": "51c6d10c-01c2-4393-d74a-cef03670c64c"
      },
      "execution_count": null,
      "outputs": [
        {
          "output_type": "stream",
          "name": "stdout",
          "text": [
            "AraVect project contains 320636 tokens\n"
          ]
        }
      ]
    },
    {
      "cell_type": "markdown",
      "source": [
        "- We need to decide on the words we are going to use in the final representation of each instance, so we will use a vectorization layer to learn a vocabulary from our training data. We allowed 30K tokens in our vocabulary.\n",
        "- We also going to need a word index, which maps words to indices like `{word1-->idx1, word2-->idx2, ...}`. The indices will be used to store the vector representation of each word in the embedding matrix."
      ],
      "metadata": {
        "id": "pRcSTqrQf0sc"
      }
    },
    {
      "cell_type": "code",
      "source": [
        "# Option 1 using TextVectorization layer\n",
        "# max_tokens represents the maximum size of the vocabulary\n",
        "vectorizer = tf.keras.layers.TextVectorization(max_tokens=20000, output_sequence_length=150, standardize=None)\n",
        "text_ds = tf.data.Dataset.from_tensor_slices(preprocessed_train_instances).batch(128)\n",
        "\n",
        "# learn the vocabulary based on the training data\n",
        "vectorizer.adapt(text_ds)\n",
        "\n",
        "voc = vectorizer.get_vocabulary()\n",
        "word_index = dict(zip(voc, range(len(voc))))\n",
        "\n",
        "# Option 2 using NLTK tokenizer\n",
        "# import nltk\n",
        "# from nltk import  word_tokenize\n",
        "# nltk.download('punkt')\n",
        "\n",
        "# def tokenization(text):\n",
        "#   return word_tokenize(text)\n",
        "\n",
        "# train_tokenized = list(map(tokenization, train_samples))\n",
        "# tokens = [token for sublist in train_tokenized for token in sublist]\n",
        "# tokens = set(tokens)\n",
        "# word_index = dict(zip(tokens, range(len(tokens))))\n",
        "# len(tokens)"
      ],
      "metadata": {
        "id": "iqA6lTkrQdu3"
      },
      "execution_count": null,
      "outputs": []
    },
    {
      "cell_type": "markdown",
      "source": [
        "- We are now ready to create an embedding matrix which maps token indices of our vocabulary to pretrained word vectors from AraVec project:"
      ],
      "metadata": {
        "id": "PPep_ER2h7xE"
      }
    },
    {
      "cell_type": "code",
      "source": [
        "num_tokens = len(voc) + 2\n",
        "embedding_dim = 300\n",
        "hits = 0\n",
        "misses = 0\n",
        "\n",
        "embedding_matrix = np.zeros((num_tokens, embedding_dim))\n",
        "for word, i in word_index.items():\n",
        "  if embedding_model.wv.__contains__(word):\n",
        "    embedding_matrix[i] = embedding_model.wv.get_vector(word)\n",
        "    hits += 1\n",
        "  else:\n",
        "    misses += 1\n",
        "print(\"Converted %d words (%d misses)\" % (hits, misses))"
      ],
      "metadata": {
        "colab": {
          "base_uri": "https://localhost:8080/"
        },
        "id": "Umm6q1LWQmae",
        "outputId": "2327b7e6-38cb-425b-d4da-8d2fe1e32d52"
      },
      "execution_count": null,
      "outputs": [
        {
          "output_type": "stream",
          "name": "stdout",
          "text": [
            "Converted 19860 words (140 misses)\n"
          ]
        }
      ]
    },
    {
      "cell_type": "markdown",
      "source": [
        "- Let's see the representation of a random token:"
      ],
      "metadata": {
        "id": "e9ACmLvGr2aO"
      }
    },
    {
      "cell_type": "code",
      "source": [
        "print(f\"The word 'يناير' is at index {word_index['يناير']}\")\n",
        "print(f\"The vector representation of 'يناير' is {embedding_matrix[word_index['يناير']]}\")"
      ],
      "metadata": {
        "colab": {
          "base_uri": "https://localhost:8080/"
        },
        "id": "uIMGs7g4r9Mw",
        "outputId": "b178bb36-ba28-43f6-8f8f-2837c96f48c6"
      },
      "execution_count": null,
      "outputs": [
        {
          "output_type": "stream",
          "name": "stdout",
          "text": [
            "The word 'يناير' is at index 370\n",
            "The vector representation of 'يناير' is [ 0.51005375  1.19242501 -1.1961081   1.54170382  0.83659106  0.98661953\n",
            "  2.35651946  1.40938616  0.46756575 -1.15503812 -2.05074883  1.79200149\n",
            "  2.26149178 -2.35674977 -1.54589176  1.4476347   0.17506057 -1.03495252\n",
            "  0.14923877  0.50402081 -1.22456503 -2.81537771 -0.14951073 -0.64106113\n",
            " -1.78856778 -3.01331806  1.09811449  0.82774377 -2.12052202  0.10627326\n",
            " -0.3470996   0.56881094  0.70859134  1.14366102 -1.39147961 -0.93328577\n",
            " -0.41829142  0.35251924 -5.5062871  -0.01710663  1.58901513 -1.04543102\n",
            " -1.53454065 -0.88687831 -0.14384538  1.67812455  0.39177114 -1.44210482\n",
            "  1.21285033  0.28208566 -0.27708358  1.30340207 -0.0260686   1.36871862\n",
            "  0.28364053  2.31196856 -1.6904012  -1.23371506 -0.75107098  1.8761574\n",
            " -0.73244673 -0.20883329 -0.66077822  1.06395638 -1.04924607  0.86401767\n",
            " -1.4296838  -0.46038389  1.66213858  2.74791789  2.06197238  1.3414613\n",
            " -1.38134551 -1.60160661 -2.83723998  1.29322004 -1.61836863 -0.62352502\n",
            " -2.35049558  0.39001599 -3.79648829 -0.64327121 -1.72622204  0.46645588\n",
            " -0.01128224  1.52950931  2.82866693  0.95837611 -0.31064054 -1.31560016\n",
            " -0.76862705 -2.1199069   1.12076747 -2.52344298 -0.0516375  -2.10895205\n",
            "  1.51918328  2.63476992  2.42779589 -1.67513812  3.26054668 -2.45448875\n",
            " -0.15448134  1.00138009 -0.28824937 -0.69101375  1.30092835 -2.73715901\n",
            " -3.51582694  0.91878343 -0.45144424 -0.54270703  1.92658412  0.69902432\n",
            " -1.46747446  2.74038935  5.52163553 -0.21117572  0.93595374 -1.86907446\n",
            " -2.37606645  0.36074033 -0.7192812  -0.29375786  5.28940821 -1.72633243\n",
            "  0.00638013  0.52116412  4.12998199  1.58577561 -1.39363956 -0.77914703\n",
            " -1.6641233   1.2366097   2.37499237  0.40728346 -0.99457157  0.67329133\n",
            "  0.23854266 -0.60660249 -2.08833003 -1.20901871 -1.45944834  0.54565477\n",
            "  1.12198234  0.10089626  0.39426771  1.0593214  -0.11659364 -0.07086654\n",
            " -1.00156999 -2.12631464  0.83555174  3.59589434 -0.17031001  1.86474943\n",
            "  0.81884378 -1.09942043  1.43210769  4.24158478  1.89046979  2.06321406\n",
            " -1.44695354  3.80398822 -1.82076085  2.11865282 -0.35452417  1.45082116\n",
            "  1.81697428  2.20918798  2.56326008  1.66797042 -3.55643153  2.59516191\n",
            "  0.53864312  0.66310018 -3.47505403  0.64873004  4.46090555 -0.56100291\n",
            " -1.58600986 -0.24009229  1.46528888  0.24143289  0.27563486  0.63533235\n",
            " -0.25278488 -0.54899883  0.34924543 -1.07882321  0.73175323 -1.08985686\n",
            "  0.43800625 -0.89990592  0.99679899 -0.33262801 -1.93594801 -1.1923511\n",
            "  1.36992979 -1.09185719 -0.95499027 -0.36658531 -0.09725738 -0.87177962\n",
            "  1.92813957 -0.96085119  0.59099668  0.22681619  1.03230393 -1.44009054\n",
            "  2.09702039  0.23034963 -0.35073143 -4.31440067  0.32370064  2.60425782\n",
            " -1.18700862 -1.24682903  1.42858207  0.10886827  0.01279335 -0.45354638\n",
            "  1.67644131 -3.1787219  -1.30575252  3.87057328 -1.85805905  0.05867498\n",
            " -1.36117375 -2.1542511  -0.3692528   1.31749129 -2.63767362 -1.69565332\n",
            "  0.63770026  0.07557787  2.56023574  0.10993286  1.47600114 -1.19047856\n",
            " -0.2840454   1.60046756  0.30267552 -0.07789638  0.96447647  1.54057539\n",
            " -1.4655211   3.71130776  2.85712504  0.01640874  2.35601163  2.17540026\n",
            "  0.4403944  -0.65785539 -2.20885205 -0.88154197  0.80087733  0.95793986\n",
            "  1.60764289  0.20591761  0.70110101  1.23068917 -0.33558729 -0.5563488\n",
            "  3.79923534  0.59398663  0.81267798  0.33149049 -1.58639133  0.61096156\n",
            "  2.55083132 -0.40456709 -0.05063454 -0.52930927 -1.19075656  1.34921026\n",
            "  4.24130249  1.35013223 -1.81341422 -0.57527852 -0.50638443  0.67211753\n",
            " -0.57337815 -0.37742209  2.03392577  0.49845687  0.57415688 -2.40836525\n",
            "  1.40290642 -0.72903103 -1.38598526 -2.45647192 -2.42165279 -0.03997702\n",
            "  1.6920929  -0.56858259 -4.82728577  0.55661142  2.54763675  0.86712426]\n"
          ]
        }
      ]
    },
    {
      "cell_type": "markdown",
      "source": [
        "- Let's initialize our embedding layer with the embedding matrix:"
      ],
      "metadata": {
        "id": "EOUrwkWEiKdN"
      }
    },
    {
      "cell_type": "code",
      "source": [
        "embedding_layer = tf.keras.layers.Embedding(\n",
        "    num_tokens,\n",
        "    embedding_dim,\n",
        "    embeddings_initializer=tf.keras.initializers.Constant(embedding_matrix),\n",
        "    trainable=False,\n",
        ")"
      ],
      "metadata": {
        "id": "Yrox_SSDiJyl"
      },
      "execution_count": null,
      "outputs": []
    },
    {
      "cell_type": "markdown",
      "source": [
        "## Datasets"
      ],
      "metadata": {
        "id": "rMoc7pwxQnv9"
      }
    },
    {
      "cell_type": "code",
      "source": [
        "batch_size = 64"
      ],
      "metadata": {
        "id": "TSO0rSyQQovs"
      },
      "execution_count": null,
      "outputs": []
    },
    {
      "cell_type": "markdown",
      "source": [
        "- Before creating the dataset, we need to vectorize the training, validation, and testing data using the adapted vectorizer. This means replace every word in an instance by its index in the word index:"
      ],
      "metadata": {
        "id": "2i4i2uS3g6zz"
      }
    },
    {
      "cell_type": "code",
      "source": [
        "x_train = vectorizer(np.array([[s] for s in preprocessed_train_instances])).numpy()\n",
        "x_val = vectorizer(np.array([[s] for s in preprocessed_val_instances])).numpy()\n",
        "x_test = vectorizer(np.array([[s] for s in preprocessed_test_instances])).numpy()"
      ],
      "metadata": {
        "id": "qvtv1-IfeKXM"
      },
      "execution_count": null,
      "outputs": []
    },
    {
      "cell_type": "markdown",
      "source": [
        "- Let's see a vectorized instance:"
      ],
      "metadata": {
        "id": "yNzH7VjZoaY3"
      }
    },
    {
      "cell_type": "code",
      "source": [
        "instance_no = 90\n",
        "print(f\"Original preprocessed instance: {preprocessed_train_instances[instance_no]}\")\n",
        "print(f\"Vectorized instance: {x_train[instance_no]}\")"
      ],
      "metadata": {
        "colab": {
          "base_uri": "https://localhost:8080/"
        },
        "id": "uK9Xg60socwR",
        "outputId": "8650a51f-3150-4ff7-b828-05abaf13d9f5"
      },
      "execution_count": null,
      "outputs": [
        {
          "output_type": "stream",
          "name": "stdout",
          "text": [
            "Original preprocessed instance: شخص بيلعب باليه في شارع التجمع الخامس هل يحبني ؟ سؤال تطرحه المراه علي نفسها مع بدايه ميلاد مشاعر اعجاب بشخص ما وبوادر نشوء علاقه لكن احيانا يحتاج الرجل لوقت طويل ليظهر مشاعره الحقيقيه بوضوح فما هي العلامات التي تدلك علي انه لا يستحقك او انه يحبك بالفعل ؟ تردد الرجل في اظهار مشاعره تجاه المراه مساله محيره جدا للمراه وقد يكون هذا التردد مؤشرا علي التاني في المشاعر او عدم وجود مشاعر حقيقيه من الاساس فكيف تحدد المراه هذا الامر ثمه بعض العلامات التي تؤكد ان هذا الرجل لا يستحق ان تنتظريه ومن بينها دائم الانتقاد الرجل الذي لا يكف عن انتقاد مظهرك وقوامك وملابسك لا يحبك بالتاكيد فالقاعده الاساسيه هي ان الرجل عندما يحبك فهو يحب حتي عيوبك يهتم بنفسه فقط الرجل الذي لا يبذل اي مجهود في محاوله مقابلتك وعندما يقابلك بالصدفه يحدد بحسب وقته ورغباته المكان الذي تتقابلان فيه وموضوعات الحوار هو بالتاكيد لم يصل لمرحله كافيه من الاهتمام بك وفقا للنقاط التي رصدها موقع غوفيمنين الالماني لا يرغب في معرفه عائلتك واصدقائك عندما لا يهتم الرجل بالتعرف علي عائلتك واصدقائك المقربين فهذا دليل علي ان مشاعره تجاهك ربما لا تتجاوز مشاعر الاعجاب السطحي او الزماله لكنها بالتاكيد ليست كافيه لتصبح علاقه حب قويه لا يتكلم مع اهله عنك عندما يقع الرجل في حب امراه فهو يرغب في الحديث عنها مع كل من يعرفهم لذا فالرجل الذي ينسي اي شيء يتعلق بك بعد مقابلتكما ربما يبحث عن علاقه عابره فقط او يرتاح في الحديث معك لكن ليس اكثر من ذلك نظره الحب عباره احبك لا تاتي عاده في بدايه التعارف واحيانا تتاخر كثيرا مع بعض الرجال لكن هناك العديد من الطرق التي يلجا اليها الرجل للتعبير عن اهتمامه بك ومن بينها نظره الحب في عينه او تعبيرات المجامله الرقيقه او السؤال الدائم عنك فاذا غابت هذه الاشياء عن العلاقه فربما عليك اعاده النظر في الامر وعدم اضاعه المزيد من الوقت في انتظار ان يفصح عن مشاعره علي الجانب الاخر هناك علامات واضحه تدل علي اعجاب الرجل بك وفقا لموقع وومان النمساوي ومن بينها يعرف اهتماماتك هل يعرف فيلمك المفضل او المطرب الذي تتمني حضور حفله ويفاجئك بتذكره للحفل ؟ الاهتمام من اكبر العلامات التي تؤكد ان مشاعره تجاهك تسير في اتجاه الحب لا ينظر في المحمول انشغال الرجل بهاتفه الذكي طوال الوقت يعني انه لم يحسم امره بعد لذا فان الرجل الذي يتخلي عن هاتفه عندما يجلس معك يؤكد انك اهم من متابعه الاخبار او الدردشه مع الاصدقاء علي الفيسبوك او الواتس اب هدايا بسيطه الرجل الذي يحرص علي اهدائك ورده او شوكولاته دون مناسبه يرغب في ان يوصل رساله مفادها انه يفكر فيك القليل من الغيره عندما يهتم الرجل بالاطمئنان علي عودتك للمنزل وسؤالك عن كيفيه قضاء وقتك ومع من فهذه من علامات الاعجاب المؤديه للحب يحب شكلك بدون ماكياج تبدين رائعه الجمال اليوم عندما تاتي هذه الجمله في يوم لا تضعين فيه اي مساحيق تجميل فهذا دليل علي انه يحبك في جميع حالاتك يتذكر كلماتك تذكره لعباراتك وتفاصيل المناقشات التي تخوضيها معه دليل علي انك تشغلين بالفعل الكثير من تفكيره ا ف ع ج م مختارات\n",
            "Vectorized instance: [  329 18223 16437     2  1976  2595  1312   336     1    75  2464     1\n",
            "   632     5   668    10   351 10951  4267 18570     1    11     1  9201\n",
            "   909    80  1632  2043  1101 10047  1993 17921 15394  2664  4102  2005\n",
            "    72  7461     8     1     5    33    15     1    12    33     1  1096\n",
            "    75  3195  1101     2  8931 15394  1077   632  1817     1   299  5018\n",
            "    83   109    18 19602  9745     5     1     2 10163    12   169   197\n",
            "  4267  2698     3  2688  5677  3371   632    18   138  2048    66  7461\n",
            "     8  1240     6    18  1101    15  6139     6     1    77   812  5182\n",
            "     1  1101    13    15 19737     9  6521     1     1     1    15     1\n",
            "  3668     1   802    72     6  1101   152     1   746  5846    53     1\n",
            "  7198  3130   168  1101    13    15 13416    46 14709     2   699     1\n",
            "  1289     1     1  4203   425  9688     1  1368    13     1   146     1\n",
            "  1288    45  3668    38  1030  7379]\n"
          ]
        }
      ]
    },
    {
      "cell_type": "markdown",
      "source": [
        "- Let's initialize the datasets we are going to use for the training and testing:"
      ],
      "metadata": {
        "id": "I0JLlGnYpKdn"
      }
    },
    {
      "cell_type": "code",
      "source": [
        "AUTOTUNE = tf.data.experimental.AUTOTUNE\n",
        "\n",
        "train_size = len(raw_train.stances)\n",
        "\n",
        "train_labels = [stance_to_int[s] for s in raw_train.stances]\n",
        "train_dataset = tf.data.Dataset.from_tensor_slices((x_train, train_labels))\n",
        "train_dataset = train_dataset.shuffle(train_size)\n",
        "train_dataset = train_dataset.batch(batch_size)\n",
        "train_dataset = train_dataset.cache().prefetch(buffer_size=AUTOTUNE)\n",
        "\n",
        "val_labels = [stance_to_int[s] for s in raw_val.stances]\n",
        "val_dataset = tf.data.Dataset.from_tensor_slices((x_val, val_labels))\n",
        "val_dataset = val_dataset.batch(batch_size)\n",
        "val_dataset = val_dataset.cache().prefetch(buffer_size=AUTOTUNE)\n",
        "\n",
        "test_labels = [stance_to_int[s] for s in raw_test.stances]\n",
        "test_dataset = tf.data.Dataset.from_tensor_slices((x_test, test_labels))\n",
        "test_dataset = test_dataset.batch(batch_size).cache().prefetch(buffer_size=AUTOTUNE)"
      ],
      "metadata": {
        "id": "6b1vQn7CQsy4"
      },
      "execution_count": null,
      "outputs": []
    },
    {
      "cell_type": "markdown",
      "source": [
        "## Model"
      ],
      "metadata": {
        "id": "YaVXv2oMQtpB"
      }
    },
    {
      "cell_type": "markdown",
      "source": [
        "- Now the datasets are ready, we can work on the model:"
      ],
      "metadata": {
        "id": "1tYFaJXwpSO9"
      }
    },
    {
      "cell_type": "code",
      "source": [
        "lr = 1e-4\n",
        "epochs = 100"
      ],
      "metadata": {
        "id": "soMbSvlrQu0h"
      },
      "execution_count": null,
      "outputs": []
    },
    {
      "cell_type": "code",
      "source": [
        "int_sequences_input = tf.keras.Input(shape=(None,), dtype=\"int64\")\n",
        "embedded_sequences = embedding_layer(int_sequences_input)\n",
        "\n",
        "lstm_output_1 = tf.keras.layers.Bidirectional(tf.keras.layers.LSTM(32, return_sequences=True))(embedded_sequences)\n",
        "lstm_output_2 = tf.keras.layers.Bidirectional(tf.keras.layers.LSTM(32, return_sequences=True))(lstm_output_1)\n",
        "\n",
        "conv1 = tf.keras.layers.Conv1D(50, 2, activation=\"relu\", use_bias=True)(lstm_output_2)\n",
        "conv2 = tf.keras.layers.Conv1D(50, 3, activation=\"relu\", use_bias=True)(lstm_output_2)\n",
        "conv3 = tf.keras.layers.Conv1D(50, 4, activation=\"relu\", use_bias=True)(lstm_output_2)\n",
        "\n",
        "pool1 = tf.keras.layers.GlobalMaxPooling1D()(conv1)\n",
        "pool2 = tf.keras.layers.GlobalMaxPooling1D()(conv2)\n",
        "pool3 = tf.keras.layers.GlobalMaxPooling1D()(conv3)\n",
        "\n",
        "concatenated = tf.keras.layers.Concatenate(axis=1)([pool1, pool2, pool3])\n",
        "\n",
        "logits = tf.keras.layers.Dense(4)(concatenated)\n",
        "\n",
        "model = tf.keras.models.Model(inputs=int_sequences_input, outputs=logits)\n",
        "\n",
        "tf.keras.utils.plot_model(model, show_shapes=True, dpi=60)"
      ],
      "metadata": {
        "colab": {
          "base_uri": "https://localhost:8080/",
          "height": 794
        },
        "id": "fB_mHTiPQwei",
        "outputId": "e2bbc8c2-5d78-4d70-ce8a-0bda961e90ec"
      },
      "execution_count": null,
      "outputs": [
        {
          "output_type": "execute_result",
          "data": {
            "image/png": "[encoded data removed]",
            "text/plain": [
              "<IPython.core.display.Image object>"
            ]
          },
          "metadata": {},
          "execution_count": 23
        }
      ]
    },
    {
      "cell_type": "code",
      "source": [
        "model.summary()"
      ],
      "metadata": {
        "colab": {
          "base_uri": "https://localhost:8080/",
          "height": 663
        },
        "id": "tf_6NShDphMS",
        "outputId": "ff37cf18-c343-44d9-81d5-d86352cfac71"
      },
      "execution_count": null,
      "outputs": [
        {
          "output_type": "display_data",
          "data": {
            "text/plain": [
              "\u001b[1mModel: \"functional\"\u001b[0m\n"
            ],
            "text/html": [
              "<pre style=\"white-space:pre;overflow-x:auto;line-height:normal;font-family:Menlo,'DejaVu Sans Mono',consolas,'Courier New',monospace\"><span style=\"font-weight: bold\">Model: \"functional\"</span>\n",
              "</pre>\n"
            ]
          },
          "metadata": {}
        },
        {
          "output_type": "display_data",
          "data": {
            "text/plain": [
              "┏━━━━━━━━━━━━━━━━━━━━━━━━━━━┳━━━━━━━━━━━━━━━━━━━━━━━━┳━━━━━━━━━━━━━━━━┳━━━━━━━━━━━━━━━━━━━━━━━━┓\n",
              "┃\u001b[1m \u001b[0m\u001b[1mLayer (type)             \u001b[0m\u001b[1m \u001b[0m┃\u001b[1m \u001b[0m\u001b[1mOutput Shape          \u001b[0m\u001b[1m \u001b[0m┃\u001b[1m \u001b[0m\u001b[1m       Param #\u001b[0m\u001b[1m \u001b[0m┃\u001b[1m \u001b[0m\u001b[1mConnected to          \u001b[0m\u001b[1m \u001b[0m┃\n",
              "┡━━━━━━━━━━━━━━━━━━━━━━━━━━━╇━━━━━━━━━━━━━━━━━━━━━━━━╇━━━━━━━━━━━━━━━━╇━━━━━━━━━━━━━━━━━━━━━━━━┩\n",
              "│ input_layer (\u001b[38;5;33mInputLayer\u001b[0m)  │ (\u001b[38;5;45mNone\u001b[0m, \u001b[38;5;45mNone\u001b[0m)           │              \u001b[38;5;34m0\u001b[0m │ -                      │\n",
              "├───────────────────────────┼────────────────────────┼────────────────┼────────────────────────┤\n",
              "│ embedding (\u001b[38;5;33mEmbedding\u001b[0m)     │ (\u001b[38;5;45mNone\u001b[0m, \u001b[38;5;45mNone\u001b[0m, \u001b[38;5;34m300\u001b[0m)      │      \u001b[38;5;34m6,000,600\u001b[0m │ input_layer[\u001b[38;5;34m0\u001b[0m][\u001b[38;5;34m0\u001b[0m]      │\n",
              "├───────────────────────────┼────────────────────────┼────────────────┼────────────────────────┤\n",
              "│ bidirectional             │ (\u001b[38;5;45mNone\u001b[0m, \u001b[38;5;45mNone\u001b[0m, \u001b[38;5;34m64\u001b[0m)       │         \u001b[38;5;34m85,248\u001b[0m │ embedding[\u001b[38;5;34m0\u001b[0m][\u001b[38;5;34m0\u001b[0m]        │\n",
              "│ (\u001b[38;5;33mBidirectional\u001b[0m)           │                        │                │                        │\n",
              "├───────────────────────────┼────────────────────────┼────────────────┼────────────────────────┤\n",
              "│ bidirectional_1           │ (\u001b[38;5;45mNone\u001b[0m, \u001b[38;5;45mNone\u001b[0m, \u001b[38;5;34m64\u001b[0m)       │         \u001b[38;5;34m24,832\u001b[0m │ bidirectional[\u001b[38;5;34m0\u001b[0m][\u001b[38;5;34m0\u001b[0m]    │\n",
              "│ (\u001b[38;5;33mBidirectional\u001b[0m)           │                        │                │                        │\n",
              "├───────────────────────────┼────────────────────────┼────────────────┼────────────────────────┤\n",
              "│ conv1d (\u001b[38;5;33mConv1D\u001b[0m)           │ (\u001b[38;5;45mNone\u001b[0m, \u001b[38;5;45mNone\u001b[0m, \u001b[38;5;34m50\u001b[0m)       │          \u001b[38;5;34m6,450\u001b[0m │ bidirectional_1[\u001b[38;5;34m0\u001b[0m][\u001b[38;5;34m0\u001b[0m]  │\n",
              "├───────────────────────────┼────────────────────────┼────────────────┼────────────────────────┤\n",
              "│ conv1d_1 (\u001b[38;5;33mConv1D\u001b[0m)         │ (\u001b[38;5;45mNone\u001b[0m, \u001b[38;5;45mNone\u001b[0m, \u001b[38;5;34m50\u001b[0m)       │          \u001b[38;5;34m9,650\u001b[0m │ bidirectional_1[\u001b[38;5;34m0\u001b[0m][\u001b[38;5;34m0\u001b[0m]  │\n",
              "├───────────────────────────┼────────────────────────┼────────────────┼────────────────────────┤\n",
              "│ conv1d_2 (\u001b[38;5;33mConv1D\u001b[0m)         │ (\u001b[38;5;45mNone\u001b[0m, \u001b[38;5;45mNone\u001b[0m, \u001b[38;5;34m50\u001b[0m)       │         \u001b[38;5;34m12,850\u001b[0m │ bidirectional_1[\u001b[38;5;34m0\u001b[0m][\u001b[38;5;34m0\u001b[0m]  │\n",
              "├───────────────────────────┼────────────────────────┼────────────────┼────────────────────────┤\n",
              "│ global_max_pooling1d      │ (\u001b[38;5;45mNone\u001b[0m, \u001b[38;5;34m50\u001b[0m)             │              \u001b[38;5;34m0\u001b[0m │ conv1d[\u001b[38;5;34m0\u001b[0m][\u001b[38;5;34m0\u001b[0m]           │\n",
              "│ (\u001b[38;5;33mGlobalMaxPooling1D\u001b[0m)      │                        │                │                        │\n",
              "├───────────────────────────┼────────────────────────┼────────────────┼────────────────────────┤\n",
              "│ global_max_pooling1d_1    │ (\u001b[38;5;45mNone\u001b[0m, \u001b[38;5;34m50\u001b[0m)             │              \u001b[38;5;34m0\u001b[0m │ conv1d_1[\u001b[38;5;34m0\u001b[0m][\u001b[38;5;34m0\u001b[0m]         │\n",
              "│ (\u001b[38;5;33mGlobalMaxPooling1D\u001b[0m)      │                        │                │                        │\n",
              "├───────────────────────────┼────────────────────────┼────────────────┼────────────────────────┤\n",
              "│ global_max_pooling1d_2    │ (\u001b[38;5;45mNone\u001b[0m, \u001b[38;5;34m50\u001b[0m)             │              \u001b[38;5;34m0\u001b[0m │ conv1d_2[\u001b[38;5;34m0\u001b[0m][\u001b[38;5;34m0\u001b[0m]         │\n",
              "│ (\u001b[38;5;33mGlobalMaxPooling1D\u001b[0m)      │                        │                │                        │\n",
              "├───────────────────────────┼────────────────────────┼────────────────┼────────────────────────┤\n",
              "│ concatenate (\u001b[38;5;33mConcatenate\u001b[0m) │ (\u001b[38;5;45mNone\u001b[0m, \u001b[38;5;34m150\u001b[0m)            │              \u001b[38;5;34m0\u001b[0m │ global_max_pooling1d[\u001b[38;5;34m…\u001b[0m │\n",
              "│                           │                        │                │ global_max_pooling1d_… │\n",
              "│                           │                        │                │ global_max_pooling1d_… │\n",
              "├───────────────────────────┼────────────────────────┼────────────────┼────────────────────────┤\n",
              "│ dense (\u001b[38;5;33mDense\u001b[0m)             │ (\u001b[38;5;45mNone\u001b[0m, \u001b[38;5;34m4\u001b[0m)              │            \u001b[38;5;34m604\u001b[0m │ concatenate[\u001b[38;5;34m0\u001b[0m][\u001b[38;5;34m0\u001b[0m]      │\n",
              "└───────────────────────────┴────────────────────────┴────────────────┴────────────────────────┘\n"
            ],
            "text/html": [
              "<pre style=\"white-space:pre;overflow-x:auto;line-height:normal;font-family:Menlo,'DejaVu Sans Mono',consolas,'Courier New',monospace\">┏━━━━━━━━━━━━━━━━━━━━━━━━━━━┳━━━━━━━━━━━━━━━━━━━━━━━━┳━━━━━━━━━━━━━━━━┳━━━━━━━━━━━━━━━━━━━━━━━━┓\n",
              "┃<span style=\"font-weight: bold\"> Layer (type)              </span>┃<span style=\"font-weight: bold\"> Output Shape           </span>┃<span style=\"font-weight: bold\">        Param # </span>┃<span style=\"font-weight: bold\"> Connected to           </span>┃\n",
              "┡━━━━━━━━━━━━━━━━━━━━━━━━━━━╇━━━━━━━━━━━━━━━━━━━━━━━━╇━━━━━━━━━━━━━━━━╇━━━━━━━━━━━━━━━━━━━━━━━━┩\n",
              "│ input_layer (<span style=\"color: #0087ff; text-decoration-color: #0087ff\">InputLayer</span>)  │ (<span style=\"color: #00d7ff; text-decoration-color: #00d7ff\">None</span>, <span style=\"color: #00d7ff; text-decoration-color: #00d7ff\">None</span>)           │              <span style=\"color: #00af00; text-decoration-color: #00af00\">0</span> │ -                      │\n",
              "├───────────────────────────┼────────────────────────┼────────────────┼────────────────────────┤\n",
              "│ embedding (<span style=\"color: #0087ff; text-decoration-color: #0087ff\">Embedding</span>)     │ (<span style=\"color: #00d7ff; text-decoration-color: #00d7ff\">None</span>, <span style=\"color: #00d7ff; text-decoration-color: #00d7ff\">None</span>, <span style=\"color: #00af00; text-decoration-color: #00af00\">300</span>)      │      <span style=\"color: #00af00; text-decoration-color: #00af00\">6,000,600</span> │ input_layer[<span style=\"color: #00af00; text-decoration-color: #00af00\">0</span>][<span style=\"color: #00af00; text-decoration-color: #00af00\">0</span>]      │\n",
              "├───────────────────────────┼────────────────────────┼────────────────┼────────────────────────┤\n",
              "│ bidirectional             │ (<span style=\"color: #00d7ff; text-decoration-color: #00d7ff\">None</span>, <span style=\"color: #00d7ff; text-decoration-color: #00d7ff\">None</span>, <span style=\"color: #00af00; text-decoration-color: #00af00\">64</span>)       │         <span style=\"color: #00af00; text-decoration-color: #00af00\">85,248</span> │ embedding[<span style=\"color: #00af00; text-decoration-color: #00af00\">0</span>][<span style=\"color: #00af00; text-decoration-color: #00af00\">0</span>]        │\n",
              "│ (<span style=\"color: #0087ff; text-decoration-color: #0087ff\">Bidirectional</span>)           │                        │                │                        │\n",
              "├───────────────────────────┼────────────────────────┼────────────────┼────────────────────────┤\n",
              "│ bidirectional_1           │ (<span style=\"color: #00d7ff; text-decoration-color: #00d7ff\">None</span>, <span style=\"color: #00d7ff; text-decoration-color: #00d7ff\">None</span>, <span style=\"color: #00af00; text-decoration-color: #00af00\">64</span>)       │         <span style=\"color: #00af00; text-decoration-color: #00af00\">24,832</span> │ bidirectional[<span style=\"color: #00af00; text-decoration-color: #00af00\">0</span>][<span style=\"color: #00af00; text-decoration-color: #00af00\">0</span>]    │\n",
              "│ (<span style=\"color: #0087ff; text-decoration-color: #0087ff\">Bidirectional</span>)           │                        │                │                        │\n",
              "├───────────────────────────┼────────────────────────┼────────────────┼────────────────────────┤\n",
              "│ conv1d (<span style=\"color: #0087ff; text-decoration-color: #0087ff\">Conv1D</span>)           │ (<span style=\"color: #00d7ff; text-decoration-color: #00d7ff\">None</span>, <span style=\"color: #00d7ff; text-decoration-color: #00d7ff\">None</span>, <span style=\"color: #00af00; text-decoration-color: #00af00\">50</span>)       │          <span style=\"color: #00af00; text-decoration-color: #00af00\">6,450</span> │ bidirectional_1[<span style=\"color: #00af00; text-decoration-color: #00af00\">0</span>][<span style=\"color: #00af00; text-decoration-color: #00af00\">0</span>]  │\n",
              "├───────────────────────────┼────────────────────────┼────────────────┼────────────────────────┤\n",
              "│ conv1d_1 (<span style=\"color: #0087ff; text-decoration-color: #0087ff\">Conv1D</span>)         │ (<span style=\"color: #00d7ff; text-decoration-color: #00d7ff\">None</span>, <span style=\"color: #00d7ff; text-decoration-color: #00d7ff\">None</span>, <span style=\"color: #00af00; text-decoration-color: #00af00\">50</span>)       │          <span style=\"color: #00af00; text-decoration-color: #00af00\">9,650</span> │ bidirectional_1[<span style=\"color: #00af00; text-decoration-color: #00af00\">0</span>][<span style=\"color: #00af00; text-decoration-color: #00af00\">0</span>]  │\n",
              "├───────────────────────────┼────────────────────────┼────────────────┼────────────────────────┤\n",
              "│ conv1d_2 (<span style=\"color: #0087ff; text-decoration-color: #0087ff\">Conv1D</span>)         │ (<span style=\"color: #00d7ff; text-decoration-color: #00d7ff\">None</span>, <span style=\"color: #00d7ff; text-decoration-color: #00d7ff\">None</span>, <span style=\"color: #00af00; text-decoration-color: #00af00\">50</span>)       │         <span style=\"color: #00af00; text-decoration-color: #00af00\">12,850</span> │ bidirectional_1[<span style=\"color: #00af00; text-decoration-color: #00af00\">0</span>][<span style=\"color: #00af00; text-decoration-color: #00af00\">0</span>]  │\n",
              "├───────────────────────────┼────────────────────────┼────────────────┼────────────────────────┤\n",
              "│ global_max_pooling1d      │ (<span style=\"color: #00d7ff; text-decoration-color: #00d7ff\">None</span>, <span style=\"color: #00af00; text-decoration-color: #00af00\">50</span>)             │              <span style=\"color: #00af00; text-decoration-color: #00af00\">0</span> │ conv1d[<span style=\"color: #00af00; text-decoration-color: #00af00\">0</span>][<span style=\"color: #00af00; text-decoration-color: #00af00\">0</span>]           │\n",
              "│ (<span style=\"color: #0087ff; text-decoration-color: #0087ff\">GlobalMaxPooling1D</span>)      │                        │                │                        │\n",
              "├───────────────────────────┼────────────────────────┼────────────────┼────────────────────────┤\n",
              "│ global_max_pooling1d_1    │ (<span style=\"color: #00d7ff; text-decoration-color: #00d7ff\">None</span>, <span style=\"color: #00af00; text-decoration-color: #00af00\">50</span>)             │              <span style=\"color: #00af00; text-decoration-color: #00af00\">0</span> │ conv1d_1[<span style=\"color: #00af00; text-decoration-color: #00af00\">0</span>][<span style=\"color: #00af00; text-decoration-color: #00af00\">0</span>]         │\n",
              "│ (<span style=\"color: #0087ff; text-decoration-color: #0087ff\">GlobalMaxPooling1D</span>)      │                        │                │                        │\n",
              "├───────────────────────────┼────────────────────────┼────────────────┼────────────────────────┤\n",
              "│ global_max_pooling1d_2    │ (<span style=\"color: #00d7ff; text-decoration-color: #00d7ff\">None</span>, <span style=\"color: #00af00; text-decoration-color: #00af00\">50</span>)             │              <span style=\"color: #00af00; text-decoration-color: #00af00\">0</span> │ conv1d_2[<span style=\"color: #00af00; text-decoration-color: #00af00\">0</span>][<span style=\"color: #00af00; text-decoration-color: #00af00\">0</span>]         │\n",
              "│ (<span style=\"color: #0087ff; text-decoration-color: #0087ff\">GlobalMaxPooling1D</span>)      │                        │                │                        │\n",
              "├───────────────────────────┼────────────────────────┼────────────────┼────────────────────────┤\n",
              "│ concatenate (<span style=\"color: #0087ff; text-decoration-color: #0087ff\">Concatenate</span>) │ (<span style=\"color: #00d7ff; text-decoration-color: #00d7ff\">None</span>, <span style=\"color: #00af00; text-decoration-color: #00af00\">150</span>)            │              <span style=\"color: #00af00; text-decoration-color: #00af00\">0</span> │ global_max_pooling1d[<span style=\"color: #00af00; text-decoration-color: #00af00\">…</span> │\n",
              "│                           │                        │                │ global_max_pooling1d_… │\n",
              "│                           │                        │                │ global_max_pooling1d_… │\n",
              "├───────────────────────────┼────────────────────────┼────────────────┼────────────────────────┤\n",
              "│ dense (<span style=\"color: #0087ff; text-decoration-color: #0087ff\">Dense</span>)             │ (<span style=\"color: #00d7ff; text-decoration-color: #00d7ff\">None</span>, <span style=\"color: #00af00; text-decoration-color: #00af00\">4</span>)              │            <span style=\"color: #00af00; text-decoration-color: #00af00\">604</span> │ concatenate[<span style=\"color: #00af00; text-decoration-color: #00af00\">0</span>][<span style=\"color: #00af00; text-decoration-color: #00af00\">0</span>]      │\n",
              "└───────────────────────────┴────────────────────────┴────────────────┴────────────────────────┘\n",
              "</pre>\n"
            ]
          },
          "metadata": {}
        },
        {
          "output_type": "display_data",
          "data": {
            "text/plain": [
              "\u001b[1m Total params: \u001b[0m\u001b[38;5;34m6,140,234\u001b[0m (23.42 MB)\n"
            ],
            "text/html": [
              "<pre style=\"white-space:pre;overflow-x:auto;line-height:normal;font-family:Menlo,'DejaVu Sans Mono',consolas,'Courier New',monospace\"><span style=\"font-weight: bold\"> Total params: </span><span style=\"color: #00af00; text-decoration-color: #00af00\">6,140,234</span> (23.42 MB)\n",
              "</pre>\n"
            ]
          },
          "metadata": {}
        },
        {
          "output_type": "display_data",
          "data": {
            "text/plain": [
              "\u001b[1m Trainable params: \u001b[0m\u001b[38;5;34m139,634\u001b[0m (545.45 KB)\n"
            ],
            "text/html": [
              "<pre style=\"white-space:pre;overflow-x:auto;line-height:normal;font-family:Menlo,'DejaVu Sans Mono',consolas,'Courier New',monospace\"><span style=\"font-weight: bold\"> Trainable params: </span><span style=\"color: #00af00; text-decoration-color: #00af00\">139,634</span> (545.45 KB)\n",
              "</pre>\n"
            ]
          },
          "metadata": {}
        },
        {
          "output_type": "display_data",
          "data": {
            "text/plain": [
              "\u001b[1m Non-trainable params: \u001b[0m\u001b[38;5;34m6,000,600\u001b[0m (22.89 MB)\n"
            ],
            "text/html": [
              "<pre style=\"white-space:pre;overflow-x:auto;line-height:normal;font-family:Menlo,'DejaVu Sans Mono',consolas,'Courier New',monospace\"><span style=\"font-weight: bold\"> Non-trainable params: </span><span style=\"color: #00af00; text-decoration-color: #00af00\">6,000,600</span> (22.89 MB)\n",
              "</pre>\n"
            ]
          },
          "metadata": {}
        }
      ]
    },
    {
      "cell_type": "markdown",
      "source": [
        "## Training"
      ],
      "metadata": {
        "id": "hEd2acyhRAbk"
      }
    },
    {
      "cell_type": "code",
      "source": [
        "loss = tf.keras.losses.SparseCategoricalCrossentropy(from_logits=True)\n",
        "metrics = tf.keras.metrics.SparseCategoricalAccuracy('accuracy', dtype=tf.float32)\n",
        "optimizer = tf.keras.optimizers.Adam(learning_rate=lr)\n",
        "\n",
        "model.compile(optimizer=optimizer, loss=loss, metrics=[metrics])"
      ],
      "metadata": {
        "id": "QeeS19dMQ3ph"
      },
      "execution_count": null,
      "outputs": []
    },
    {
      "cell_type": "code",
      "source": [
        "callbacks = [tf.keras.callbacks.EarlyStopping(patience=5)]\n",
        "history=model.fit(\n",
        "  x=train_dataset,\n",
        "  validation_data=val_dataset,\n",
        "  epochs=epochs,\n",
        "  callbacks=callbacks,\n",
        ")"
      ],
      "metadata": {
        "colab": {
          "base_uri": "https://localhost:8080/"
        },
        "id": "WS0OOWv9Q4vp",
        "outputId": "655de609-7cf0-4b07-adea-1259bca5d684"
      },
      "execution_count": null,
      "outputs": [
        {
          "output_type": "stream",
          "name": "stdout",
          "text": [
            "Epoch 1/100\n",
            "\u001b[1m45/45\u001b[0m \u001b[32m━━━━━━━━━━━━━━━━━━━━\u001b[0m\u001b[37m\u001b[0m \u001b[1m9s\u001b[0m 50ms/step - accuracy: 0.2896 - loss: 1.4333 - val_accuracy: 0.5114 - val_loss: 1.1991\n",
            "Epoch 2/100\n",
            "\u001b[1m45/45\u001b[0m \u001b[32m━━━━━━━━━━━━━━━━━━━━\u001b[0m\u001b[37m\u001b[0m \u001b[1m1s\u001b[0m 26ms/step - accuracy: 0.5510 - loss: 1.0993 - val_accuracy: 0.5167 - val_loss: 1.1781\n",
            "Epoch 3/100\n",
            "\u001b[1m45/45\u001b[0m \u001b[32m━━━━━━━━━━━━━━━━━━━━\u001b[0m\u001b[37m\u001b[0m \u001b[1m1s\u001b[0m 25ms/step - accuracy: 0.5600 - loss: 1.0448 - val_accuracy: 0.5378 - val_loss: 1.1558\n",
            "Epoch 4/100\n",
            "\u001b[1m45/45\u001b[0m \u001b[32m━━━━━━━━━━━━━━━━━━━━\u001b[0m\u001b[37m\u001b[0m \u001b[1m1s\u001b[0m 25ms/step - accuracy: 0.5894 - loss: 1.0021 - val_accuracy: 0.5395 - val_loss: 1.1337\n",
            "Epoch 5/100\n",
            "\u001b[1m45/45\u001b[0m \u001b[32m━━━━━━━━━━━━━━━━━━━━\u001b[0m\u001b[37m\u001b[0m \u001b[1m1s\u001b[0m 25ms/step - accuracy: 0.6066 - loss: 0.9594 - val_accuracy: 0.5431 - val_loss: 1.1097\n",
            "Epoch 6/100\n",
            "\u001b[1m45/45\u001b[0m \u001b[32m━━━━━━━━━━━━━━━━━━━━\u001b[0m\u001b[37m\u001b[0m \u001b[1m1s\u001b[0m 26ms/step - accuracy: 0.6232 - loss: 0.9144 - val_accuracy: 0.5606 - val_loss: 1.0845\n",
            "Epoch 7/100\n",
            "\u001b[1m45/45\u001b[0m \u001b[32m━━━━━━━━━━━━━━━━━━━━\u001b[0m\u001b[37m\u001b[0m \u001b[1m1s\u001b[0m 25ms/step - accuracy: 0.6529 - loss: 0.8671 - val_accuracy: 0.5694 - val_loss: 1.0592\n",
            "Epoch 8/100\n",
            "\u001b[1m45/45\u001b[0m \u001b[32m━━━━━━━━━━━━━━━━━━━━\u001b[0m\u001b[37m\u001b[0m \u001b[1m1s\u001b[0m 25ms/step - accuracy: 0.6825 - loss: 0.8194 - val_accuracy: 0.5800 - val_loss: 1.0374\n",
            "Epoch 9/100\n",
            "\u001b[1m45/45\u001b[0m \u001b[32m━━━━━━━━━━━━━━━━━━━━\u001b[0m\u001b[37m\u001b[0m \u001b[1m2s\u001b[0m 35ms/step - accuracy: 0.7153 - loss: 0.7730 - val_accuracy: 0.6011 - val_loss: 1.0185\n",
            "Epoch 10/100\n",
            "\u001b[1m45/45\u001b[0m \u001b[32m━━━━━━━━━━━━━━━━━━━━\u001b[0m\u001b[37m\u001b[0m \u001b[1m2s\u001b[0m 26ms/step - accuracy: 0.7303 - loss: 0.7285 - val_accuracy: 0.6151 - val_loss: 1.0019\n",
            "Epoch 11/100\n",
            "\u001b[1m45/45\u001b[0m \u001b[32m━━━━━━━━━━━━━━━━━━━━\u001b[0m\u001b[37m\u001b[0m \u001b[1m1s\u001b[0m 26ms/step - accuracy: 0.7514 - loss: 0.6845 - val_accuracy: 0.6169 - val_loss: 0.9858\n",
            "Epoch 12/100\n",
            "\u001b[1m45/45\u001b[0m \u001b[32m━━━━━━━━━━━━━━━━━━━━\u001b[0m\u001b[37m\u001b[0m \u001b[1m1s\u001b[0m 26ms/step - accuracy: 0.7641 - loss: 0.6404 - val_accuracy: 0.6204 - val_loss: 0.9694\n",
            "Epoch 13/100\n",
            "\u001b[1m45/45\u001b[0m \u001b[32m━━━━━━━━━━━━━━━━━━━━\u001b[0m\u001b[37m\u001b[0m \u001b[1m1s\u001b[0m 25ms/step - accuracy: 0.7799 - loss: 0.5956 - val_accuracy: 0.6151 - val_loss: 0.9531\n",
            "Epoch 14/100\n",
            "\u001b[1m45/45\u001b[0m \u001b[32m━━━━━━━━━━━━━━━━━━━━\u001b[0m\u001b[37m\u001b[0m \u001b[1m1s\u001b[0m 27ms/step - accuracy: 0.7984 - loss: 0.5495 - val_accuracy: 0.6362 - val_loss: 0.9375\n",
            "Epoch 15/100\n",
            "\u001b[1m45/45\u001b[0m \u001b[32m━━━━━━━━━━━━━━━━━━━━\u001b[0m\u001b[37m\u001b[0m \u001b[1m1s\u001b[0m 26ms/step - accuracy: 0.8256 - loss: 0.5020 - val_accuracy: 0.6626 - val_loss: 0.9234\n",
            "Epoch 16/100\n",
            "\u001b[1m45/45\u001b[0m \u001b[32m━━━━━━━━━━━━━━━━━━━━\u001b[0m\u001b[37m\u001b[0m \u001b[1m1s\u001b[0m 26ms/step - accuracy: 0.8504 - loss: 0.4532 - val_accuracy: 0.6555 - val_loss: 0.9144\n",
            "Epoch 17/100\n",
            "\u001b[1m45/45\u001b[0m \u001b[32m━━━━━━━━━━━━━━━━━━━━\u001b[0m\u001b[37m\u001b[0m \u001b[1m1s\u001b[0m 26ms/step - accuracy: 0.8672 - loss: 0.4039 - val_accuracy: 0.6626 - val_loss: 0.9112\n",
            "Epoch 18/100\n",
            "\u001b[1m45/45\u001b[0m \u001b[32m━━━━━━━━━━━━━━━━━━━━\u001b[0m\u001b[37m\u001b[0m \u001b[1m2s\u001b[0m 36ms/step - accuracy: 0.8864 - loss: 0.3547 - val_accuracy: 0.6854 - val_loss: 0.9137\n",
            "Epoch 19/100\n",
            "\u001b[1m45/45\u001b[0m \u001b[32m━━━━━━━━━━━━━━━━━━━━\u001b[0m\u001b[37m\u001b[0m \u001b[1m2s\u001b[0m 25ms/step - accuracy: 0.9033 - loss: 0.3063 - val_accuracy: 0.7030 - val_loss: 0.9243\n",
            "Epoch 20/100\n",
            "\u001b[1m45/45\u001b[0m \u001b[32m━━━━━━━━━━━━━━━━━━━━\u001b[0m\u001b[37m\u001b[0m \u001b[1m1s\u001b[0m 25ms/step - accuracy: 0.9182 - loss: 0.2602 - val_accuracy: 0.7118 - val_loss: 0.9435\n",
            "Epoch 21/100\n",
            "\u001b[1m45/45\u001b[0m \u001b[32m━━━━━━━━━━━━━━━━━━━━\u001b[0m\u001b[37m\u001b[0m \u001b[1m1s\u001b[0m 25ms/step - accuracy: 0.9360 - loss: 0.2173 - val_accuracy: 0.7293 - val_loss: 0.9699\n",
            "Epoch 22/100\n",
            "\u001b[1m45/45\u001b[0m \u001b[32m━━━━━━━━━━━━━━━━━━━━\u001b[0m\u001b[37m\u001b[0m \u001b[1m1s\u001b[0m 25ms/step - accuracy: 0.9475 - loss: 0.1821 - val_accuracy: 0.7223 - val_loss: 1.0032\n"
          ]
        }
      ]
    },
    {
      "cell_type": "markdown",
      "source": [
        "- Plot learning curves:"
      ],
      "metadata": {
        "id": "r4dO5K7FwIa_"
      }
    },
    {
      "cell_type": "code",
      "source": [
        "plt.plot(history.history['accuracy'])\n",
        "plt.plot(history.history['val_accuracy'])\n",
        "plt.title('model accuracy')\n",
        "plt.ylabel('accuracy')\n",
        "plt.xlabel('epoch')\n",
        "plt.legend(['train', 'val'], loc='upper left')\n",
        "plt.show()"
      ],
      "metadata": {
        "colab": {
          "base_uri": "https://localhost:8080/",
          "height": 472
        },
        "id": "Oxc-vb-EwGx5",
        "outputId": "167c336a-2da3-4988-92c3-dbd5642c4e2e"
      },
      "execution_count": null,
      "outputs": [
        {
          "output_type": "display_data",
          "data": {
            "text/plain": [
              "<Figure size 640x480 with 1 Axes>"
            ],
            "image/png": "[encoded data removed]"
          },
          "metadata": {}
        }
      ]
    },
    {
      "cell_type": "code",
      "source": [
        "plt.plot(history.history['loss'])\n",
        "plt.plot(history.history['val_loss'])\n",
        "plt.title('model loss')\n",
        "plt.ylabel('loss')\n",
        "plt.xlabel('epoch')\n",
        "plt.legend(['train', 'val'], loc='upper left')\n",
        "plt.show()"
      ],
      "metadata": {
        "colab": {
          "base_uri": "https://localhost:8080/",
          "height": 472
        },
        "id": "M1hptMK3wRKp",
        "outputId": "3690c1d5-88fd-411a-c370-235cedaf458a"
      },
      "execution_count": null,
      "outputs": [
        {
          "output_type": "display_data",
          "data": {
            "text/plain": [
              "<Figure size 640x480 with 1 Axes>"
            ],
            "image/png": "[encoded data removed]"
          },
          "metadata": {}
        }
      ]
    },
    {
      "cell_type": "markdown",
      "source": [
        "## Evaluation"
      ],
      "metadata": {
        "id": "QC_OfrPdREo1"
      }
    },
    {
      "cell_type": "code",
      "source": [
        "loss, accuracy, f1score, mf1score = evaluate(model, val_dataset, val_labels)\n",
        "print(\"Loss                       :\", loss)\n",
        "print(\"Accuracy                   :\", accuracy)\n",
        "print(\"F1 score                   :\", f1score)\n",
        "print(\"Macro F1 score             :\", mf1score)"
      ],
      "metadata": {
        "colab": {
          "base_uri": "https://localhost:8080/"
        },
        "id": "2JUotlvDRFSp",
        "outputId": "b1daade9-08a1-410f-d86c-0687407a1158"
      },
      "execution_count": null,
      "outputs": [
        {
          "output_type": "stream",
          "name": "stdout",
          "text": [
            "\u001b[1m9/9\u001b[0m \u001b[32m━━━━━━━━━━━━━━━━━━━━\u001b[0m\u001b[37m\u001b[0m \u001b[1m0s\u001b[0m 18ms/step - accuracy: 0.7109 - loss: 1.0808\n",
            "\u001b[1m9/9\u001b[0m \u001b[32m━━━━━━━━━━━━━━━━━━━━\u001b[0m\u001b[37m\u001b[0m \u001b[1m1s\u001b[0m 53ms/step\n",
            "Loss                       : 1.0032150745391846\n",
            "Accuracy                   : 0.7223198594024605\n",
            "F1 score                   : [0.69144981 0.65217391 0.43076923 0.81530782]\n",
            "Macro F1 score             : 0.647425194559651\n"
          ]
        }
      ]
    },
    {
      "cell_type": "code",
      "source": [
        "loss, accuracy, f1score, mf1score = evaluate(model, test_dataset, test_labels)\n",
        "print(\"Loss                       :\", loss)\n",
        "print(\"Accuracy                   :\", accuracy)\n",
        "print(\"F1 score                   :\", f1score)\n",
        "print(\"Macro F1 score             :\", mf1score)"
      ],
      "metadata": {
        "colab": {
          "base_uri": "https://localhost:8080/"
        },
        "id": "G7On0LroRMzO",
        "outputId": "484636ee-a289-4048-aa1e-f219d8cd7a73"
      },
      "execution_count": null,
      "outputs": [
        {
          "output_type": "stream",
          "name": "stdout",
          "text": [
            "\u001b[1m11/11\u001b[0m \u001b[32m━━━━━━━━━━━━━━━━━━━━\u001b[0m\u001b[37m\u001b[0m \u001b[1m0s\u001b[0m 24ms/step - accuracy: 0.7926 - loss: 0.7410\n",
            "\u001b[1m11/11\u001b[0m \u001b[32m━━━━━━━━━━━━━━━━━━━━\u001b[0m\u001b[37m\u001b[0m \u001b[1m0s\u001b[0m 9ms/step\n",
            "Loss                       : 0.8966706991195679\n",
            "Accuracy                   : 0.7554179566563467\n",
            "F1 score                   : [0.71044776 0.57657658 0.45045045 0.84897959]\n",
            "Macro F1 score             : 0.6466135950144478\n"
          ]
        }
      ]
    },
    {
      "cell_type": "markdown",
      "source": [
        "- Let's see the confusion matrix on the testing dataset:"
      ],
      "metadata": {
        "id": "95mDtG5TyziJ"
      }
    },
    {
      "cell_type": "code",
      "source": [
        "y_pred = model.predict(test_dataset)\n",
        "y_pred = np.argmax(y_pred, axis=1)\n",
        "cm = confusion_matrix(test_labels, y_pred)\n",
        "disp = ConfusionMatrixDisplay(cm)\n",
        "disp.plot()\n",
        "plt.show()"
      ],
      "metadata": {
        "colab": {
          "base_uri": "https://localhost:8080/",
          "height": 466
        },
        "id": "XtDVbR9gyAbX",
        "outputId": "2a5ed768-5df9-4113-dc59-55e6a042ec6f"
      },
      "execution_count": null,
      "outputs": [
        {
          "output_type": "stream",
          "name": "stdout",
          "text": [
            "\u001b[1m11/11\u001b[0m \u001b[32m━━━━━━━━━━━━━━━━━━━━\u001b[0m\u001b[37m\u001b[0m \u001b[1m0s\u001b[0m 15ms/step\n"
          ]
        },
        {
          "output_type": "display_data",
          "data": {
            "text/plain": [
              "<Figure size 640x480 with 2 Axes>"
            ],
            "image/png": "[encoded data removed]"
          },
          "metadata": {}
        }
      ]
    },
    {
      "cell_type": "markdown",
      "source": [
        "- The model misclassifyies too many instances from the relatively easy 'unrelated' class.\n",
        "- It also misclassifies a lot of instances from the 'agree', 'disagree', and 'discuss' classes.\n",
        "- The confusion matrix suggests that the majority 'unrelated' class, besides the relatively more represented 'agree' class are dominating the dataset."
      ],
      "metadata": {
        "id": "gWqcM1hxzjMq"
      }
    },
    {
      "cell_type": "markdown",
      "source": [
        "## A Word on overfitting"
      ],
      "metadata": {
        "id": "u19eLInmM4Q1"
      }
    },
    {
      "cell_type": "markdown",
      "source": [
        "- Needs further investigation (next step).\n",
        "- In [A first thought on overfitting](https://github.com/Ali-Mhrez/Stance-Detection/blob/main/SD_MLP.ipynb), we argue that the performance on the validation set stopped improving due to limits in the dataset, thus it is not clear how much we should attribute the learning curves to overfitting versus model struggling to capture the underlying concepts of the 'disagree' and 'discuss' classes."
      ],
      "metadata": {
        "id": "a-nlbr4KM6Gd"
      }
    }
  ]
}